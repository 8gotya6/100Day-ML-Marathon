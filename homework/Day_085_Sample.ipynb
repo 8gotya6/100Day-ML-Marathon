{
 "cells": [
  {
   "cell_type": "markdown",
   "metadata": {},
   "source": [
    "# 範例重點\n",
    "學習如何在 keras 中加入 EarlyStop  \n",
    "知道如何設定監控目標  \n",
    "比較有無 earlystopping 對 validation 的影響  "
   ]
  },
  {
   "cell_type": "code",
   "execution_count": 1,
   "metadata": {},
   "outputs": [
    {
     "name": "stderr",
     "output_type": "stream",
     "text": [
      "Using TensorFlow backend.\n"
     ]
    }
   ],
   "source": [
    "import os\n",
    "import keras\n",
    "\n",
    "# 本範例不需使用 GPU, 將 GPU 設定為 \"無\"\n",
    "os.environ[\"CUDA_VISIBLE_DEVICES\"] = \"\""
   ]
  },
  {
   "cell_type": "code",
   "execution_count": 2,
   "metadata": {},
   "outputs": [],
   "source": [
    "train, test = keras.datasets.cifar10.load_data()"
   ]
  },
  {
   "cell_type": "code",
   "execution_count": 3,
   "metadata": {},
   "outputs": [],
   "source": [
    "## 資料前處理\n",
    "def preproc_x(x, flatten=True):\n",
    "    x = x / 255.\n",
    "    if flatten:\n",
    "        x = x.reshape((len(x), -1))\n",
    "    return x\n",
    "\n",
    "def preproc_y(y, num_classes=10):\n",
    "    if y.shape[-1] == 1:\n",
    "        y = keras.utils.to_categorical(y, num_classes)\n",
    "    return y    "
   ]
  },
  {
   "cell_type": "code",
   "execution_count": 4,
   "metadata": {},
   "outputs": [],
   "source": [
    "x_train, y_train = train\n",
    "x_test, y_test = test\n",
    "\n",
    "# 資料前處理 - X 標準化\n",
    "x_train = preproc_x(x_train)\n",
    "x_test = preproc_x(x_test)\n",
    "\n",
    "# 資料前處理 -Y 轉成 onehot\n",
    "y_train = preproc_y(y_train)\n",
    "y_test = preproc_y(y_test)"
   ]
  },
  {
   "cell_type": "code",
   "execution_count": 5,
   "metadata": {},
   "outputs": [],
   "source": [
    "from keras.layers import BatchNormalization\n",
    "\n",
    "\"\"\"\n",
    "建立神經網路，並加入 BN layer\n",
    "\"\"\"\n",
    "def build_mlp(input_shape, output_units=10, num_neurons=[512, 256, 128]):\n",
    "    input_layer = keras.layers.Input(input_shape)\n",
    "    \n",
    "    for i, n_units in enumerate(num_neurons):\n",
    "        if i == 0:\n",
    "            x = keras.layers.Dense(units=n_units, \n",
    "                                   activation=\"relu\", \n",
    "                                   name=\"hidden_layer\"+str(i+1))(input_layer)\n",
    "            x = BatchNormalization()(x)\n",
    "        else:\n",
    "            x = keras.layers.Dense(units=n_units, \n",
    "                                   activation=\"relu\", \n",
    "                                   name=\"hidden_layer\"+str(i+1))(x)\n",
    "            x = BatchNormalization()(x)\n",
    "    \n",
    "    out = keras.layers.Dense(units=output_units, activation=\"softmax\", name=\"output\")(x)\n",
    "    \n",
    "    model = keras.models.Model(inputs=[input_layer], outputs=[out])\n",
    "    return model"
   ]
  },
  {
   "cell_type": "code",
   "execution_count": 6,
   "metadata": {},
   "outputs": [],
   "source": [
    "## 超參數設定\n",
    "LEARNING_RATE = 1e-3\n",
    "EPOCHS = 50\n",
    "BATCH_SIZE = 1024\n",
    "MOMENTUM = 0.95"
   ]
  },
  {
   "cell_type": "code",
   "execution_count": 7,
   "metadata": {},
   "outputs": [],
   "source": [
    "\"\"\"\n",
    "# 載入 Callbacks, 並將 monitor 設定為監控 validation loss\n",
    "\"\"\"\n",
    "from keras.callbacks import EarlyStopping\n",
    "\n",
    "earlystop = EarlyStopping(monitor=\"val_loss\", \n",
    "                          patience=5, \n",
    "                          verbose=1\n",
    "                          )"
   ]
  },
  {
   "cell_type": "code",
   "execution_count": 8,
   "metadata": {},
   "outputs": [
    {
     "name": "stderr",
     "output_type": "stream",
     "text": [
      "WARNING: Logging before flag parsing goes to stderr.\n",
      "W1011 01:26:44.564894  5392 deprecation_wrapper.py:119] From C:\\Coding\\Anaconda3\\envs\\tensorflow-gpu\\lib\\site-packages\\keras\\backend\\tensorflow_backend.py:74: The name tf.get_default_graph is deprecated. Please use tf.compat.v1.get_default_graph instead.\n",
      "\n",
      "W1011 01:26:44.606296  5392 deprecation_wrapper.py:119] From C:\\Coding\\Anaconda3\\envs\\tensorflow-gpu\\lib\\site-packages\\keras\\backend\\tensorflow_backend.py:517: The name tf.placeholder is deprecated. Please use tf.compat.v1.placeholder instead.\n",
      "\n",
      "W1011 01:26:44.615683  5392 deprecation_wrapper.py:119] From C:\\Coding\\Anaconda3\\envs\\tensorflow-gpu\\lib\\site-packages\\keras\\backend\\tensorflow_backend.py:4138: The name tf.random_uniform is deprecated. Please use tf.random.uniform instead.\n",
      "\n",
      "W1011 01:26:44.719049  5392 deprecation_wrapper.py:119] From C:\\Coding\\Anaconda3\\envs\\tensorflow-gpu\\lib\\site-packages\\keras\\backend\\tensorflow_backend.py:133: The name tf.placeholder_with_default is deprecated. Please use tf.compat.v1.placeholder_with_default instead.\n",
      "\n",
      "W1011 01:26:44.900088  5392 deprecation_wrapper.py:119] From C:\\Coding\\Anaconda3\\envs\\tensorflow-gpu\\lib\\site-packages\\keras\\optimizers.py:790: The name tf.train.Optimizer is deprecated. Please use tf.compat.v1.train.Optimizer instead.\n",
      "\n",
      "W1011 01:26:44.906531  5392 deprecation_wrapper.py:119] From C:\\Coding\\Anaconda3\\envs\\tensorflow-gpu\\lib\\site-packages\\keras\\backend\\tensorflow_backend.py:3295: The name tf.log is deprecated. Please use tf.math.log instead.\n",
      "\n",
      "W1011 01:26:44.994446  5392 deprecation.py:323] From C:\\Coding\\Anaconda3\\envs\\tensorflow-gpu\\lib\\site-packages\\tensorflow\\python\\ops\\math_grad.py:1250: add_dispatch_support.<locals>.wrapper (from tensorflow.python.ops.array_ops) is deprecated and will be removed in a future version.\n",
      "Instructions for updating:\n",
      "Use tf.where in 2.0, which has the same broadcast rule as np.where\n"
     ]
    },
    {
     "name": "stdout",
     "output_type": "stream",
     "text": [
      "_________________________________________________________________\n",
      "Layer (type)                 Output Shape              Param #   \n",
      "=================================================================\n",
      "input_1 (InputLayer)         (None, 3072)              0         \n",
      "_________________________________________________________________\n",
      "hidden_layer1 (Dense)        (None, 512)               1573376   \n",
      "_________________________________________________________________\n",
      "batch_normalization_1 (Batch (None, 512)               2048      \n",
      "_________________________________________________________________\n",
      "hidden_layer2 (Dense)        (None, 256)               131328    \n",
      "_________________________________________________________________\n",
      "batch_normalization_2 (Batch (None, 256)               1024      \n",
      "_________________________________________________________________\n",
      "hidden_layer3 (Dense)        (None, 128)               32896     \n",
      "_________________________________________________________________\n",
      "batch_normalization_3 (Batch (None, 128)               512       \n",
      "_________________________________________________________________\n",
      "output (Dense)               (None, 10)                1290      \n",
      "=================================================================\n",
      "Total params: 1,742,474\n",
      "Trainable params: 1,740,682\n",
      "Non-trainable params: 1,792\n",
      "_________________________________________________________________\n",
      "Train on 50000 samples, validate on 10000 samples\n",
      "Epoch 1/50\n",
      "50000/50000 [==============================] - 12s 231us/step - loss: 2.2179 - acc: 0.2724 - val_loss: 2.1282 - val_acc: 0.3099\n",
      "Epoch 2/50\n",
      "50000/50000 [==============================] - 5s 92us/step - loss: 1.7457 - acc: 0.3902 - val_loss: 1.7864 - val_acc: 0.3827\n",
      "Epoch 3/50\n",
      "50000/50000 [==============================] - 5s 91us/step - loss: 1.6151 - acc: 0.4353 - val_loss: 1.6943 - val_acc: 0.4022\n",
      "Epoch 4/50\n",
      "50000/50000 [==============================] - 4s 89us/step - loss: 1.5403 - acc: 0.4596 - val_loss: 1.6341 - val_acc: 0.4231\n",
      "Epoch 5/50\n",
      "50000/50000 [==============================] - 4s 86us/step - loss: 1.4823 - acc: 0.4801 - val_loss: 1.5963 - val_acc: 0.4336\n",
      "Epoch 6/50\n",
      "50000/50000 [==============================] - 4s 86us/step - loss: 1.4359 - acc: 0.4986 - val_loss: 1.5752 - val_acc: 0.4488\n",
      "Epoch 7/50\n",
      "50000/50000 [==============================] - 4s 86us/step - loss: 1.3972 - acc: 0.5128 - val_loss: 1.5531 - val_acc: 0.4515\n",
      "Epoch 8/50\n",
      "50000/50000 [==============================] - 4s 86us/step - loss: 1.3615 - acc: 0.5257 - val_loss: 1.5297 - val_acc: 0.4588\n",
      "Epoch 9/50\n",
      "50000/50000 [==============================] - 4s 86us/step - loss: 1.3294 - acc: 0.5360 - val_loss: 1.5160 - val_acc: 0.4618\n",
      "Epoch 10/50\n",
      "50000/50000 [==============================] - 4s 86us/step - loss: 1.2988 - acc: 0.5472 - val_loss: 1.4992 - val_acc: 0.4681\n",
      "Epoch 11/50\n",
      "50000/50000 [==============================] - 4s 85us/step - loss: 1.2714 - acc: 0.5571 - val_loss: 1.4941 - val_acc: 0.4756\n",
      "Epoch 12/50\n",
      "50000/50000 [==============================] - 4s 86us/step - loss: 1.2464 - acc: 0.5674 - val_loss: 1.4734 - val_acc: 0.4816\n",
      "Epoch 13/50\n",
      "50000/50000 [==============================] - 4s 86us/step - loss: 1.2193 - acc: 0.5772 - val_loss: 1.4742 - val_acc: 0.4746\n",
      "Epoch 14/50\n",
      "50000/50000 [==============================] - 4s 86us/step - loss: 1.1958 - acc: 0.5866 - val_loss: 1.4697 - val_acc: 0.4810\n",
      "Epoch 15/50\n",
      "50000/50000 [==============================] - 4s 86us/step - loss: 1.1724 - acc: 0.5950 - val_loss: 1.4706 - val_acc: 0.4801\n",
      "Epoch 16/50\n",
      "50000/50000 [==============================] - 4s 86us/step - loss: 1.1478 - acc: 0.6044 - val_loss: 1.4762 - val_acc: 0.4777\n",
      "Epoch 17/50\n",
      "50000/50000 [==============================] - 4s 86us/step - loss: 1.1257 - acc: 0.6109 - val_loss: 1.4666 - val_acc: 0.4837\n",
      "Epoch 18/50\n",
      "50000/50000 [==============================] - 4s 86us/step - loss: 1.1046 - acc: 0.6221 - val_loss: 1.4611 - val_acc: 0.4877\n",
      "Epoch 19/50\n",
      "50000/50000 [==============================] - 4s 86us/step - loss: 1.0822 - acc: 0.6287 - val_loss: 1.4544 - val_acc: 0.4877\n",
      "Epoch 20/50\n",
      "50000/50000 [==============================] - 4s 86us/step - loss: 1.0605 - acc: 0.6379 - val_loss: 1.4528 - val_acc: 0.4871\n",
      "Epoch 21/50\n",
      "50000/50000 [==============================] - 4s 86us/step - loss: 1.0389 - acc: 0.6466 - val_loss: 1.4699 - val_acc: 0.4849\n",
      "Epoch 22/50\n",
      "50000/50000 [==============================] - 4s 86us/step - loss: 1.0174 - acc: 0.6529 - val_loss: 1.4534 - val_acc: 0.4930\n",
      "Epoch 23/50\n",
      "50000/50000 [==============================] - 4s 86us/step - loss: 0.9974 - acc: 0.6619 - val_loss: 1.4572 - val_acc: 0.4932\n",
      "Epoch 24/50\n",
      "50000/50000 [==============================] - 4s 86us/step - loss: 0.9766 - acc: 0.6710 - val_loss: 1.4671 - val_acc: 0.4948\n",
      "Epoch 25/50\n",
      "50000/50000 [==============================] - 4s 86us/step - loss: 0.9557 - acc: 0.6792 - val_loss: 1.4682 - val_acc: 0.4941\n",
      "Epoch 00025: early stopping\n"
     ]
    }
   ],
   "source": [
    "model = build_mlp(input_shape=x_train.shape[1:])\n",
    "model.summary()\n",
    "optimizer = keras.optimizers.SGD(lr=LEARNING_RATE, nesterov=True, momentum=MOMENTUM)\n",
    "model.compile(loss=\"categorical_crossentropy\", metrics=[\"accuracy\"], optimizer=optimizer)\n",
    "\n",
    "model.fit(x_train, y_train, \n",
    "          epochs=EPOCHS, \n",
    "          batch_size=BATCH_SIZE, \n",
    "          validation_data=(x_test, y_test), \n",
    "          shuffle=True,\n",
    "          callbacks=[earlystop]\n",
    "         )\n",
    "\n",
    "# Collect results\n",
    "train_loss = model.history.history[\"loss\"]\n",
    "valid_loss = model.history.history[\"val_loss\"]\n",
    "train_acc = model.history.history[\"acc\"]\n",
    "valid_acc = model.history.history[\"val_acc\"]"
   ]
  },
  {
   "cell_type": "code",
   "execution_count": 9,
   "metadata": {},
   "outputs": [
    {
     "data": {
      "image/png": "[encoded data removed]",
      "text/plain": [
       "<Figure size 432x288 with 1 Axes>"
      ]
     },
     "metadata": {
      "needs_background": "light"
     },
     "output_type": "display_data"
    },
    {
     "data": {
      "image/png": "[encoded data removed]",
      "text/plain": [
       "<Figure size 432x288 with 1 Axes>"
      ]
     },
     "metadata": {
      "needs_background": "light"
     },
     "output_type": "display_data"
    }
   ],
   "source": [
    "import matplotlib.pyplot as plt\n",
    "%matplotlib inline\n",
    "\n",
    "plt.plot(range(len(train_loss)), train_loss, label=\"train loss\")\n",
    "plt.plot(range(len(valid_loss)), valid_loss, label=\"valid loss\")\n",
    "plt.legend()\n",
    "plt.title(\"Loss\")\n",
    "plt.show()\n",
    "\n",
    "plt.plot(range(len(train_acc)), train_acc, label=\"train accuracy\")\n",
    "plt.plot(range(len(valid_acc)), valid_acc, label=\"valid accuracy\")\n",
    "plt.legend()\n",
    "plt.title(\"Accuracy\")\n",
    "plt.show()"
   ]
  },
  {
   "cell_type": "code",
   "execution_count": null,
   "metadata": {},
   "outputs": [],
   "source": []
  }
 ],
 "metadata": {
  "kernelspec": {
   "display_name": "Python (tensorflow-gpu)",
   "language": "python",
   "name": "tensorflow-gpu"
  },
  "language_info": {
   "codemirror_mode": {
    "name": "ipython",
    "version": 3
   },
   "file_extension": ".py",
   "mimetype": "text/x-python",
   "name": "python",
   "nbconvert_exporter": "python",
   "pygments_lexer": "ipython3",
   "version": "3.6.8"
  }
 },
 "nbformat": 4,
 "nbformat_minor": 2
}
