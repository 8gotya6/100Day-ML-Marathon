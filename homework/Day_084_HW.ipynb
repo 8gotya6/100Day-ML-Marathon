{
 "cells": [
  {
   "cell_type": "markdown",
   "metadata": {},
   "source": [
    "# Work\n",
    "請結合前面的知識與程式碼，比較不同的 regularization 的組合對訓練的結果與影響：如 dropout, regularizers, batch-normalization 等"
   ]
  },
  {
   "cell_type": "code",
   "execution_count": 1,
   "metadata": {},
   "outputs": [
    {
     "name": "stderr",
     "output_type": "stream",
     "text": [
      "Using TensorFlow backend.\n"
     ]
    }
   ],
   "source": [
    "import os\n",
    "import keras\n",
    "import itertools\n",
    "# Disable GPU\n",
    "os.environ[\"CUDA_VISIBLE_DEVICES\"] = \"\""
   ]
  },
  {
   "cell_type": "code",
   "execution_count": 2,
   "metadata": {},
   "outputs": [],
   "source": [
    "train, test = keras.datasets.cifar10.load_data()"
   ]
  },
  {
   "cell_type": "code",
   "execution_count": 3,
   "metadata": {},
   "outputs": [],
   "source": [
    "## 資料前處理\n",
    "def preproc_x(x, flatten=True):\n",
    "    x = x / 255.\n",
    "    if flatten:\n",
    "        x = x.reshape((len(x), -1))\n",
    "    return x\n",
    "\n",
    "def preproc_y(y, num_classes=10):\n",
    "    if y.shape[-1] == 1:\n",
    "        y = keras.utils.to_categorical(y, num_classes)\n",
    "    return y "
   ]
  },
  {
   "cell_type": "code",
   "execution_count": 4,
   "metadata": {},
   "outputs": [],
   "source": [
    "x_train, y_train = train\n",
    "x_test, y_test = test\n",
    "\n",
    "# Preproc the inputs\n",
    "x_train = preproc_x(x_train)\n",
    "x_test = preproc_x(x_test)\n",
    "\n",
    "# Preprc the outputs\n",
    "y_train = preproc_y(y_train)\n",
    "y_test = preproc_y(y_test)"
   ]
  },
  {
   "cell_type": "code",
   "execution_count": 5,
   "metadata": {},
   "outputs": [],
   "source": [
    "from keras.layers import BatchNormalization\n",
    "\n",
    "\"\"\"\n",
    "建立神經網路，並加入 BN layer\n",
    "\"\"\"\n",
    "def build_mlp(input_shape, output_units=10, num_neurons=[512, 256, 128]):\n",
    "    input_layer = keras.layers.Input(input_shape)\n",
    "    \n",
    "    for i, n_units in enumerate(num_neurons):\n",
    "        if i == 0:\n",
    "            x = keras.layers.Dense(units=n_units, \n",
    "                                   activation=\"relu\", \n",
    "                                   name=\"hidden_layer\"+str(i+1))(input_layer)\n",
    "            x = BatchNormalization()(x)\n",
    "        else:\n",
    "            x = keras.layers.Dense(units=n_units, \n",
    "                                   activation=\"relu\", \n",
    "                                   name=\"hidden_layer\"+str(i+1))(x)\n",
    "            x = BatchNormalization()(x)\n",
    "    \n",
    "    out = keras.layers.Dense(units=output_units, activation=\"softmax\", name=\"output\")(x)\n",
    "    \n",
    "    model = keras.models.Model(inputs=[input_layer], outputs=[out])\n",
    "    return model"
   ]
  },
  {
   "cell_type": "code",
   "execution_count": 6,
   "metadata": {},
   "outputs": [],
   "source": [
    "\"\"\"Code Here\n",
    "設定超參數\n",
    "\"\"\"\n",
    "LEARNING_RATE = 1e-3\n",
    "EPOCHS = 50\n",
    "BATCH_SIZE = 1024\n",
    "MOMENTUM = 0.95"
   ]
  },
  {
   "cell_type": "code",
   "execution_count": 7,
   "metadata": {},
   "outputs": [
    {
     "name": "stderr",
     "output_type": "stream",
     "text": [
      "WARNING: Logging before flag parsing goes to stderr.\n",
      "W1005 15:04:32.891329 13392 deprecation_wrapper.py:119] From C:\\Coding\\Anaconda3\\envs\\tensorflow-gpu\\lib\\site-packages\\keras\\backend\\tensorflow_backend.py:74: The name tf.get_default_graph is deprecated. Please use tf.compat.v1.get_default_graph instead.\n",
      "\n",
      "W1005 15:04:32.964375 13392 deprecation_wrapper.py:119] From C:\\Coding\\Anaconda3\\envs\\tensorflow-gpu\\lib\\site-packages\\keras\\backend\\tensorflow_backend.py:517: The name tf.placeholder is deprecated. Please use tf.compat.v1.placeholder instead.\n",
      "\n",
      "W1005 15:04:32.985275 13392 deprecation_wrapper.py:119] From C:\\Coding\\Anaconda3\\envs\\tensorflow-gpu\\lib\\site-packages\\keras\\backend\\tensorflow_backend.py:4138: The name tf.random_uniform is deprecated. Please use tf.random.uniform instead.\n",
      "\n",
      "W1005 15:04:33.124600 13392 deprecation_wrapper.py:119] From C:\\Coding\\Anaconda3\\envs\\tensorflow-gpu\\lib\\site-packages\\keras\\backend\\tensorflow_backend.py:133: The name tf.placeholder_with_default is deprecated. Please use tf.compat.v1.placeholder_with_default instead.\n",
      "\n",
      "W1005 15:04:33.305083 13392 deprecation_wrapper.py:119] From C:\\Coding\\Anaconda3\\envs\\tensorflow-gpu\\lib\\site-packages\\keras\\optimizers.py:790: The name tf.train.Optimizer is deprecated. Please use tf.compat.v1.train.Optimizer instead.\n",
      "\n",
      "W1005 15:04:33.311108 13392 deprecation_wrapper.py:119] From C:\\Coding\\Anaconda3\\envs\\tensorflow-gpu\\lib\\site-packages\\keras\\backend\\tensorflow_backend.py:3295: The name tf.log is deprecated. Please use tf.math.log instead.\n",
      "\n",
      "W1005 15:04:33.408857 13392 deprecation.py:323] From C:\\Coding\\Anaconda3\\envs\\tensorflow-gpu\\lib\\site-packages\\tensorflow\\python\\ops\\math_grad.py:1250: add_dispatch_support.<locals>.wrapper (from tensorflow.python.ops.array_ops) is deprecated and will be removed in a future version.\n",
      "Instructions for updating:\n",
      "Use tf.where in 2.0, which has the same broadcast rule as np.where\n"
     ]
    },
    {
     "name": "stdout",
     "output_type": "stream",
     "text": [
      "_________________________________________________________________\n",
      "Layer (type)                 Output Shape              Param #   \n",
      "=================================================================\n",
      "input_1 (InputLayer)         (None, 3072)              0         \n",
      "_________________________________________________________________\n",
      "hidden_layer1 (Dense)        (None, 512)               1573376   \n",
      "_________________________________________________________________\n",
      "batch_normalization_1 (Batch (None, 512)               2048      \n",
      "_________________________________________________________________\n",
      "hidden_layer2 (Dense)        (None, 256)               131328    \n",
      "_________________________________________________________________\n",
      "batch_normalization_2 (Batch (None, 256)               1024      \n",
      "_________________________________________________________________\n",
      "hidden_layer3 (Dense)        (None, 128)               32896     \n",
      "_________________________________________________________________\n",
      "batch_normalization_3 (Batch (None, 128)               512       \n",
      "_________________________________________________________________\n",
      "output (Dense)               (None, 10)                1290      \n",
      "=================================================================\n",
      "Total params: 1,742,474\n",
      "Trainable params: 1,740,682\n",
      "Non-trainable params: 1,792\n",
      "_________________________________________________________________\n",
      "Train on 50000 samples, validate on 10000 samples\n",
      "Epoch 1/50\n",
      "50000/50000 [==============================] - 8s 151us/step - loss: 2.1923 - acc: 0.2755 - val_loss: 2.0690 - val_acc: 0.3324\n",
      "Epoch 2/50\n",
      "50000/50000 [==============================] - 3s 63us/step - loss: 1.7393 - acc: 0.3902 - val_loss: 1.7750 - val_acc: 0.3885\n",
      "Epoch 3/50\n",
      "50000/50000 [==============================] - 3s 59us/step - loss: 1.6160 - acc: 0.4333 - val_loss: 1.6981 - val_acc: 0.4037\n",
      "Epoch 4/50\n",
      "50000/50000 [==============================] - 3s 56us/step - loss: 1.5468 - acc: 0.4570 - val_loss: 1.6405 - val_acc: 0.4228\n",
      "Epoch 5/50\n",
      "50000/50000 [==============================] - 3s 62us/step - loss: 1.4908 - acc: 0.4754 - val_loss: 1.6041 - val_acc: 0.4360\n",
      "Epoch 6/50\n",
      "50000/50000 [==============================] - 3s 60us/step - loss: 1.4456 - acc: 0.4934 - val_loss: 1.5749 - val_acc: 0.4486\n",
      "Epoch 7/50\n",
      "50000/50000 [==============================] - 3s 61us/step - loss: 1.4074 - acc: 0.5071 - val_loss: 1.5491 - val_acc: 0.4519\n",
      "Epoch 8/50\n",
      "50000/50000 [==============================] - 3s 67us/step - loss: 1.3740 - acc: 0.5189 - val_loss: 1.5367 - val_acc: 0.4527\n",
      "Epoch 9/50\n",
      "50000/50000 [==============================] - 3s 60us/step - loss: 1.3417 - acc: 0.5319 - val_loss: 1.5323 - val_acc: 0.4622\n",
      "Epoch 10/50\n",
      "50000/50000 [==============================] - 3s 59us/step - loss: 1.3140 - acc: 0.5395 - val_loss: 1.5056 - val_acc: 0.4724\n",
      "Epoch 11/50\n",
      "50000/50000 [==============================] - 3s 57us/step - loss: 1.2852 - acc: 0.5515 - val_loss: 1.5172 - val_acc: 0.4697\n",
      "Epoch 12/50\n",
      "50000/50000 [==============================] - 3s 57us/step - loss: 1.2598 - acc: 0.5637 - val_loss: 1.4963 - val_acc: 0.4775\n",
      "Epoch 13/50\n",
      "50000/50000 [==============================] - 3s 57us/step - loss: 1.2333 - acc: 0.5722 - val_loss: 1.4935 - val_acc: 0.4765\n",
      "Epoch 14/50\n",
      "50000/50000 [==============================] - 3s 58us/step - loss: 1.2078 - acc: 0.5821 - val_loss: 1.4829 - val_acc: 0.4796\n",
      "Epoch 15/50\n",
      "50000/50000 [==============================] - 3s 58us/step - loss: 1.1850 - acc: 0.5894 - val_loss: 1.4867 - val_acc: 0.4797\n",
      "Epoch 16/50\n",
      "50000/50000 [==============================] - 3s 58us/step - loss: 1.1619 - acc: 0.5987 - val_loss: 1.4995 - val_acc: 0.4763\n",
      "Epoch 17/50\n",
      "50000/50000 [==============================] - 3s 57us/step - loss: 1.1397 - acc: 0.6074 - val_loss: 1.4713 - val_acc: 0.4838\n",
      "Epoch 18/50\n",
      "50000/50000 [==============================] - 3s 56us/step - loss: 1.1157 - acc: 0.6168 - val_loss: 1.4739 - val_acc: 0.4860\n",
      "Epoch 19/50\n",
      "50000/50000 [==============================] - 3s 58us/step - loss: 1.0934 - acc: 0.6253 - val_loss: 1.4798 - val_acc: 0.4880\n",
      "Epoch 20/50\n",
      "50000/50000 [==============================] - 3s 57us/step - loss: 1.0723 - acc: 0.6342 - val_loss: 1.4650 - val_acc: 0.4895\n",
      "Epoch 21/50\n",
      "50000/50000 [==============================] - 3s 58us/step - loss: 1.0507 - acc: 0.6412 - val_loss: 1.4630 - val_acc: 0.4892\n",
      "Epoch 22/50\n",
      "50000/50000 [==============================] - 3s 57us/step - loss: 1.0296 - acc: 0.6496 - val_loss: 1.4673 - val_acc: 0.4898\n",
      "Epoch 23/50\n",
      "50000/50000 [==============================] - 3s 57us/step - loss: 1.0103 - acc: 0.6574 - val_loss: 1.4716 - val_acc: 0.4900\n",
      "Epoch 24/50\n",
      "50000/50000 [==============================] - 3s 57us/step - loss: 0.9888 - acc: 0.6678 - val_loss: 1.4679 - val_acc: 0.4897\n",
      "Epoch 25/50\n",
      "50000/50000 [==============================] - 3s 56us/step - loss: 0.9673 - acc: 0.6745 - val_loss: 1.4848 - val_acc: 0.4893\n",
      "Epoch 26/50\n",
      "50000/50000 [==============================] - 3s 57us/step - loss: 0.9501 - acc: 0.6803 - val_loss: 1.4707 - val_acc: 0.4945\n",
      "Epoch 27/50\n",
      "50000/50000 [==============================] - 3s 58us/step - loss: 0.9277 - acc: 0.6901 - val_loss: 1.4932 - val_acc: 0.4937\n",
      "Epoch 28/50\n",
      "50000/50000 [==============================] - 3s 57us/step - loss: 0.9098 - acc: 0.6975 - val_loss: 1.5025 - val_acc: 0.4939\n",
      "Epoch 29/50\n",
      "50000/50000 [==============================] - 3s 59us/step - loss: 0.8909 - acc: 0.7045 - val_loss: 1.4916 - val_acc: 0.4954\n",
      "Epoch 30/50\n",
      "50000/50000 [==============================] - 3s 58us/step - loss: 0.8703 - acc: 0.7126 - val_loss: 1.5003 - val_acc: 0.4904\n",
      "Epoch 31/50\n",
      "50000/50000 [==============================] - 3s 58us/step - loss: 0.8499 - acc: 0.7209 - val_loss: 1.5090 - val_acc: 0.4939\n",
      "Epoch 32/50\n",
      "50000/50000 [==============================] - 3s 57us/step - loss: 0.8313 - acc: 0.7288 - val_loss: 1.5170 - val_acc: 0.4879\n",
      "Epoch 33/50\n",
      "50000/50000 [==============================] - 3s 57us/step - loss: 0.8118 - acc: 0.7355 - val_loss: 1.5283 - val_acc: 0.4880\n",
      "Epoch 34/50\n",
      "50000/50000 [==============================] - 3s 58us/step - loss: 0.7948 - acc: 0.7421 - val_loss: 1.5444 - val_acc: 0.4866\n",
      "Epoch 35/50\n",
      "50000/50000 [==============================] - 3s 57us/step - loss: 0.7750 - acc: 0.7493 - val_loss: 1.5490 - val_acc: 0.4896\n",
      "Epoch 36/50\n",
      "50000/50000 [==============================] - 3s 58us/step - loss: 0.7572 - acc: 0.7566 - val_loss: 1.5363 - val_acc: 0.4950\n",
      "Epoch 37/50\n",
      "50000/50000 [==============================] - 3s 57us/step - loss: 0.7379 - acc: 0.7650 - val_loss: 1.5508 - val_acc: 0.4926\n",
      "Epoch 38/50\n",
      "50000/50000 [==============================] - 3s 58us/step - loss: 0.7197 - acc: 0.7745 - val_loss: 1.5506 - val_acc: 0.4894\n",
      "Epoch 39/50\n",
      "50000/50000 [==============================] - 3s 59us/step - loss: 0.6996 - acc: 0.7813 - val_loss: 1.5716 - val_acc: 0.4911\n",
      "Epoch 40/50\n",
      "50000/50000 [==============================] - 3s 57us/step - loss: 0.6826 - acc: 0.7864 - val_loss: 1.5886 - val_acc: 0.4895\n",
      "Epoch 41/50\n",
      "50000/50000 [==============================] - 3s 61us/step - loss: 0.6642 - acc: 0.7940 - val_loss: 1.5976 - val_acc: 0.4974\n",
      "Epoch 42/50\n",
      "50000/50000 [==============================] - 3s 62us/step - loss: 0.6460 - acc: 0.8034 - val_loss: 1.6215 - val_acc: 0.4869\n",
      "Epoch 43/50\n",
      "50000/50000 [==============================] - 3s 59us/step - loss: 0.6303 - acc: 0.8073 - val_loss: 1.6175 - val_acc: 0.4840\n",
      "Epoch 44/50\n",
      "50000/50000 [==============================] - 3s 59us/step - loss: 0.6138 - acc: 0.8135 - val_loss: 1.6364 - val_acc: 0.4908\n",
      "Epoch 45/50\n",
      "50000/50000 [==============================] - 3s 58us/step - loss: 0.5947 - acc: 0.8222 - val_loss: 1.6348 - val_acc: 0.4857\n",
      "Epoch 46/50\n",
      "50000/50000 [==============================] - 3s 60us/step - loss: 0.5791 - acc: 0.8289 - val_loss: 1.6512 - val_acc: 0.4889\n",
      "Epoch 47/50\n",
      "50000/50000 [==============================] - 3s 59us/step - loss: 0.5601 - acc: 0.8358 - val_loss: 1.6539 - val_acc: 0.4870\n",
      "Epoch 48/50\n",
      "50000/50000 [==============================] - 3s 59us/step - loss: 0.5436 - acc: 0.8423 - val_loss: 1.6875 - val_acc: 0.4831\n",
      "Epoch 49/50\n"
     ]
    },
    {
     "name": "stdout",
     "output_type": "stream",
     "text": [
      "50000/50000 [==============================] - 3s 61us/step - loss: 0.5269 - acc: 0.8496 - val_loss: 1.7079 - val_acc: 0.4816\n",
      "Epoch 50/50\n",
      "50000/50000 [==============================] - 3s 63us/step - loss: 0.5143 - acc: 0.8532 - val_loss: 1.7161 - val_acc: 0.4818\n"
     ]
    }
   ],
   "source": [
    "results = {}\n",
    "\"\"\"Code Here\n",
    "撰寫你的訓練流程並將結果用 dictionary 紀錄\n",
    "\"\"\"\n",
    "model = build_mlp(input_shape=x_train.shape[1:])\n",
    "model.summary()\n",
    "optimizer = keras.optimizers.SGD(lr=LEARNING_RATE, nesterov=True, momentum=MOMENTUM)\n",
    "model.compile(loss=\"categorical_crossentropy\", metrics=[\"accuracy\"], optimizer=optimizer)\n",
    "\n",
    "model.fit(x_train, y_train, \n",
    "          epochs=EPOCHS, \n",
    "          batch_size=BATCH_SIZE, \n",
    "          validation_data=(x_test, y_test), \n",
    "          shuffle=True)\n",
    "\n",
    "# Collect results\n",
    "train_loss = model.history.history[\"loss\"]\n",
    "valid_loss = model.history.history[\"val_loss\"]\n",
    "train_acc = model.history.history[\"acc\"]\n",
    "valid_acc = model.history.history[\"val_acc\"]"
   ]
  },
  {
   "cell_type": "code",
   "execution_count": 8,
   "metadata": {},
   "outputs": [
    {
     "data": {
      "image/png": "[encoded data removed]",
      "text/plain": [
       "<Figure size 432x288 with 1 Axes>"
      ]
     },
     "metadata": {
      "needs_background": "light"
     },
     "output_type": "display_data"
    },
    {
     "data": {
      "image/png": "[encoded data removed]",
      "text/plain": [
       "<Figure size 432x288 with 1 Axes>"
      ]
     },
     "metadata": {
      "needs_background": "light"
     },
     "output_type": "display_data"
    }
   ],
   "source": [
    "import matplotlib.pyplot as plt\n",
    "%matplotlib inline\n",
    "\"\"\"Code Here\n",
    "將結果繪出\n",
    "\"\"\"\n",
    "import matplotlib.pyplot as plt\n",
    "%matplotlib inline\n",
    "\n",
    "plt.plot(range(len(train_loss)), train_loss, label=\"train loss\")\n",
    "plt.plot(range(len(valid_loss)), valid_loss, label=\"valid loss\")\n",
    "plt.legend()\n",
    "plt.title(\"Loss\")\n",
    "plt.show()\n",
    "\n",
    "plt.plot(range(len(train_acc)), train_acc, label=\"train accuracy\")\n",
    "plt.plot(range(len(valid_acc)), valid_acc, label=\"valid accuracy\")\n",
    "plt.legend()\n",
    "plt.title(\"Accuracy\")\n",
    "plt.show()"
   ]
  },
  {
   "cell_type": "code",
   "execution_count": null,
   "metadata": {},
   "outputs": [],
   "source": []
  }
 ],
 "metadata": {
  "kernelspec": {
   "display_name": "Python (tensorflow-gpu)",
   "language": "python",
   "name": "tensorflow-gpu"
  },
  "language_info": {
   "codemirror_mode": {
    "name": "ipython",
    "version": 3
   },
   "file_extension": ".py",
   "mimetype": "text/x-python",
   "name": "python",
   "nbconvert_exporter": "python",
   "pygments_lexer": "ipython3",
   "version": "3.6.8"
  }
 },
 "nbformat": 4,
 "nbformat_minor": 2
}
