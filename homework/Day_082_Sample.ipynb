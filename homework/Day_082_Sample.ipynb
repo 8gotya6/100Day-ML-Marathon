{
 "cells": [
  {
   "cell_type": "markdown",
   "metadata": {},
   "source": [
    "# 範例重點\n",
    "知道如何在 keras 中加入 dropout  \n",
    "了解 dropout 中 ratio 的意義與對訓練的影響"
   ]
  },
  {
   "cell_type": "code",
   "execution_count": 1,
   "metadata": {},
   "outputs": [
    {
     "name": "stderr",
     "output_type": "stream",
     "text": [
      "Using TensorFlow backend.\n"
     ]
    }
   ],
   "source": [
    "import os\n",
    "import keras\n",
    "\n",
    "# 本範例不需使用 GPU, 將 GPU 設定為 \"無\"\n",
    "os.environ[\"CUDA_VISIBLE_DEVICES\"] = \"\""
   ]
  },
  {
   "cell_type": "code",
   "execution_count": 2,
   "metadata": {},
   "outputs": [],
   "source": [
    "train, test = keras.datasets.cifar10.load_data()"
   ]
  },
  {
   "cell_type": "code",
   "execution_count": 3,
   "metadata": {},
   "outputs": [],
   "source": [
    "## 資料前處理\n",
    "def preproc_x(x, flatten=True):\n",
    "    x = x / 255.\n",
    "    if flatten:\n",
    "        x = x.reshape((len(x), -1))\n",
    "    return x\n",
    "\n",
    "def preproc_y(y, num_classes=10):\n",
    "    if y.shape[-1] == 1:\n",
    "        y = keras.utils.to_categorical(y, num_classes)\n",
    "    return y    "
   ]
  },
  {
   "cell_type": "code",
   "execution_count": 4,
   "metadata": {},
   "outputs": [],
   "source": [
    "x_train, y_train = train\n",
    "x_test, y_test = test\n",
    "\n",
    "# 資料前處理 - X 標準化\n",
    "x_train = preproc_x(x_train)\n",
    "x_test = preproc_x(x_test)\n",
    "\n",
    "# 資料前處理 -Y 轉成 onehot\n",
    "y_train = preproc_y(y_train)\n",
    "y_test = preproc_y(y_test)"
   ]
  },
  {
   "cell_type": "code",
   "execution_count": 5,
   "metadata": {},
   "outputs": [],
   "source": [
    "from keras.layers import Dropout\n",
    "\n",
    "\"\"\"\n",
    "建立神經網路，並加入 dropout layer\n",
    "\"\"\"\n",
    "def build_mlp(input_shape, output_units=10, num_neurons=[512, 256, 128], drp_ratio=0.2):\n",
    "    input_layer = keras.layers.Input(input_shape)\n",
    "    \n",
    "    for i, n_units in enumerate(num_neurons):\n",
    "        if i == 0:\n",
    "            x = keras.layers.Dense(units=n_units, \n",
    "                                   activation=\"relu\", \n",
    "                                   name=\"hidden_layer\"+str(i+1))(input_layer)\n",
    "            x = Dropout(drp_ratio)(x)\n",
    "        else:\n",
    "            x = keras.layers.Dense(units=n_units, \n",
    "                                   activation=\"relu\", \n",
    "                                   name=\"hidden_layer\"+str(i+1))(x)\n",
    "            x = Dropout(drp_ratio)(x)\n",
    "    \n",
    "    out = keras.layers.Dense(units=output_units, activation=\"softmax\", name=\"output\")(x)\n",
    "    \n",
    "    model = keras.models.Model(inputs=[input_layer], outputs=[out])\n",
    "    return model"
   ]
  },
  {
   "cell_type": "code",
   "execution_count": 6,
   "metadata": {},
   "outputs": [],
   "source": [
    "## 超參數設定\n",
    "LEARNING_RATE = 1e-3\n",
    "EPOCHS = 50\n",
    "BATCH_SIZE = 256\n",
    "MOMENTUM = 0.95\n",
    "Dropout_EXP = 0.25"
   ]
  },
  {
   "cell_type": "code",
   "execution_count": 7,
   "metadata": {},
   "outputs": [
    {
     "name": "stderr",
     "output_type": "stream",
     "text": [
      "WARNING: Logging before flag parsing goes to stderr.\n",
      "W0919 21:34:39.111421  9456 deprecation_wrapper.py:119] From C:\\Coding\\Anaconda3\\envs\\tensorflow-gpu\\lib\\site-packages\\keras\\backend\\tensorflow_backend.py:74: The name tf.get_default_graph is deprecated. Please use tf.compat.v1.get_default_graph instead.\n",
      "\n",
      "W0919 21:34:39.151325  9456 deprecation_wrapper.py:119] From C:\\Coding\\Anaconda3\\envs\\tensorflow-gpu\\lib\\site-packages\\keras\\backend\\tensorflow_backend.py:517: The name tf.placeholder is deprecated. Please use tf.compat.v1.placeholder instead.\n",
      "\n",
      "W0919 21:34:39.161291  9456 deprecation_wrapper.py:119] From C:\\Coding\\Anaconda3\\envs\\tensorflow-gpu\\lib\\site-packages\\keras\\backend\\tensorflow_backend.py:4138: The name tf.random_uniform is deprecated. Please use tf.random.uniform instead.\n",
      "\n",
      "W0919 21:34:39.181195  9456 deprecation_wrapper.py:119] From C:\\Coding\\Anaconda3\\envs\\tensorflow-gpu\\lib\\site-packages\\keras\\backend\\tensorflow_backend.py:133: The name tf.placeholder_with_default is deprecated. Please use tf.compat.v1.placeholder_with_default instead.\n",
      "\n",
      "W0919 21:34:39.190171  9456 deprecation.py:506] From C:\\Coding\\Anaconda3\\envs\\tensorflow-gpu\\lib\\site-packages\\keras\\backend\\tensorflow_backend.py:3445: calling dropout (from tensorflow.python.ops.nn_ops) with keep_prob is deprecated and will be removed in a future version.\n",
      "Instructions for updating:\n",
      "Please use `rate` instead of `keep_prob`. Rate should be set to `rate = 1 - keep_prob`.\n",
      "W0919 21:34:39.274986  9456 deprecation_wrapper.py:119] From C:\\Coding\\Anaconda3\\envs\\tensorflow-gpu\\lib\\site-packages\\keras\\optimizers.py:790: The name tf.train.Optimizer is deprecated. Please use tf.compat.v1.train.Optimizer instead.\n",
      "\n",
      "W0919 21:34:39.281969  9456 deprecation_wrapper.py:119] From C:\\Coding\\Anaconda3\\envs\\tensorflow-gpu\\lib\\site-packages\\keras\\backend\\tensorflow_backend.py:3295: The name tf.log is deprecated. Please use tf.math.log instead.\n",
      "\n",
      "W0919 21:34:39.385691  9456 deprecation.py:323] From C:\\Coding\\Anaconda3\\envs\\tensorflow-gpu\\lib\\site-packages\\tensorflow\\python\\ops\\math_grad.py:1250: add_dispatch_support.<locals>.wrapper (from tensorflow.python.ops.array_ops) is deprecated and will be removed in a future version.\n",
      "Instructions for updating:\n",
      "Use tf.where in 2.0, which has the same broadcast rule as np.where\n"
     ]
    },
    {
     "name": "stdout",
     "output_type": "stream",
     "text": [
      "_________________________________________________________________\n",
      "Layer (type)                 Output Shape              Param #   \n",
      "=================================================================\n",
      "input_1 (InputLayer)         (None, 3072)              0         \n",
      "_________________________________________________________________\n",
      "hidden_layer1 (Dense)        (None, 512)               1573376   \n",
      "_________________________________________________________________\n",
      "dropout_1 (Dropout)          (None, 512)               0         \n",
      "_________________________________________________________________\n",
      "hidden_layer2 (Dense)        (None, 256)               131328    \n",
      "_________________________________________________________________\n",
      "dropout_2 (Dropout)          (None, 256)               0         \n",
      "_________________________________________________________________\n",
      "hidden_layer3 (Dense)        (None, 128)               32896     \n",
      "_________________________________________________________________\n",
      "dropout_3 (Dropout)          (None, 128)               0         \n",
      "_________________________________________________________________\n",
      "output (Dense)               (None, 10)                1290      \n",
      "=================================================================\n",
      "Total params: 1,738,890\n",
      "Trainable params: 1,738,890\n",
      "Non-trainable params: 0\n",
      "_________________________________________________________________\n",
      "Train on 50000 samples, validate on 10000 samples\n",
      "Epoch 1/50\n",
      "50000/50000 [==============================] - 8s 160us/step - loss: 2.1992 - acc: 0.1822 - val_loss: 1.9984 - val_acc: 0.2932\n",
      "Epoch 2/50\n",
      "50000/50000 [==============================] - 4s 78us/step - loss: 2.0054 - acc: 0.2670 - val_loss: 1.8857 - val_acc: 0.3312\n",
      "Epoch 3/50\n",
      "50000/50000 [==============================] - 4s 81us/step - loss: 1.9241 - acc: 0.3040 - val_loss: 1.8206 - val_acc: 0.3602\n",
      "Epoch 4/50\n",
      "50000/50000 [==============================] - 4s 80us/step - loss: 1.8706 - acc: 0.3231 - val_loss: 1.7711 - val_acc: 0.3724\n",
      "Epoch 5/50\n",
      "50000/50000 [==============================] - 4s 87us/step - loss: 1.8296 - acc: 0.3430 - val_loss: 1.7254 - val_acc: 0.3909\n",
      "Epoch 6/50\n",
      "50000/50000 [==============================] - 5s 90us/step - loss: 1.7923 - acc: 0.3551 - val_loss: 1.6861 - val_acc: 0.4032\n",
      "Epoch 7/50\n",
      "50000/50000 [==============================] - 4s 78us/step - loss: 1.7612 - acc: 0.3699 - val_loss: 1.6655 - val_acc: 0.4098\n",
      "Epoch 8/50\n",
      "50000/50000 [==============================] - 4s 76us/step - loss: 1.7349 - acc: 0.3774 - val_loss: 1.6467 - val_acc: 0.4206l\n",
      "Epoch 9/50\n",
      "50000/50000 [==============================] - 4s 75us/step - loss: 1.7097 - acc: 0.3906 - val_loss: 1.6139 - val_acc: 0.4297\n",
      "Epoch 10/50\n",
      "50000/50000 [==============================] - 4s 76us/step - loss: 1.6919 - acc: 0.3966 - val_loss: 1.5940 - val_acc: 0.4358\n",
      "Epoch 11/50\n",
      "50000/50000 [==============================] - 4s 75us/step - loss: 1.6680 - acc: 0.4064 - val_loss: 1.5660 - val_acc: 0.4466\n",
      "Epoch 12/50\n",
      "50000/50000 [==============================] - 4s 79us/step - loss: 1.6481 - acc: 0.4105 - val_loss: 1.5567 - val_acc: 0.4468\n",
      "Epoch 13/50\n",
      "50000/50000 [==============================] - 4s 79us/step - loss: 1.6340 - acc: 0.4168 - val_loss: 1.5379 - val_acc: 0.4512\n",
      "Epoch 14/50\n",
      "50000/50000 [==============================] - 4s 82us/step - loss: 1.6193 - acc: 0.4237 - val_loss: 1.5257 - val_acc: 0.4571\n",
      "Epoch 15/50\n",
      "50000/50000 [==============================] - 4s 80us/step - loss: 1.6011 - acc: 0.4308 - val_loss: 1.5144 - val_acc: 0.4636\n",
      "Epoch 16/50\n",
      "50000/50000 [==============================] - 4s 72us/step - loss: 1.5852 - acc: 0.4353 - val_loss: 1.5047 - val_acc: 0.4715\n",
      "Epoch 17/50\n",
      "50000/50000 [==============================] - 4s 74us/step - loss: 1.5734 - acc: 0.4386 - val_loss: 1.4815 - val_acc: 0.4711\n",
      "Epoch 18/50\n",
      "50000/50000 [==============================] - 5s 97us/step - loss: 1.5605 - acc: 0.4487 - val_loss: 1.4795 - val_acc: 0.47221s - loss:\n",
      "Epoch 19/50\n",
      "50000/50000 [==============================] - 5s 94us/step - loss: 1.5453 - acc: 0.4500 - val_loss: 1.4684 - val_acc: 0.4784\n",
      "Epoch 20/50\n",
      "50000/50000 [==============================] - 5s 96us/step - loss: 1.5373 - acc: 0.4532 - val_loss: 1.4555 - val_acc: 0.4820\n",
      "Epoch 21/50\n",
      "50000/50000 [==============================] - 4s 80us/step - loss: 1.5246 - acc: 0.4585 - val_loss: 1.4446 - val_acc: 0.4868\n",
      "Epoch 22/50\n",
      "50000/50000 [==============================] - 4s 72us/step - loss: 1.5130 - acc: 0.4602 - val_loss: 1.4378 - val_acc: 0.4865\n",
      "Epoch 23/50\n",
      "50000/50000 [==============================] - 4s 79us/step - loss: 1.4991 - acc: 0.4661 - val_loss: 1.4288 - val_acc: 0.4904\n",
      "Epoch 24/50\n",
      "50000/50000 [==============================] - 4s 75us/step - loss: 1.4891 - acc: 0.4692 - val_loss: 1.4241 - val_acc: 0.4925\n",
      "Epoch 25/50\n",
      "50000/50000 [==============================] - 4s 72us/step - loss: 1.4778 - acc: 0.4739 - val_loss: 1.4274 - val_acc: 0.4916\n",
      "Epoch 26/50\n",
      "50000/50000 [==============================] - 4s 73us/step - loss: 1.4732 - acc: 0.4765 - val_loss: 1.4093 - val_acc: 0.4958\n",
      "Epoch 27/50\n",
      "50000/50000 [==============================] - 4s 81us/step - loss: 1.4614 - acc: 0.4801 - val_loss: 1.4018 - val_acc: 0.4989\n",
      "Epoch 28/50\n",
      "50000/50000 [==============================] - 5s 108us/step - loss: 1.4519 - acc: 0.4839 - val_loss: 1.3920 - val_acc: 0.5032\n",
      "Epoch 29/50\n",
      "50000/50000 [==============================] - 5s 95us/step - loss: 1.4434 - acc: 0.4859 - val_loss: 1.3886 - val_acc: 0.5023\n",
      "Epoch 30/50\n",
      "50000/50000 [==============================] - 4s 87us/step - loss: 1.4361 - acc: 0.4876 - val_loss: 1.3914 - val_acc: 0.5040\n",
      "Epoch 31/50\n",
      "50000/50000 [==============================] - 4s 83us/step - loss: 1.4241 - acc: 0.4916 - val_loss: 1.3768 - val_acc: 0.5074\n",
      "Epoch 32/50\n",
      "50000/50000 [==============================] - 4s 76us/step - loss: 1.4196 - acc: 0.4954 - val_loss: 1.3781 - val_acc: 0.5062\n",
      "Epoch 33/50\n",
      "50000/50000 [==============================] - 4s 83us/step - loss: 1.4091 - acc: 0.4986 - val_loss: 1.3721 - val_acc: 0.5096\n",
      "Epoch 34/50\n",
      "50000/50000 [==============================] - 4s 82us/step - loss: 1.4023 - acc: 0.5018 - val_loss: 1.3581 - val_acc: 0.5160\n",
      "Epoch 35/50\n",
      "50000/50000 [==============================] - 4s 89us/step - loss: 1.3956 - acc: 0.5021 - val_loss: 1.3643 - val_acc: 0.5093\n",
      "Epoch 36/50\n",
      "50000/50000 [==============================] - 4s 84us/step - loss: 1.3899 - acc: 0.5061 - val_loss: 1.3557 - val_acc: 0.5185\n",
      "Epoch 37/50\n",
      "50000/50000 [==============================] - 4s 86us/step - loss: 1.3782 - acc: 0.5112 - val_loss: 1.3458 - val_acc: 0.5162\n",
      "Epoch 38/50\n",
      "50000/50000 [==============================] - 4s 83us/step - loss: 1.3738 - acc: 0.5102 - val_loss: 1.3492 - val_acc: 0.5139\n",
      "Epoch 39/50\n",
      "50000/50000 [==============================] - 4s 89us/step - loss: 1.3650 - acc: 0.5120 - val_loss: 1.3412 - val_acc: 0.5178\n",
      "Epoch 40/50\n",
      "50000/50000 [==============================] - 4s 85us/step - loss: 1.3576 - acc: 0.5153 - val_loss: 1.3489 - val_acc: 0.5199\n",
      "Epoch 41/50\n",
      "50000/50000 [==============================] - 4s 84us/step - loss: 1.3522 - acc: 0.5191 - val_loss: 1.3315 - val_acc: 0.5233\n",
      "Epoch 42/50\n",
      "50000/50000 [==============================] - 5s 92us/step - loss: 1.3457 - acc: 0.5198 - val_loss: 1.3290 - val_acc: 0.5239\n",
      "Epoch 43/50\n",
      "50000/50000 [==============================] - 4s 82us/step - loss: 1.3364 - acc: 0.5235 - val_loss: 1.3300 - val_acc: 0.5277\n",
      "Epoch 44/50\n",
      "50000/50000 [==============================] - 4s 81us/step - loss: 1.3310 - acc: 0.5261 - val_loss: 1.3292 - val_acc: 0.5219\n",
      "Epoch 45/50\n",
      "50000/50000 [==============================] - 4s 80us/step - loss: 1.3229 - acc: 0.5279 - val_loss: 1.3262 - val_acc: 0.5263\n",
      "Epoch 46/50\n",
      "50000/50000 [==============================] - 4s 80us/step - loss: 1.3135 - acc: 0.5305 - val_loss: 1.3199 - val_acc: 0.5281\n",
      "Epoch 47/50\n",
      "50000/50000 [==============================] - 4s 79us/step - loss: 1.3151 - acc: 0.5331 - val_loss: 1.3100 - val_acc: 0.5320\n",
      "Epoch 48/50\n",
      "50000/50000 [==============================] - 4s 84us/step - loss: 1.3101 - acc: 0.5327 - val_loss: 1.3168 - val_acc: 0.5333\n",
      "Epoch 49/50\n",
      "50000/50000 [==============================] - 5s 91us/step - loss: 1.3006 - acc: 0.5378 - val_loss: 1.3155 - val_acc: 0.5321\n"
     ]
    },
    {
     "name": "stdout",
     "output_type": "stream",
     "text": [
      "Epoch 50/50\n",
      "50000/50000 [==============================] - 4s 78us/step - loss: 1.2967 - acc: 0.5389 - val_loss: 1.3059 - val_acc: 0.5312\n"
     ]
    }
   ],
   "source": [
    "model = build_mlp(input_shape=x_train.shape[1:], drp_ratio=Dropout_EXP)\n",
    "model.summary()\n",
    "optimizer = keras.optimizers.SGD(lr=LEARNING_RATE, nesterov=True, momentum=MOMENTUM)\n",
    "model.compile(loss=\"categorical_crossentropy\", metrics=[\"accuracy\"], optimizer=optimizer)\n",
    "\n",
    "model.fit(x_train, y_train, \n",
    "          epochs=EPOCHS, \n",
    "          batch_size=BATCH_SIZE, \n",
    "          validation_data=(x_test, y_test), \n",
    "          shuffle=True)\n",
    "\n",
    "# Collect results\n",
    "train_loss = model.history.history[\"loss\"]\n",
    "valid_loss = model.history.history[\"val_loss\"]\n",
    "train_acc = model.history.history[\"acc\"]\n",
    "valid_acc = model.history.history[\"val_acc\"]"
   ]
  },
  {
   "cell_type": "code",
   "execution_count": 8,
   "metadata": {},
   "outputs": [
    {
     "data": {
      "image/png": "[encoded data removed]",
      "text/plain": [
       "<Figure size 432x288 with 1 Axes>"
      ]
     },
     "metadata": {
      "needs_background": "light"
     },
     "output_type": "display_data"
    },
    {
     "data": {
      "image/png": "[encoded data removed]",
      "text/plain": [
       "<Figure size 432x288 with 1 Axes>"
      ]
     },
     "metadata": {
      "needs_background": "light"
     },
     "output_type": "display_data"
    }
   ],
   "source": [
    "import matplotlib.pyplot as plt\n",
    "%matplotlib inline\n",
    "\n",
    "plt.plot(range(len(train_loss)), train_loss, label=\"train loss\")\n",
    "plt.plot(range(len(valid_loss)), valid_loss, label=\"valid loss\")\n",
    "plt.legend()\n",
    "plt.title(\"Loss\")\n",
    "plt.show()\n",
    "\n",
    "plt.plot(range(len(train_acc)), train_acc, label=\"train accuracy\")\n",
    "plt.plot(range(len(valid_acc)), valid_acc, label=\"valid accuracy\")\n",
    "plt.legend()\n",
    "plt.title(\"Accuracy\")\n",
    "plt.show()"
   ]
  },
  {
   "cell_type": "code",
   "execution_count": null,
   "metadata": {},
   "outputs": [],
   "source": []
  }
 ],
 "metadata": {
  "kernelspec": {
   "display_name": "Python (tensorflow-gpu)",
   "language": "python",
   "name": "tensorflow-gpu"
  },
  "language_info": {
   "codemirror_mode": {
    "name": "ipython",
    "version": 3
   },
   "file_extension": ".py",
   "mimetype": "text/x-python",
   "name": "python",
   "nbconvert_exporter": "python",
   "pygments_lexer": "ipython3",
   "version": "3.6.8"
  }
 },
 "nbformat": 4,
 "nbformat_minor": 2
}
