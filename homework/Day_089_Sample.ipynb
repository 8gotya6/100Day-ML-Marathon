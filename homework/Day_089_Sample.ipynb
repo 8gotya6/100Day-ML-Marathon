{
 "cells": [
  {
   "cell_type": "markdown",
   "metadata": {},
   "source": [
    "# 範例重點\n",
    "學習如何在 keras 中撰寫自定義的 loss function  \n",
    "知道如何在訓練時使用自定義的 loss function"
   ]
  },
  {
   "cell_type": "code",
   "execution_count": 1,
   "metadata": {},
   "outputs": [
    {
     "name": "stderr",
     "output_type": "stream",
     "text": [
      "Using TensorFlow backend.\n"
     ]
    }
   ],
   "source": [
    "import os\n",
    "import keras\n",
    "\n",
    "# 本範例不需使用 GPU, 將 GPU 設定為 \"無\"\n",
    "os.environ[\"CUDA_VISIBLE_DEVICES\"] = \"\""
   ]
  },
  {
   "cell_type": "code",
   "execution_count": 2,
   "metadata": {},
   "outputs": [],
   "source": [
    "train, test = keras.datasets.cifar10.load_data()"
   ]
  },
  {
   "cell_type": "code",
   "execution_count": 3,
   "metadata": {},
   "outputs": [],
   "source": [
    "## 資料前處理\n",
    "def preproc_x(x, flatten=True):\n",
    "    x = x / 255.\n",
    "    if flatten:\n",
    "        x = x.reshape((len(x), -1))\n",
    "    return x\n",
    "\n",
    "def preproc_y(y, num_classes=10):\n",
    "    if y.shape[-1] == 1:\n",
    "        y = keras.utils.to_categorical(y, num_classes)\n",
    "    return y    "
   ]
  },
  {
   "cell_type": "code",
   "execution_count": 4,
   "metadata": {},
   "outputs": [],
   "source": [
    "x_train, y_train = train\n",
    "x_test, y_test = test\n",
    "\n",
    "# 資料前處理 - X 標準化\n",
    "x_train = preproc_x(x_train)\n",
    "x_test = preproc_x(x_test)\n",
    "\n",
    "# 資料前處理 -Y 轉成 onehot\n",
    "y_train = preproc_y(y_train)\n",
    "y_test = preproc_y(y_test)"
   ]
  },
  {
   "cell_type": "code",
   "execution_count": 5,
   "metadata": {},
   "outputs": [],
   "source": [
    "from keras.layers import BatchNormalization\n",
    "\n",
    "\"\"\"\n",
    "建立神經網路，並加入 BN layer\n",
    "\"\"\"\n",
    "def build_mlp(input_shape, output_units=10, num_neurons=[512, 256, 128]):\n",
    "    input_layer = keras.layers.Input(input_shape)\n",
    "    \n",
    "    for i, n_units in enumerate(num_neurons):\n",
    "        if i == 0:\n",
    "            x = keras.layers.Dense(units=n_units, \n",
    "                                   activation=\"relu\", \n",
    "                                   name=\"hidden_layer\"+str(i+1))(input_layer)\n",
    "            x = BatchNormalization()(x)\n",
    "        else:\n",
    "            x = keras.layers.Dense(units=n_units, \n",
    "                                   activation=\"relu\", \n",
    "                                   name=\"hidden_layer\"+str(i+1))(x)\n",
    "            x = BatchNormalization()(x)\n",
    "    \n",
    "    out = keras.layers.Dense(units=output_units, activation=\"softmax\", name=\"output\")(x)\n",
    "    \n",
    "    model = keras.models.Model(inputs=[input_layer], outputs=[out])\n",
    "    return model"
   ]
  },
  {
   "cell_type": "code",
   "execution_count": 6,
   "metadata": {},
   "outputs": [],
   "source": [
    "## 超參數設定\n",
    "LEARNING_RATE = 1e-3\n",
    "EPOCHS = 50\n",
    "BATCH_SIZE = 1024\n",
    "MOMENTUM = 0.95"
   ]
  },
  {
   "cell_type": "code",
   "execution_count": 7,
   "metadata": {},
   "outputs": [],
   "source": [
    "import tensorflow as tf\n",
    "import keras.backend as K\n",
    "\n",
    "\"\"\"\n",
    "# 撰寫自定義的 loss function: focal loss (https://blog.csdn.net/u014380165/article/details/77019084)\n",
    "\"\"\"\n",
    "def focal_loss(gamma=2., alpha=4.):\n",
    "    gamma = float(gamma)\n",
    "    alpha = float(alpha)\n",
    "    def focal_loss_fixed(y_true, y_pred):\n",
    "        \"\"\"Focal loss for multi-classification\n",
    "        FL(p_t)=-alpha(1-p_t)^{gamma}ln(p_t)\n",
    "        \"\"\"\n",
    "        epsilon = 1e-8\n",
    "        y_true = tf.convert_to_tensor(y_true, tf.float32)\n",
    "        y_pred = tf.convert_to_tensor(y_pred, tf.float32)\n",
    "\n",
    "        model_out = tf.add(y_pred, epsilon)\n",
    "        ce = tf.multiply(y_true, -tf.log(model_out))\n",
    "        weight = tf.multiply(y_true, tf.pow(tf.subtract(1., model_out), gamma))\n",
    "        fl = tf.multiply(alpha, tf.multiply(weight, ce))\n",
    "        reduced_fl = tf.reduce_max(fl, axis=1)\n",
    "        return tf.reduce_mean(reduced_fl)\n",
    "    return focal_loss_fixed"
   ]
  },
  {
   "cell_type": "code",
   "execution_count": 8,
   "metadata": {},
   "outputs": [
    {
     "name": "stderr",
     "output_type": "stream",
     "text": [
      "WARNING: Logging before flag parsing goes to stderr.\n",
      "W1020 21:34:17.678833  9872 deprecation_wrapper.py:119] From C:\\Coding\\Anaconda3\\envs\\tensorflow-gpu\\lib\\site-packages\\keras\\backend\\tensorflow_backend.py:74: The name tf.get_default_graph is deprecated. Please use tf.compat.v1.get_default_graph instead.\n",
      "\n",
      "W1020 21:34:17.716033  9872 deprecation_wrapper.py:119] From C:\\Coding\\Anaconda3\\envs\\tensorflow-gpu\\lib\\site-packages\\keras\\backend\\tensorflow_backend.py:517: The name tf.placeholder is deprecated. Please use tf.compat.v1.placeholder instead.\n",
      "\n",
      "W1020 21:34:17.727442  9872 deprecation_wrapper.py:119] From C:\\Coding\\Anaconda3\\envs\\tensorflow-gpu\\lib\\site-packages\\keras\\backend\\tensorflow_backend.py:4138: The name tf.random_uniform is deprecated. Please use tf.random.uniform instead.\n",
      "\n",
      "W1020 21:34:17.841025  9872 deprecation_wrapper.py:119] From C:\\Coding\\Anaconda3\\envs\\tensorflow-gpu\\lib\\site-packages\\keras\\backend\\tensorflow_backend.py:133: The name tf.placeholder_with_default is deprecated. Please use tf.compat.v1.placeholder_with_default instead.\n",
      "\n",
      "W1020 21:34:18.064760  9872 deprecation_wrapper.py:119] From C:\\Coding\\Anaconda3\\envs\\tensorflow-gpu\\lib\\site-packages\\keras\\optimizers.py:790: The name tf.train.Optimizer is deprecated. Please use tf.compat.v1.train.Optimizer instead.\n",
      "\n",
      "W1020 21:34:18.208561  9872 deprecation.py:323] From C:\\Coding\\Anaconda3\\envs\\tensorflow-gpu\\lib\\site-packages\\tensorflow\\python\\ops\\math_grad.py:1205: add_dispatch_support.<locals>.wrapper (from tensorflow.python.ops.array_ops) is deprecated and will be removed in a future version.\n",
      "Instructions for updating:\n",
      "Use tf.where in 2.0, which has the same broadcast rule as np.where\n"
     ]
    },
    {
     "name": "stdout",
     "output_type": "stream",
     "text": [
      "_________________________________________________________________\n",
      "Layer (type)                 Output Shape              Param #   \n",
      "=================================================================\n",
      "input_1 (InputLayer)         (None, 3072)              0         \n",
      "_________________________________________________________________\n",
      "hidden_layer1 (Dense)        (None, 512)               1573376   \n",
      "_________________________________________________________________\n",
      "batch_normalization_1 (Batch (None, 512)               2048      \n",
      "_________________________________________________________________\n",
      "hidden_layer2 (Dense)        (None, 256)               131328    \n",
      "_________________________________________________________________\n",
      "batch_normalization_2 (Batch (None, 256)               1024      \n",
      "_________________________________________________________________\n",
      "hidden_layer3 (Dense)        (None, 128)               32896     \n",
      "_________________________________________________________________\n",
      "batch_normalization_3 (Batch (None, 128)               512       \n",
      "_________________________________________________________________\n",
      "output (Dense)               (None, 10)                1290      \n",
      "=================================================================\n",
      "Total params: 1,742,474\n",
      "Trainable params: 1,740,682\n",
      "Non-trainable params: 1,792\n",
      "_________________________________________________________________\n"
     ]
    },
    {
     "name": "stderr",
     "output_type": "stream",
     "text": [
      "W1020 21:34:18.600057  9872 deprecation_wrapper.py:119] From C:\\Coding\\Anaconda3\\envs\\tensorflow-gpu\\lib\\site-packages\\keras\\backend\\tensorflow_backend.py:986: The name tf.assign_add is deprecated. Please use tf.compat.v1.assign_add instead.\n",
      "\n"
     ]
    },
    {
     "name": "stdout",
     "output_type": "stream",
     "text": [
      "Train on 50000 samples, validate on 10000 samples\n",
      "Epoch 1/50\n",
      "50000/50000 [==============================] - 11s 224us/step - loss: 5.9837 - acc: 0.3322 - val_loss: 6.3255 - val_acc: 0.3516\n",
      "Epoch 2/50\n",
      "50000/50000 [==============================] - 4s 87us/step - loss: 4.3811 - acc: 0.4423 - val_loss: 4.7605 - val_acc: 0.4126\n",
      "Epoch 3/50\n",
      "50000/50000 [==============================] - 4s 87us/step - loss: 3.9911 - acc: 0.4813 - val_loss: 4.4462 - val_acc: 0.4226\n",
      "Epoch 4/50\n",
      "50000/50000 [==============================] - 4s 88us/step - loss: 3.7290 - acc: 0.5057 - val_loss: 4.2874 - val_acc: 0.4432\n",
      "Epoch 5/50\n",
      "50000/50000 [==============================] - 5s 92us/step - loss: 3.5156 - acc: 0.5286 - val_loss: 4.1740 - val_acc: 0.4436\n",
      "Epoch 6/50\n",
      "50000/50000 [==============================] - 5s 91us/step - loss: 3.3352 - acc: 0.5454 - val_loss: 4.1086 - val_acc: 0.4592\n",
      "Epoch 7/50\n",
      "50000/50000 [==============================] - 5s 91us/step - loss: 3.1768 - acc: 0.5617 - val_loss: 4.0195 - val_acc: 0.4650\n",
      "Epoch 8/50\n",
      "50000/50000 [==============================] - 4s 90us/step - loss: 3.0138 - acc: 0.5806 - val_loss: 4.1226 - val_acc: 0.4610\n",
      "Epoch 9/50\n",
      "50000/50000 [==============================] - 5s 90us/step - loss: 2.8767 - acc: 0.5944 - val_loss: 3.9593 - val_acc: 0.4720\n",
      "Epoch 10/50\n",
      "50000/50000 [==============================] - 4s 86us/step - loss: 2.7366 - acc: 0.6086 - val_loss: 4.1409 - val_acc: 0.4591\n",
      "Epoch 11/50\n",
      "50000/50000 [==============================] - 4s 85us/step - loss: 2.6102 - acc: 0.6249 - val_loss: 3.8762 - val_acc: 0.4848\n",
      "Epoch 12/50\n",
      "50000/50000 [==============================] - 4s 86us/step - loss: 2.4689 - acc: 0.6403 - val_loss: 4.0249 - val_acc: 0.4706\n",
      "Epoch 13/50\n",
      "50000/50000 [==============================] - 4s 85us/step - loss: 2.3427 - acc: 0.6556 - val_loss: 4.2988 - val_acc: 0.4522\n",
      "Epoch 14/50\n",
      "50000/50000 [==============================] - 4s 86us/step - loss: 2.2184 - acc: 0.6688 - val_loss: 4.0644 - val_acc: 0.4744\n",
      "Epoch 15/50\n",
      "50000/50000 [==============================] - 4s 86us/step - loss: 2.0932 - acc: 0.6833 - val_loss: 4.0333 - val_acc: 0.4858\n",
      "Epoch 16/50\n",
      "50000/50000 [==============================] - 4s 86us/step - loss: 1.9705 - acc: 0.6981 - val_loss: 4.1043 - val_acc: 0.4836\n",
      "Epoch 17/50\n",
      "50000/50000 [==============================] - 4s 86us/step - loss: 1.8692 - acc: 0.7088 - val_loss: 4.1223 - val_acc: 0.4821\n",
      "Epoch 18/50\n",
      "50000/50000 [==============================] - 4s 86us/step - loss: 1.7507 - acc: 0.7237 - val_loss: 4.0449 - val_acc: 0.4831\n",
      "Epoch 19/50\n",
      "50000/50000 [==============================] - 4s 86us/step - loss: 1.6494 - acc: 0.7369 - val_loss: 4.2495 - val_acc: 0.4834\n",
      "Epoch 20/50\n",
      "50000/50000 [==============================] - 4s 86us/step - loss: 1.5498 - acc: 0.7502 - val_loss: 4.5322 - val_acc: 0.4748\n",
      "Epoch 21/50\n",
      "50000/50000 [==============================] - 4s 86us/step - loss: 1.4397 - acc: 0.7652 - val_loss: 4.2863 - val_acc: 0.4738\n",
      "Epoch 22/50\n",
      "50000/50000 [==============================] - 4s 85us/step - loss: 1.3399 - acc: 0.7794 - val_loss: 4.7440 - val_acc: 0.4522\n",
      "Epoch 23/50\n",
      "50000/50000 [==============================] - 4s 85us/step - loss: 1.2504 - acc: 0.7914 - val_loss: 4.3835 - val_acc: 0.4787\n",
      "Epoch 24/50\n",
      "50000/50000 [==============================] - 4s 85us/step - loss: 1.1586 - acc: 0.8052 - val_loss: 4.4654 - val_acc: 0.4766\n",
      "Epoch 25/50\n",
      "50000/50000 [==============================] - 4s 85us/step - loss: 1.0662 - acc: 0.8181 - val_loss: 4.6528 - val_acc: 0.4781\n",
      "Epoch 26/50\n",
      "50000/50000 [==============================] - 4s 85us/step - loss: 0.9837 - acc: 0.8313 - val_loss: 4.6540 - val_acc: 0.4750\n",
      "Epoch 27/50\n",
      "50000/50000 [==============================] - 4s 85us/step - loss: 0.9019 - acc: 0.8452 - val_loss: 4.8169 - val_acc: 0.4713\n",
      "Epoch 28/50\n",
      "50000/50000 [==============================] - 4s 85us/step - loss: 0.8196 - acc: 0.8563 - val_loss: 4.8067 - val_acc: 0.4795\n",
      "Epoch 29/50\n",
      "50000/50000 [==============================] - 4s 85us/step - loss: 0.7509 - acc: 0.8697 - val_loss: 5.0203 - val_acc: 0.4700\n",
      "Epoch 30/50\n",
      "50000/50000 [==============================] - 4s 85us/step - loss: 0.6815 - acc: 0.8801 - val_loss: 5.0473 - val_acc: 0.4760\n",
      "Epoch 31/50\n",
      "50000/50000 [==============================] - 4s 85us/step - loss: 0.6277 - acc: 0.8888 - val_loss: 5.2254 - val_acc: 0.4708\n",
      "Epoch 32/50\n",
      "50000/50000 [==============================] - 4s 85us/step - loss: 0.5782 - acc: 0.8969 - val_loss: 5.1380 - val_acc: 0.4801\n",
      "Epoch 33/50\n",
      "50000/50000 [==============================] - 4s 85us/step - loss: 0.5181 - acc: 0.9086 - val_loss: 5.3887 - val_acc: 0.4708\n",
      "Epoch 34/50\n",
      "50000/50000 [==============================] - 4s 85us/step - loss: 0.4696 - acc: 0.9169 - val_loss: 5.3742 - val_acc: 0.4767\n",
      "Epoch 35/50\n",
      "50000/50000 [==============================] - 4s 85us/step - loss: 0.4267 - acc: 0.9246 - val_loss: 5.3081 - val_acc: 0.4713\n",
      "Epoch 36/50\n",
      "50000/50000 [==============================] - 4s 85us/step - loss: 0.3787 - acc: 0.9369 - val_loss: 5.5349 - val_acc: 0.4732\n",
      "Epoch 37/50\n",
      "50000/50000 [==============================] - 4s 85us/step - loss: 0.3369 - acc: 0.9437 - val_loss: 5.5648 - val_acc: 0.4738\n",
      "Epoch 38/50\n",
      "50000/50000 [==============================] - 4s 85us/step - loss: 0.3055 - acc: 0.9499 - val_loss: 5.6479 - val_acc: 0.4755\n",
      "Epoch 39/50\n",
      "50000/50000 [==============================] - 4s 85us/step - loss: 0.2720 - acc: 0.9572 - val_loss: 5.7432 - val_acc: 0.4727\n",
      "Epoch 40/50\n",
      "50000/50000 [==============================] - 4s 85us/step - loss: 0.2455 - acc: 0.9630 - val_loss: 5.7740 - val_acc: 0.4778\n",
      "Epoch 41/50\n",
      "50000/50000 [==============================] - 4s 85us/step - loss: 0.2197 - acc: 0.9676 - val_loss: 5.9659 - val_acc: 0.4680\n",
      "Epoch 42/50\n",
      "50000/50000 [==============================] - 4s 85us/step - loss: 0.1958 - acc: 0.9723 - val_loss: 5.9578 - val_acc: 0.4774\n",
      "Epoch 43/50\n",
      "50000/50000 [==============================] - 4s 85us/step - loss: 0.1840 - acc: 0.9741 - val_loss: 5.9916 - val_acc: 0.4788\n",
      "Epoch 44/50\n",
      "50000/50000 [==============================] - 4s 87us/step - loss: 0.1636 - acc: 0.9794 - val_loss: 6.0265 - val_acc: 0.4720\n",
      "Epoch 45/50\n",
      "50000/50000 [==============================] - 4s 87us/step - loss: 0.1447 - acc: 0.9818 - val_loss: 6.2365 - val_acc: 0.4687\n",
      "Epoch 46/50\n",
      "50000/50000 [==============================] - 4s 85us/step - loss: 0.1279 - acc: 0.9855 - val_loss: 6.3228 - val_acc: 0.4666\n",
      "Epoch 47/50\n",
      "50000/50000 [==============================] - 4s 85us/step - loss: 0.1164 - acc: 0.9883 - val_loss: 6.2674 - val_acc: 0.4807\n",
      "Epoch 48/50\n",
      "50000/50000 [==============================] - 4s 85us/step - loss: 0.1052 - acc: 0.9903 - val_loss: 6.2497 - val_acc: 0.4743\n",
      "Epoch 49/50\n",
      "50000/50000 [==============================] - 4s 85us/step - loss: 0.0971 - acc: 0.9904 - val_loss: 6.2004 - val_acc: 0.4845\n",
      "Epoch 50/50\n",
      "50000/50000 [==============================] - 4s 85us/step - loss: 0.0892 - acc: 0.9919 - val_loss: 6.4070 - val_acc: 0.4792\n"
     ]
    },
    {
     "ename": "KeyError",
     "evalue": "'val_f1sc'",
     "output_type": "error",
     "traceback": [
      "\u001b[1;31m---------------------------------------------------------------------------\u001b[0m",
      "\u001b[1;31mKeyError\u001b[0m                                  Traceback (most recent call last)",
      "\u001b[1;32m<ipython-input-8-885fe266095b>\u001b[0m in \u001b[0;36m<module>\u001b[1;34m\u001b[0m\n\u001b[0;32m     20\u001b[0m \u001b[0mvalid_acc\u001b[0m \u001b[1;33m=\u001b[0m \u001b[0mmodel\u001b[0m\u001b[1;33m.\u001b[0m\u001b[0mhistory\u001b[0m\u001b[1;33m.\u001b[0m\u001b[0mhistory\u001b[0m\u001b[1;33m[\u001b[0m\u001b[1;34m\"val_acc\"\u001b[0m\u001b[1;33m]\u001b[0m\u001b[1;33m\u001b[0m\u001b[1;33m\u001b[0m\u001b[0m\n\u001b[0;32m     21\u001b[0m \u001b[1;33m\u001b[0m\u001b[0m\n\u001b[1;32m---> 22\u001b[1;33m \u001b[0mvalid_f1sc\u001b[0m \u001b[1;33m=\u001b[0m \u001b[0mmodel\u001b[0m\u001b[1;33m.\u001b[0m\u001b[0mhistory\u001b[0m\u001b[1;33m.\u001b[0m\u001b[0mhistory\u001b[0m\u001b[1;33m[\u001b[0m\u001b[1;34m'val_f1sc'\u001b[0m\u001b[1;33m]\u001b[0m\u001b[1;33m\u001b[0m\u001b[1;33m\u001b[0m\u001b[0m\n\u001b[0m",
      "\u001b[1;31mKeyError\u001b[0m: 'val_f1sc'"
     ]
    }
   ],
   "source": [
    "model = build_mlp(input_shape=x_train.shape[1:])\n",
    "model.summary()\n",
    "optimizer = keras.optimizers.SGD(lr=LEARNING_RATE, nesterov=True, momentum=MOMENTUM)\n",
    "\"\"\"\n",
    "# 在 compile 時，使用自定義的 loss function\n",
    "\"\"\"\n",
    "model.compile(loss=focal_loss(), metrics=[\"accuracy\"], optimizer=optimizer)\n",
    "\n",
    "model.fit(x_train, y_train, \n",
    "          epochs=EPOCHS, \n",
    "          batch_size=BATCH_SIZE, \n",
    "          validation_data=(x_test, y_test), \n",
    "          shuffle=True\n",
    "         )\n",
    "\n",
    "# Collect results\n",
    "train_loss = model.history.history[\"loss\"]\n",
    "valid_loss = model.history.history[\"val_loss\"]\n",
    "train_acc = model.history.history[\"acc\"]\n",
    "valid_acc = model.history.history[\"val_acc\"]\n",
    "\n",
    "valid_f1sc = model.history.history['val_f1sc']"
   ]
  },
  {
   "cell_type": "code",
   "execution_count": 9,
   "metadata": {},
   "outputs": [
    {
     "data": {
      "image/png": "[encoded data removed]",
      "text/plain": [
       "<Figure size 432x288 with 1 Axes>"
      ]
     },
     "metadata": {
      "needs_background": "light"
     },
     "output_type": "display_data"
    },
    {
     "data": {
      "image/png": "[encoded data removed]",
      "text/plain": [
       "<Figure size 432x288 with 1 Axes>"
      ]
     },
     "metadata": {
      "needs_background": "light"
     },
     "output_type": "display_data"
    }
   ],
   "source": [
    "import matplotlib.pyplot as plt\n",
    "%matplotlib inline\n",
    "\n",
    "plt.plot(range(len(train_loss)), train_loss, label=\"train loss\")\n",
    "plt.plot(range(len(valid_loss)), valid_loss, label=\"valid loss\")\n",
    "plt.legend()\n",
    "plt.title(\"Loss\")\n",
    "plt.show()\n",
    "\n",
    "plt.plot(range(len(train_acc)), train_acc, label=\"train accuracy\")\n",
    "plt.plot(range(len(valid_acc)), valid_acc, label=\"valid accuracy\")\n",
    "plt.legend()\n",
    "plt.title(\"Accuracy\")\n",
    "plt.show()"
   ]
  },
  {
   "cell_type": "code",
   "execution_count": null,
   "metadata": {},
   "outputs": [],
   "source": []
  }
 ],
 "metadata": {
  "kernelspec": {
   "display_name": "Python (tensorflow-gpu)",
   "language": "python",
   "name": "tensorflow-gpu"
  },
  "language_info": {
   "codemirror_mode": {
    "name": "ipython",
    "version": 3
   },
   "file_extension": ".py",
   "mimetype": "text/x-python",
   "name": "python",
   "nbconvert_exporter": "python",
   "pygments_lexer": "ipython3",
   "version": "3.6.8"
  }
 },
 "nbformat": 4,
 "nbformat_minor": 2
}
