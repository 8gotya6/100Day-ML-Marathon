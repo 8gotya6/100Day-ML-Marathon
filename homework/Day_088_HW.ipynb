{
 "cells": [
  {
   "cell_type": "markdown",
   "metadata": {},
   "source": [
    "# Work\n",
    "請嘗試寫一個 callback 用來記錄各類別在訓練過程中，對驗證集的 True Positive 與 True Negative"
   ]
  },
  {
   "cell_type": "code",
   "execution_count": 1,
   "metadata": {},
   "outputs": [
    {
     "name": "stderr",
     "output_type": "stream",
     "text": [
      "Using TensorFlow backend.\n"
     ]
    }
   ],
   "source": [
    "import os\n",
    "import keras\n",
    "\n",
    "# Disable GPU\n",
    "os.environ[\"CUDA_VISIBLE_DEVICES\"] = \"\""
   ]
  },
  {
   "cell_type": "code",
   "execution_count": 2,
   "metadata": {},
   "outputs": [],
   "source": [
    "train, test = keras.datasets.cifar10.load_data()"
   ]
  },
  {
   "cell_type": "code",
   "execution_count": 3,
   "metadata": {},
   "outputs": [],
   "source": [
    "## 資料前處理\n",
    "def preproc_x(x, flatten=True):\n",
    "    x = x / 255.\n",
    "    if flatten:\n",
    "        x = x.reshape((len(x), -1))\n",
    "    return x\n",
    "\n",
    "def preproc_y(y, num_classes=10):\n",
    "    if y.shape[-1] == 1:\n",
    "        y = keras.utils.to_categorical(y, num_classes)\n",
    "    return y    "
   ]
  },
  {
   "cell_type": "code",
   "execution_count": 4,
   "metadata": {},
   "outputs": [],
   "source": [
    "x_train, y_train = train\n",
    "x_test, y_test = test\n",
    "\n",
    "# Preproc the inputs\n",
    "x_train = preproc_x(x_train)\n",
    "x_test = preproc_x(x_test)\n",
    "\n",
    "# Preprc the outputs\n",
    "y_train = preproc_y(y_train)\n",
    "y_test = preproc_y(y_test)"
   ]
  },
  {
   "cell_type": "code",
   "execution_count": 5,
   "metadata": {},
   "outputs": [],
   "source": [
    "from keras.layers import BatchNormalization\n",
    "def build_mlp(input_shape, output_units=10, num_neurons=[256, 256, 256]):\n",
    "    input_layer = keras.layers.Input(input_shape)\n",
    "    \n",
    "    for i, n_units in enumerate(num_neurons):\n",
    "        if i == 0:\n",
    "            x = keras.layers.Dense(units=n_units, \n",
    "                                   activation=\"relu\", \n",
    "                                   name=\"hidden_layer\"+str(i+1))(input_layer)\n",
    "            x = BatchNormalization()(x)\n",
    "        else:\n",
    "            x = keras.layers.Dense(units=n_units, \n",
    "                                   activation=\"relu\", \n",
    "                                   name=\"hidden_layer\"+str(i+1))(x)\n",
    "            x = BatchNormalization()(x)\n",
    "    \n",
    "    out = keras.layers.Dense(units=output_units, activation=\"softmax\", name=\"output\")(x)\n",
    "    \n",
    "    model = keras.models.Model(inputs=[input_layer], outputs=[out])\n",
    "    return model"
   ]
  },
  {
   "cell_type": "code",
   "execution_count": 6,
   "metadata": {},
   "outputs": [],
   "source": [
    "## 超參數設定\n",
    "LEARNING_RATE = 1e-3\n",
    "EPOCHS = 25\n",
    "BATCH_SIZE = 1024\n",
    "MOMENTUM = 0.95"
   ]
  },
  {
   "cell_type": "code",
   "execution_count": 7,
   "metadata": {},
   "outputs": [],
   "source": [
    "# 載入 Callbacks\n",
    "from keras.callbacks import Callback\n",
    "import numpy as np\n",
    "# Record_fp_tp\n",
    "class Record_tp_tn(Callback):\n",
    "    \"\"\"Code Here\n",
    "    撰寫一個紀錄 ture positive 與 true negative 數量的 callbacks    \n",
    "    \"\"\"\n",
    "    def on_epoch_end(self, epoch, logs = {}, thres=0.5):\n",
    "        logs = logs or {}\n",
    "        y_true = self.validation_data[1].argmax(axis = 1)\n",
    "        y_pred = self.model.predict(self.validation_data[0])\n",
    "        y_pred = (y_pred[:, 1] >= thres) * 1\n",
    "        logs[\"valid_tp\"] = np.sum(np.logical_and(y_pred == 1, y_true == 1))\n",
    "        logs[\"valid_tn\"] = np.sum(np.logical_and(y_pred == 0, y_true == 0))       \n",
    "rec_tptn = Record_tp_tn()"
   ]
  },
  {
   "cell_type": "code",
   "execution_count": 8,
   "metadata": {},
   "outputs": [
    {
     "name": "stderr",
     "output_type": "stream",
     "text": [
      "WARNING: Logging before flag parsing goes to stderr.\n",
      "W1015 23:58:28.431809 10420 deprecation_wrapper.py:119] From C:\\Coding\\Anaconda3\\envs\\tensorflow-gpu\\lib\\site-packages\\keras\\backend\\tensorflow_backend.py:74: The name tf.get_default_graph is deprecated. Please use tf.compat.v1.get_default_graph instead.\n",
      "\n",
      "W1015 23:58:28.447150 10420 deprecation_wrapper.py:119] From C:\\Coding\\Anaconda3\\envs\\tensorflow-gpu\\lib\\site-packages\\keras\\backend\\tensorflow_backend.py:517: The name tf.placeholder is deprecated. Please use tf.compat.v1.placeholder instead.\n",
      "\n",
      "W1015 23:58:28.449641 10420 deprecation_wrapper.py:119] From C:\\Coding\\Anaconda3\\envs\\tensorflow-gpu\\lib\\site-packages\\keras\\backend\\tensorflow_backend.py:4138: The name tf.random_uniform is deprecated. Please use tf.random.uniform instead.\n",
      "\n",
      "W1015 23:58:28.523582 10420 deprecation_wrapper.py:119] From C:\\Coding\\Anaconda3\\envs\\tensorflow-gpu\\lib\\site-packages\\keras\\backend\\tensorflow_backend.py:133: The name tf.placeholder_with_default is deprecated. Please use tf.compat.v1.placeholder_with_default instead.\n",
      "\n",
      "W1015 23:58:28.699118 10420 deprecation_wrapper.py:119] From C:\\Coding\\Anaconda3\\envs\\tensorflow-gpu\\lib\\site-packages\\keras\\optimizers.py:790: The name tf.train.Optimizer is deprecated. Please use tf.compat.v1.train.Optimizer instead.\n",
      "\n",
      "W1015 23:58:28.706062 10420 deprecation_wrapper.py:119] From C:\\Coding\\Anaconda3\\envs\\tensorflow-gpu\\lib\\site-packages\\keras\\backend\\tensorflow_backend.py:3295: The name tf.log is deprecated. Please use tf.math.log instead.\n",
      "\n",
      "W1015 23:58:28.791870 10420 deprecation.py:323] From C:\\Coding\\Anaconda3\\envs\\tensorflow-gpu\\lib\\site-packages\\tensorflow\\python\\ops\\math_grad.py:1250: add_dispatch_support.<locals>.wrapper (from tensorflow.python.ops.array_ops) is deprecated and will be removed in a future version.\n",
      "Instructions for updating:\n",
      "Use tf.where in 2.0, which has the same broadcast rule as np.where\n"
     ]
    },
    {
     "name": "stdout",
     "output_type": "stream",
     "text": [
      "_________________________________________________________________\n",
      "Layer (type)                 Output Shape              Param #   \n",
      "=================================================================\n",
      "input_1 (InputLayer)         (None, 3072)              0         \n",
      "_________________________________________________________________\n",
      "hidden_layer1 (Dense)        (None, 256)               786688    \n",
      "_________________________________________________________________\n",
      "batch_normalization_1 (Batch (None, 256)               1024      \n",
      "_________________________________________________________________\n",
      "hidden_layer2 (Dense)        (None, 256)               65792     \n",
      "_________________________________________________________________\n",
      "batch_normalization_2 (Batch (None, 256)               1024      \n",
      "_________________________________________________________________\n",
      "hidden_layer3 (Dense)        (None, 256)               65792     \n",
      "_________________________________________________________________\n",
      "batch_normalization_3 (Batch (None, 256)               1024      \n",
      "_________________________________________________________________\n",
      "output (Dense)               (None, 10)                2570      \n",
      "=================================================================\n",
      "Total params: 923,914\n",
      "Trainable params: 922,378\n",
      "Non-trainable params: 1,536\n",
      "_________________________________________________________________\n",
      "Train on 50000 samples, validate on 10000 samples\n",
      "Epoch 1/25\n",
      "50000/50000 [==============================] - 8s 167us/step - loss: 2.2028 - acc: 0.2743 - val_loss: 2.1742 - val_acc: 0.3202\n",
      "Epoch 2/25\n",
      "50000/50000 [==============================] - 6s 122us/step - loss: 1.7549 - acc: 0.3887 - val_loss: 1.8776 - val_acc: 0.3675\n",
      "Epoch 3/25\n",
      "50000/50000 [==============================] - 6s 122us/step - loss: 1.6293 - acc: 0.4283 - val_loss: 1.6761 - val_acc: 0.4083\n",
      "Epoch 4/25\n",
      "50000/50000 [==============================] - 5s 96us/step - loss: 1.5557 - acc: 0.4555 - val_loss: 1.6421 - val_acc: 0.4329\n",
      "Epoch 5/25\n",
      "50000/50000 [==============================] - 5s 108us/step - loss: 1.5014 - acc: 0.4722 - val_loss: 1.5869 - val_acc: 0.4431\n",
      "Epoch 6/25\n",
      "50000/50000 [==============================] - 5s 109us/step - loss: 1.4571 - acc: 0.4887 - val_loss: 1.5583 - val_acc: 0.4554\n",
      "Epoch 7/25\n",
      "50000/50000 [==============================] - 6s 118us/step - loss: 1.4193 - acc: 0.5024 - val_loss: 1.5351 - val_acc: 0.4619\n",
      "Epoch 8/25\n",
      "50000/50000 [==============================] - 5s 103us/step - loss: 1.3850 - acc: 0.5159 - val_loss: 1.5183 - val_acc: 0.4634\n",
      "Epoch 9/25\n",
      "50000/50000 [==============================] - 5s 103us/step - loss: 1.3556 - acc: 0.5269 - val_loss: 1.5129 - val_acc: 0.4634\n",
      "Epoch 10/25\n",
      "50000/50000 [==============================] - 5s 102us/step - loss: 1.3278 - acc: 0.5362 - val_loss: 1.5028 - val_acc: 0.4715\n",
      "Epoch 11/25\n",
      "50000/50000 [==============================] - 5s 99us/step - loss: 1.3018 - acc: 0.5458 - val_loss: 1.4932 - val_acc: 0.4745\n",
      "Epoch 12/25\n",
      "50000/50000 [==============================] - 6s 126us/step - loss: 1.2785 - acc: 0.5536 - val_loss: 1.4967 - val_acc: 0.4752\n",
      "Epoch 13/25\n",
      "50000/50000 [==============================] - 6s 114us/step - loss: 1.2571 - acc: 0.5626 - val_loss: 1.4754 - val_acc: 0.4842\n",
      "Epoch 14/25\n",
      "50000/50000 [==============================] - 6s 113us/step - loss: 1.2342 - acc: 0.5717 - val_loss: 1.4599 - val_acc: 0.4886\n",
      "Epoch 15/25\n",
      "50000/50000 [==============================] - 7s 147us/step - loss: 1.2124 - acc: 0.5798 - val_loss: 1.4569 - val_acc: 0.4906\n",
      "Epoch 16/25\n",
      "50000/50000 [==============================] - 6s 124us/step - loss: 1.1919 - acc: 0.5877 - val_loss: 1.4607 - val_acc: 0.4870\n",
      "Epoch 17/25\n",
      "50000/50000 [==============================] - 8s 170us/step - loss: 1.1734 - acc: 0.5944 - val_loss: 1.4506 - val_acc: 0.4953\n",
      "Epoch 18/25\n",
      "50000/50000 [==============================] - 8s 156us/step - loss: 1.1550 - acc: 0.6020 - val_loss: 1.4456 - val_acc: 0.4976\n",
      "Epoch 19/25\n",
      "50000/50000 [==============================] - 8s 163us/step - loss: 1.1364 - acc: 0.6082 - val_loss: 1.4543 - val_acc: 0.4917\n",
      "Epoch 20/25\n",
      "50000/50000 [==============================] - 8s 152us/step - loss: 1.1178 - acc: 0.6138 - val_loss: 1.4489 - val_acc: 0.4922\n",
      "Epoch 21/25\n",
      "50000/50000 [==============================] - 8s 155us/step - loss: 1.1010 - acc: 0.6217 - val_loss: 1.4452 - val_acc: 0.4921\n",
      "Epoch 22/25\n",
      "50000/50000 [==============================] - 6s 112us/step - loss: 1.0824 - acc: 0.6280 - val_loss: 1.4441 - val_acc: 0.4945\n",
      "Epoch 23/25\n",
      "50000/50000 [==============================] - 6s 129us/step - loss: 1.0668 - acc: 0.6347 - val_loss: 1.4411 - val_acc: 0.4979\n",
      "Epoch 24/25\n",
      "50000/50000 [==============================] - 5s 105us/step - loss: 1.0496 - acc: 0.6429 - val_loss: 1.4392 - val_acc: 0.5024\n",
      "Epoch 25/25\n",
      "50000/50000 [==============================] - 5s 109us/step - loss: 1.0329 - acc: 0.6484 - val_loss: 1.4489 - val_acc: 0.4957\n"
     ]
    }
   ],
   "source": [
    "model = build_mlp(input_shape=x_train.shape[1:])\n",
    "model.summary()\n",
    "optimizer = keras.optimizers.SGD(lr=LEARNING_RATE, nesterov=True, momentum=MOMENTUM)\n",
    "model.compile(loss=\"categorical_crossentropy\", metrics=[\"accuracy\"], optimizer=optimizer)\n",
    "\n",
    "\"\"\"Code Here\n",
    "將 callbacks 放入模型訓練流程中\n",
    "\"\"\"\n",
    "model.fit(x_train, y_train, \n",
    "          epochs=EPOCHS, \n",
    "          batch_size=BATCH_SIZE, \n",
    "          validation_data=(x_test, y_test), \n",
    "          shuffle=True,\n",
    "          callbacks=[rec_tptn]\n",
    "         )\n",
    "\n",
    "# Collect results\n",
    "train_loss = model.history.history[\"loss\"]\n",
    "valid_loss = model.history.history[\"val_loss\"]\n",
    "train_acc = model.history.history[\"acc\"]\n",
    "valid_acc = model.history.history[\"val_acc\"]\n",
    "\n",
    "\"\"\"Code Here\n",
    "將 tp/tn 從訓練完的模型中取出\n",
    "\"\"\"\n",
    "valid_tp = model.history.history['valid_tp']\n",
    "valid_tn = model.history.history['valid_tn']"
   ]
  },
  {
   "cell_type": "code",
   "execution_count": 9,
   "metadata": {},
   "outputs": [
    {
     "data": {
      "image/png": "[encoded data removed]",
      "text/plain": [
       "<Figure size 432x288 with 1 Axes>"
      ]
     },
     "metadata": {
      "needs_background": "light"
     },
     "output_type": "display_data"
    },
    {
     "data": {
      "image/png": "[encoded data removed]",
      "text/plain": [
       "<Figure size 432x288 with 1 Axes>"
      ]
     },
     "metadata": {
      "needs_background": "light"
     },
     "output_type": "display_data"
    },
    {
     "data": {
      "image/png": "[encoded data removed]",
      "text/plain": [
       "<Figure size 432x288 with 1 Axes>"
      ]
     },
     "metadata": {
      "needs_background": "light"
     },
     "output_type": "display_data"
    }
   ],
   "source": [
    "import matplotlib.pyplot as plt\n",
    "%matplotlib inline\n",
    "\n",
    "plt.plot(range(len(train_loss)), train_loss, label=\"train loss\")\n",
    "plt.plot(range(len(valid_loss)), valid_loss, label=\"valid loss\")\n",
    "plt.legend()\n",
    "plt.title(\"Loss\")\n",
    "plt.show()\n",
    "\n",
    "plt.plot(range(len(train_acc)), train_acc, label=\"train accuracy\")\n",
    "plt.plot(range(len(valid_acc)), valid_acc, label=\"valid accuracy\")\n",
    "plt.legend()\n",
    "plt.title(\"Accuracy\")\n",
    "plt.show()\n",
    "\n",
    "plt.plot(range(len(valid_tp)), valid_tp, label=\"valid tp\", color=\"navy\")\n",
    "plt.plot(range(len(valid_tn)), valid_tn, label=\"valid tn\", color=\"red\")\n",
    "plt.legend()\n",
    "plt.title(\"True positives and True Negatives\")\n",
    "plt.show()"
   ]
  },
  {
   "cell_type": "code",
   "execution_count": null,
   "metadata": {},
   "outputs": [],
   "source": []
  }
 ],
 "metadata": {
  "kernelspec": {
   "display_name": "Python (tensorflow-gpu)",
   "language": "python",
   "name": "tensorflow-gpu"
  },
  "language_info": {
   "codemirror_mode": {
    "name": "ipython",
    "version": 3
   },
   "file_extension": ".py",
   "mimetype": "text/x-python",
   "name": "python",
   "nbconvert_exporter": "python",
   "pygments_lexer": "ipython3",
   "version": "3.6.8"
  }
 },
 "nbformat": 4,
 "nbformat_minor": 2
}
