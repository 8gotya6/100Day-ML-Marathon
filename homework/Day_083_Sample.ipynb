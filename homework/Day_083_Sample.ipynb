{
 "cells": [
  {
   "cell_type": "markdown",
   "metadata": {},
   "source": [
    "# 範例重點\n",
    "學習如何在 keras 中加入 BatchNorm  \n",
    "知道有無 BN 對訓練的影響  \n",
    "比較 BN 在不同 batch size 下的效果  "
   ]
  },
  {
   "cell_type": "code",
   "execution_count": 1,
   "metadata": {},
   "outputs": [
    {
     "name": "stderr",
     "output_type": "stream",
     "text": [
      "Using TensorFlow backend.\n"
     ]
    }
   ],
   "source": [
    "import os\n",
    "import keras\n",
    "\n",
    "# 本範例不需使用 GPU, 將 GPU 設定為 \"無\"\n",
    "os.environ[\"CUDA_VISIBLE_DEVICES\"] = \"\""
   ]
  },
  {
   "cell_type": "code",
   "execution_count": 2,
   "metadata": {},
   "outputs": [],
   "source": [
    "train, test = keras.datasets.cifar10.load_data()"
   ]
  },
  {
   "cell_type": "code",
   "execution_count": 3,
   "metadata": {},
   "outputs": [],
   "source": [
    "## 資料前處理\n",
    "def preproc_x(x, flatten=True):\n",
    "    x = x / 255.\n",
    "    if flatten:\n",
    "        x = x.reshape((len(x), -1))\n",
    "    return x\n",
    "\n",
    "def preproc_y(y, num_classes=10):\n",
    "    if y.shape[-1] == 1:\n",
    "        y = keras.utils.to_categorical(y, num_classes)\n",
    "    return y    "
   ]
  },
  {
   "cell_type": "code",
   "execution_count": 4,
   "metadata": {},
   "outputs": [],
   "source": [
    "x_train, y_train = train\n",
    "x_test, y_test = test\n",
    "\n",
    "# 資料前處理 - X 標準化\n",
    "x_train = preproc_x(x_train)\n",
    "x_test = preproc_x(x_test)\n",
    "\n",
    "# 資料前處理 -Y 轉成 onehot\n",
    "y_train = preproc_y(y_train)\n",
    "y_test = preproc_y(y_test)"
   ]
  },
  {
   "cell_type": "code",
   "execution_count": 5,
   "metadata": {},
   "outputs": [],
   "source": [
    "from keras.layers import BatchNormalization\n",
    "\n",
    "\"\"\"\n",
    "建立神經網路，並加入 BN layer\n",
    "\"\"\"\n",
    "def build_mlp(input_shape, output_units=10, num_neurons=[512, 256, 128]):\n",
    "    input_layer = keras.layers.Input(input_shape)\n",
    "    \n",
    "    for i, n_units in enumerate(num_neurons):\n",
    "        if i == 0:\n",
    "            x = keras.layers.Dense(units=n_units, \n",
    "                                   activation=\"relu\", \n",
    "                                   name=\"hidden_layer\"+str(i+1))(input_layer)\n",
    "            x = BatchNormalization()(x)\n",
    "        else:\n",
    "            x = keras.layers.Dense(units=n_units, \n",
    "                                   activation=\"relu\", \n",
    "                                   name=\"hidden_layer\"+str(i+1))(x)\n",
    "            x = BatchNormalization()(x)\n",
    "    \n",
    "    out = keras.layers.Dense(units=output_units, activation=\"softmax\", name=\"output\")(x)\n",
    "    \n",
    "    model = keras.models.Model(inputs=[input_layer], outputs=[out])\n",
    "    return model"
   ]
  },
  {
   "cell_type": "code",
   "execution_count": 6,
   "metadata": {},
   "outputs": [],
   "source": [
    "## 超參數設定\n",
    "LEARNING_RATE = 1e-3\n",
    "EPOCHS = 50\n",
    "BATCH_SIZE = 1024\n",
    "MOMENTUM = 0.95"
   ]
  },
  {
   "cell_type": "code",
   "execution_count": 7,
   "metadata": {},
   "outputs": [
    {
     "name": "stderr",
     "output_type": "stream",
     "text": [
      "WARNING: Logging before flag parsing goes to stderr.\n",
      "W0930 17:24:49.418303  6716 deprecation_wrapper.py:119] From C:\\Coding\\Anaconda3\\envs\\tensorflow-gpu\\lib\\site-packages\\keras\\backend\\tensorflow_backend.py:74: The name tf.get_default_graph is deprecated. Please use tf.compat.v1.get_default_graph instead.\n",
      "\n",
      "W0930 17:24:49.458157  6716 deprecation_wrapper.py:119] From C:\\Coding\\Anaconda3\\envs\\tensorflow-gpu\\lib\\site-packages\\keras\\backend\\tensorflow_backend.py:517: The name tf.placeholder is deprecated. Please use tf.compat.v1.placeholder instead.\n",
      "\n",
      "W0930 17:24:49.467133  6716 deprecation_wrapper.py:119] From C:\\Coding\\Anaconda3\\envs\\tensorflow-gpu\\lib\\site-packages\\keras\\backend\\tensorflow_backend.py:4138: The name tf.random_uniform is deprecated. Please use tf.random.uniform instead.\n",
      "\n",
      "W0930 17:24:49.573889  6716 deprecation_wrapper.py:119] From C:\\Coding\\Anaconda3\\envs\\tensorflow-gpu\\lib\\site-packages\\keras\\backend\\tensorflow_backend.py:133: The name tf.placeholder_with_default is deprecated. Please use tf.compat.v1.placeholder_with_default instead.\n",
      "\n",
      "W0930 17:24:49.752412  6716 deprecation_wrapper.py:119] From C:\\Coding\\Anaconda3\\envs\\tensorflow-gpu\\lib\\site-packages\\keras\\optimizers.py:790: The name tf.train.Optimizer is deprecated. Please use tf.compat.v1.train.Optimizer instead.\n",
      "\n",
      "W0930 17:24:49.758355  6716 deprecation_wrapper.py:119] From C:\\Coding\\Anaconda3\\envs\\tensorflow-gpu\\lib\\site-packages\\keras\\backend\\tensorflow_backend.py:3295: The name tf.log is deprecated. Please use tf.math.log instead.\n",
      "\n",
      "W0930 17:24:49.846160  6716 deprecation.py:323] From C:\\Coding\\Anaconda3\\envs\\tensorflow-gpu\\lib\\site-packages\\tensorflow\\python\\ops\\math_grad.py:1250: add_dispatch_support.<locals>.wrapper (from tensorflow.python.ops.array_ops) is deprecated and will be removed in a future version.\n",
      "Instructions for updating:\n",
      "Use tf.where in 2.0, which has the same broadcast rule as np.where\n"
     ]
    },
    {
     "name": "stdout",
     "output_type": "stream",
     "text": [
      "_________________________________________________________________\n",
      "Layer (type)                 Output Shape              Param #   \n",
      "=================================================================\n",
      "input_1 (InputLayer)         (None, 3072)              0         \n",
      "_________________________________________________________________\n",
      "hidden_layer1 (Dense)        (None, 512)               1573376   \n",
      "_________________________________________________________________\n",
      "batch_normalization_1 (Batch (None, 512)               2048      \n",
      "_________________________________________________________________\n",
      "hidden_layer2 (Dense)        (None, 256)               131328    \n",
      "_________________________________________________________________\n",
      "batch_normalization_2 (Batch (None, 256)               1024      \n",
      "_________________________________________________________________\n",
      "hidden_layer3 (Dense)        (None, 128)               32896     \n",
      "_________________________________________________________________\n",
      "batch_normalization_3 (Batch (None, 128)               512       \n",
      "_________________________________________________________________\n",
      "output (Dense)               (None, 10)                1290      \n",
      "=================================================================\n",
      "Total params: 1,742,474\n",
      "Trainable params: 1,740,682\n",
      "Non-trainable params: 1,792\n",
      "_________________________________________________________________\n",
      "Train on 50000 samples, validate on 10000 samples\n",
      "Epoch 1/50\n",
      "50000/50000 [==============================] - 8s 151us/step - loss: 2.2075 - acc: 0.2704 - val_loss: 2.0562 - val_acc: 0.3269\n",
      "Epoch 2/50\n",
      "50000/50000 [==============================] - 3s 65us/step - loss: 1.7411 - acc: 0.3931 - val_loss: 1.8058 - val_acc: 0.3852\n",
      "Epoch 3/50\n",
      "50000/50000 [==============================] - 3s 67us/step - loss: 1.6115 - acc: 0.4369 - val_loss: 1.6985 - val_acc: 0.4056\n",
      "Epoch 4/50\n",
      "50000/50000 [==============================] - 3s 69us/step - loss: 1.5387 - acc: 0.4640 - val_loss: 1.6336 - val_acc: 0.4352\n",
      "Epoch 5/50\n",
      "50000/50000 [==============================] - 3s 66us/step - loss: 1.4851 - acc: 0.4819 - val_loss: 1.6053 - val_acc: 0.4370\n",
      "Epoch 6/50\n",
      "50000/50000 [==============================] - 3s 64us/step - loss: 1.4405 - acc: 0.4968 - val_loss: 1.5661 - val_acc: 0.4522\n",
      "Epoch 7/50\n",
      "50000/50000 [==============================] - 3s 65us/step - loss: 1.4038 - acc: 0.5104 - val_loss: 1.5414 - val_acc: 0.4618\n",
      "Epoch 8/50\n",
      "50000/50000 [==============================] - 3s 63us/step - loss: 1.3680 - acc: 0.5239 - val_loss: 1.5235 - val_acc: 0.4687\n",
      "Epoch 9/50\n",
      "50000/50000 [==============================] - 3s 65us/step - loss: 1.3352 - acc: 0.5353 - val_loss: 1.5129 - val_acc: 0.4693\n",
      "Epoch 10/50\n",
      "50000/50000 [==============================] - 3s 66us/step - loss: 1.3046 - acc: 0.5464 - val_loss: 1.4935 - val_acc: 0.4773\n",
      "Epoch 11/50\n",
      "50000/50000 [==============================] - 4s 77us/step - loss: 1.2767 - acc: 0.5563 - val_loss: 1.4848 - val_acc: 0.4827\n",
      "Epoch 12/50\n",
      "50000/50000 [==============================] - 3s 63us/step - loss: 1.2491 - acc: 0.5674 - val_loss: 1.4821 - val_acc: 0.4855\n",
      "Epoch 13/50\n",
      "50000/50000 [==============================] - 3s 63us/step - loss: 1.2246 - acc: 0.5762 - val_loss: 1.4776 - val_acc: 0.4813\n",
      "Epoch 14/50\n",
      "50000/50000 [==============================] - 3s 61us/step - loss: 1.1981 - acc: 0.5859 - val_loss: 1.4697 - val_acc: 0.4875\n",
      "Epoch 15/50\n",
      "50000/50000 [==============================] - 3s 62us/step - loss: 1.1746 - acc: 0.5936 - val_loss: 1.4636 - val_acc: 0.4882\n",
      "Epoch 16/50\n",
      "50000/50000 [==============================] - 3s 63us/step - loss: 1.1509 - acc: 0.6055 - val_loss: 1.4504 - val_acc: 0.4954\n",
      "Epoch 17/50\n",
      "50000/50000 [==============================] - 3s 66us/step - loss: 1.1286 - acc: 0.6131 - val_loss: 1.4513 - val_acc: 0.4981\n",
      "Epoch 18/50\n",
      "50000/50000 [==============================] - 3s 65us/step - loss: 1.1063 - acc: 0.6209 - val_loss: 1.4625 - val_acc: 0.4900\n",
      "Epoch 19/50\n",
      "50000/50000 [==============================] - 3s 64us/step - loss: 1.0850 - acc: 0.6268 - val_loss: 1.4456 - val_acc: 0.4933\n",
      "Epoch 20/50\n",
      "50000/50000 [==============================] - 3s 67us/step - loss: 1.0629 - acc: 0.6371 - val_loss: 1.4486 - val_acc: 0.4953\n",
      "Epoch 21/50\n",
      "50000/50000 [==============================] - 4s 76us/step - loss: 1.0397 - acc: 0.6465 - val_loss: 1.4422 - val_acc: 0.5009\n",
      "Epoch 22/50\n",
      "50000/50000 [==============================] - 3s 65us/step - loss: 1.0197 - acc: 0.6537 - val_loss: 1.4490 - val_acc: 0.5040\n",
      "Epoch 23/50\n",
      "50000/50000 [==============================] - 3s 67us/step - loss: 0.9978 - acc: 0.6633 - val_loss: 1.4489 - val_acc: 0.5003\n",
      "Epoch 24/50\n",
      "50000/50000 [==============================] - 3s 63us/step - loss: 0.9775 - acc: 0.6705 - val_loss: 1.4691 - val_acc: 0.4951\n",
      "Epoch 25/50\n",
      "50000/50000 [==============================] - 3s 64us/step - loss: 0.9588 - acc: 0.6782 - val_loss: 1.4638 - val_acc: 0.5006\n",
      "Epoch 26/50\n",
      "50000/50000 [==============================] - 3s 63us/step - loss: 0.9384 - acc: 0.6843 - val_loss: 1.4572 - val_acc: 0.5031\n",
      "Epoch 27/50\n",
      "50000/50000 [==============================] - 3s 69us/step - loss: 0.9173 - acc: 0.6934 - val_loss: 1.4543 - val_acc: 0.5026\n",
      "Epoch 28/50\n",
      "50000/50000 [==============================] - 3s 66us/step - loss: 0.8982 - acc: 0.7018 - val_loss: 1.4683 - val_acc: 0.5019\n",
      "Epoch 29/50\n",
      "50000/50000 [==============================] - 3s 67us/step - loss: 0.8770 - acc: 0.7090 - val_loss: 1.4620 - val_acc: 0.5052\n",
      "Epoch 30/50\n",
      "50000/50000 [==============================] - 4s 74us/step - loss: 0.8571 - acc: 0.7177 - val_loss: 1.4715 - val_acc: 0.4978\n",
      "Epoch 31/50\n",
      "50000/50000 [==============================] - 3s 68us/step - loss: 0.8393 - acc: 0.7223 - val_loss: 1.4928 - val_acc: 0.4999\n",
      "Epoch 32/50\n",
      "50000/50000 [==============================] - 3s 65us/step - loss: 0.8192 - acc: 0.7336 - val_loss: 1.4956 - val_acc: 0.4987\n",
      "Epoch 33/50\n",
      "50000/50000 [==============================] - 3s 65us/step - loss: 0.8014 - acc: 0.7385 - val_loss: 1.4840 - val_acc: 0.4967\n",
      "Epoch 34/50\n",
      "50000/50000 [==============================] - 3s 63us/step - loss: 0.7811 - acc: 0.7472 - val_loss: 1.4992 - val_acc: 0.5003\n",
      "Epoch 35/50\n",
      "50000/50000 [==============================] - 3s 65us/step - loss: 0.7608 - acc: 0.7547 - val_loss: 1.5059 - val_acc: 0.5006\n",
      "Epoch 36/50\n",
      "50000/50000 [==============================] - 3s 65us/step - loss: 0.7446 - acc: 0.7615 - val_loss: 1.4901 - val_acc: 0.5013\n",
      "Epoch 37/50\n",
      "50000/50000 [==============================] - 3s 66us/step - loss: 0.7247 - acc: 0.7712 - val_loss: 1.5160 - val_acc: 0.4996\n",
      "Epoch 38/50\n",
      "50000/50000 [==============================] - 3s 65us/step - loss: 0.7055 - acc: 0.7768 - val_loss: 1.5178 - val_acc: 0.5022\n",
      "Epoch 39/50\n",
      "50000/50000 [==============================] - 3s 68us/step - loss: 0.6856 - acc: 0.7849 - val_loss: 1.5391 - val_acc: 0.4996\n",
      "Epoch 40/50\n",
      "50000/50000 [==============================] - 3s 65us/step - loss: 0.6689 - acc: 0.7908 - val_loss: 1.5346 - val_acc: 0.4987\n",
      "Epoch 41/50\n",
      "50000/50000 [==============================] - 3s 66us/step - loss: 0.6504 - acc: 0.7980 - val_loss: 1.5485 - val_acc: 0.5007\n",
      "Epoch 42/50\n",
      "50000/50000 [==============================] - 4s 71us/step - loss: 0.6313 - acc: 0.8068 - val_loss: 1.5553 - val_acc: 0.5007\n",
      "Epoch 43/50\n",
      "50000/50000 [==============================] - 3s 67us/step - loss: 0.6157 - acc: 0.8125 - val_loss: 1.5819 - val_acc: 0.5008\n",
      "Epoch 44/50\n",
      "50000/50000 [==============================] - 3s 67us/step - loss: 0.5982 - acc: 0.8205 - val_loss: 1.5863 - val_acc: 0.4992\n",
      "Epoch 45/50\n",
      "50000/50000 [==============================] - 3s 65us/step - loss: 0.5802 - acc: 0.8271 - val_loss: 1.6065 - val_acc: 0.4974\n",
      "Epoch 46/50\n",
      "50000/50000 [==============================] - 3s 70us/step - loss: 0.5615 - acc: 0.8357 - val_loss: 1.6248 - val_acc: 0.4919\n",
      "Epoch 47/50\n",
      "50000/50000 [==============================] - 3s 64us/step - loss: 0.5446 - acc: 0.8432 - val_loss: 1.6182 - val_acc: 0.4957\n",
      "Epoch 48/50\n",
      "50000/50000 [==============================] - 3s 65us/step - loss: 0.5307 - acc: 0.8476 - val_loss: 1.6268 - val_acc: 0.4954\n",
      "Epoch 49/50\n",
      "50000/50000 [==============================] - 4s 70us/step - loss: 0.5114 - acc: 0.8557 - val_loss: 1.6637 - val_acc: 0.4963\n"
     ]
    },
    {
     "name": "stdout",
     "output_type": "stream",
     "text": [
      "Epoch 50/50\n",
      "50000/50000 [==============================] - 3s 65us/step - loss: 0.4971 - acc: 0.8587 - val_loss: 1.6975 - val_acc: 0.4844\n"
     ]
    }
   ],
   "source": [
    "model = build_mlp(input_shape=x_train.shape[1:])\n",
    "model.summary()\n",
    "optimizer = keras.optimizers.SGD(lr=LEARNING_RATE, nesterov=True, momentum=MOMENTUM)\n",
    "model.compile(loss=\"categorical_crossentropy\", metrics=[\"accuracy\"], optimizer=optimizer)\n",
    "\n",
    "model.fit(x_train, y_train, \n",
    "          epochs=EPOCHS, \n",
    "          batch_size=BATCH_SIZE, \n",
    "          validation_data=(x_test, y_test), \n",
    "          shuffle=True)\n",
    "\n",
    "# Collect results\n",
    "train_loss = model.history.history[\"loss\"]\n",
    "valid_loss = model.history.history[\"val_loss\"]\n",
    "train_acc = model.history.history[\"acc\"]\n",
    "valid_acc = model.history.history[\"val_acc\"]"
   ]
  },
  {
   "cell_type": "code",
   "execution_count": 8,
   "metadata": {},
   "outputs": [
    {
     "data": {
      "image/png": "[encoded data removed]",
      "text/plain": [
       "<Figure size 432x288 with 1 Axes>"
      ]
     },
     "metadata": {
      "needs_background": "light"
     },
     "output_type": "display_data"
    },
    {
     "data": {
      "image/png": "[encoded data removed]",
      "text/plain": [
       "<Figure size 432x288 with 1 Axes>"
      ]
     },
     "metadata": {
      "needs_background": "light"
     },
     "output_type": "display_data"
    }
   ],
   "source": [
    "import matplotlib.pyplot as plt\n",
    "%matplotlib inline\n",
    "\n",
    "plt.plot(range(len(train_loss)), train_loss, label=\"train loss\")\n",
    "plt.plot(range(len(valid_loss)), valid_loss, label=\"valid loss\")\n",
    "plt.legend()\n",
    "plt.title(\"Loss\")\n",
    "plt.show()\n",
    "\n",
    "plt.plot(range(len(train_acc)), train_acc, label=\"train accuracy\")\n",
    "plt.plot(range(len(valid_acc)), valid_acc, label=\"valid accuracy\")\n",
    "plt.legend()\n",
    "plt.title(\"Accuracy\")\n",
    "plt.show()"
   ]
  },
  {
   "cell_type": "code",
   "execution_count": null,
   "metadata": {},
   "outputs": [],
   "source": []
  }
 ],
 "metadata": {
  "kernelspec": {
   "display_name": "Python (tensorflow-gpu)",
   "language": "python",
   "name": "tensorflow-gpu"
  },
  "language_info": {
   "codemirror_mode": {
    "name": "ipython",
    "version": 3
   },
   "file_extension": ".py",
   "mimetype": "text/x-python",
   "name": "python",
   "nbconvert_exporter": "python",
   "pygments_lexer": "ipython3",
   "version": "3.6.8"
  }
 },
 "nbformat": 4,
 "nbformat_minor": 2
}
