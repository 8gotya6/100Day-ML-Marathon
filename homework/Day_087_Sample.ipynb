{
 "cells": [
  {
   "cell_type": "markdown",
   "metadata": {},
   "source": [
    "# 範例重點\n",
    "學習如何在 keras 中加入 reduce learning rate  \n",
    "知道如何設定 reduce_lr 的監控目標  \n",
    "比較使用有無使用 reduce_lr 時的 performance"
   ]
  },
  {
   "cell_type": "code",
   "execution_count": 1,
   "metadata": {},
   "outputs": [
    {
     "name": "stderr",
     "output_type": "stream",
     "text": [
      "Using TensorFlow backend.\n"
     ]
    }
   ],
   "source": [
    "import os\n",
    "import keras\n",
    "\n",
    "# 本範例不需使用 GPU, 將 GPU 設定為 \"無\"\n",
    "os.environ[\"CUDA_VISIBLE_DEVICES\"] = \"\""
   ]
  },
  {
   "cell_type": "code",
   "execution_count": 2,
   "metadata": {},
   "outputs": [],
   "source": [
    "train, test = keras.datasets.cifar10.load_data()"
   ]
  },
  {
   "cell_type": "code",
   "execution_count": 3,
   "metadata": {},
   "outputs": [],
   "source": [
    "## 資料前處理\n",
    "def preproc_x(x, flatten=True):\n",
    "    x = x / 255.\n",
    "    if flatten:\n",
    "        x = x.reshape((len(x), -1))\n",
    "    return x\n",
    "\n",
    "def preproc_y(y, num_classes=10):\n",
    "    if y.shape[-1] == 1:\n",
    "        y = keras.utils.to_categorical(y, num_classes)\n",
    "    return y    "
   ]
  },
  {
   "cell_type": "code",
   "execution_count": 4,
   "metadata": {},
   "outputs": [],
   "source": [
    "x_train, y_train = train\n",
    "x_test, y_test = test\n",
    "\n",
    "# 資料前處理 - X 標準化\n",
    "x_train = preproc_x(x_train)\n",
    "x_test = preproc_x(x_test)\n",
    "\n",
    "# 資料前處理 -Y 轉成 onehot\n",
    "y_train = preproc_y(y_train)\n",
    "y_test = preproc_y(y_test)"
   ]
  },
  {
   "cell_type": "code",
   "execution_count": 5,
   "metadata": {},
   "outputs": [],
   "source": [
    "from keras.layers import BatchNormalization\n",
    "\n",
    "\"\"\"\n",
    "建立神經網路，並加入 BN layer\n",
    "\"\"\"\n",
    "def build_mlp(input_shape, output_units=10, num_neurons=[512, 256, 128]):\n",
    "    input_layer = keras.layers.Input(input_shape)\n",
    "    \n",
    "    for i, n_units in enumerate(num_neurons):\n",
    "        if i == 0:\n",
    "            x = keras.layers.Dense(units=n_units, \n",
    "                                   activation=\"relu\", \n",
    "                                   name=\"hidden_layer\"+str(i+1))(input_layer)\n",
    "            x = BatchNormalization()(x)\n",
    "        else:\n",
    "            x = keras.layers.Dense(units=n_units, \n",
    "                                   activation=\"relu\", \n",
    "                                   name=\"hidden_layer\"+str(i+1))(x)\n",
    "            x = BatchNormalization()(x)\n",
    "    \n",
    "    out = keras.layers.Dense(units=output_units, activation=\"softmax\", name=\"output\")(x)\n",
    "    \n",
    "    model = keras.models.Model(inputs=[input_layer], outputs=[out])\n",
    "    return model"
   ]
  },
  {
   "cell_type": "code",
   "execution_count": 6,
   "metadata": {},
   "outputs": [],
   "source": [
    "## 超參數設定\n",
    "LEARNING_RATE = 1e-3\n",
    "EPOCHS = 50\n",
    "BATCH_SIZE = 1024\n",
    "MOMENTUM = 0.95"
   ]
  },
  {
   "cell_type": "code",
   "execution_count": 7,
   "metadata": {},
   "outputs": [],
   "source": [
    "\"\"\"\n",
    "# 載入 Callbacks, 並設定監控目標為 validation loss\n",
    "\"\"\"\n",
    "from keras.callbacks import ReduceLROnPlateau\n",
    "\n",
    "reduce_lr = ReduceLROnPlateau(factor=0.5, \n",
    "                              min_lr=1e-12, \n",
    "                              monitor='val_loss', \n",
    "                              patience=5, \n",
    "                              verbose=1)"
   ]
  },
  {
   "cell_type": "code",
   "execution_count": 8,
   "metadata": {},
   "outputs": [
    {
     "name": "stderr",
     "output_type": "stream",
     "text": [
      "WARNING: Logging before flag parsing goes to stderr.\n",
      "W1015 21:59:07.511670  1260 deprecation_wrapper.py:119] From C:\\Coding\\Anaconda3\\envs\\tensorflow-gpu\\lib\\site-packages\\keras\\backend\\tensorflow_backend.py:74: The name tf.get_default_graph is deprecated. Please use tf.compat.v1.get_default_graph instead.\n",
      "\n",
      "W1015 21:59:07.551412  1260 deprecation_wrapper.py:119] From C:\\Coding\\Anaconda3\\envs\\tensorflow-gpu\\lib\\site-packages\\keras\\backend\\tensorflow_backend.py:517: The name tf.placeholder is deprecated. Please use tf.compat.v1.placeholder instead.\n",
      "\n",
      "W1015 21:59:07.561271  1260 deprecation_wrapper.py:119] From C:\\Coding\\Anaconda3\\envs\\tensorflow-gpu\\lib\\site-packages\\keras\\backend\\tensorflow_backend.py:4138: The name tf.random_uniform is deprecated. Please use tf.random.uniform instead.\n",
      "\n",
      "W1015 21:59:07.663863  1260 deprecation_wrapper.py:119] From C:\\Coding\\Anaconda3\\envs\\tensorflow-gpu\\lib\\site-packages\\keras\\backend\\tensorflow_backend.py:133: The name tf.placeholder_with_default is deprecated. Please use tf.compat.v1.placeholder_with_default instead.\n",
      "\n",
      "W1015 21:59:07.849434  1260 deprecation_wrapper.py:119] From C:\\Coding\\Anaconda3\\envs\\tensorflow-gpu\\lib\\site-packages\\keras\\optimizers.py:790: The name tf.train.Optimizer is deprecated. Please use tf.compat.v1.train.Optimizer instead.\n",
      "\n",
      "W1015 21:59:07.856378  1260 deprecation_wrapper.py:119] From C:\\Coding\\Anaconda3\\envs\\tensorflow-gpu\\lib\\site-packages\\keras\\backend\\tensorflow_backend.py:3295: The name tf.log is deprecated. Please use tf.math.log instead.\n",
      "\n",
      "W1015 21:59:07.948913  1260 deprecation.py:323] From C:\\Coding\\Anaconda3\\envs\\tensorflow-gpu\\lib\\site-packages\\tensorflow\\python\\ops\\math_grad.py:1250: add_dispatch_support.<locals>.wrapper (from tensorflow.python.ops.array_ops) is deprecated and will be removed in a future version.\n",
      "Instructions for updating:\n",
      "Use tf.where in 2.0, which has the same broadcast rule as np.where\n"
     ]
    },
    {
     "name": "stdout",
     "output_type": "stream",
     "text": [
      "_________________________________________________________________\n",
      "Layer (type)                 Output Shape              Param #   \n",
      "=================================================================\n",
      "input_1 (InputLayer)         (None, 3072)              0         \n",
      "_________________________________________________________________\n",
      "hidden_layer1 (Dense)        (None, 512)               1573376   \n",
      "_________________________________________________________________\n",
      "batch_normalization_1 (Batch (None, 512)               2048      \n",
      "_________________________________________________________________\n",
      "hidden_layer2 (Dense)        (None, 256)               131328    \n",
      "_________________________________________________________________\n",
      "batch_normalization_2 (Batch (None, 256)               1024      \n",
      "_________________________________________________________________\n",
      "hidden_layer3 (Dense)        (None, 128)               32896     \n",
      "_________________________________________________________________\n",
      "batch_normalization_3 (Batch (None, 128)               512       \n",
      "_________________________________________________________________\n",
      "output (Dense)               (None, 10)                1290      \n",
      "=================================================================\n",
      "Total params: 1,742,474\n",
      "Trainable params: 1,740,682\n",
      "Non-trainable params: 1,792\n",
      "_________________________________________________________________\n",
      "Train on 50000 samples, validate on 10000 samples\n",
      "Epoch 1/50\n",
      "50000/50000 [==============================] - 13s 254us/step - loss: 2.1960 - acc: 0.2750 - val_loss: 2.1419 - val_acc: 0.3273\n",
      "Epoch 2/50\n",
      "50000/50000 [==============================] - 9s 185us/step - loss: 1.7378 - acc: 0.3909 - val_loss: 1.8094 - val_acc: 0.3853\n",
      "Epoch 3/50\n",
      "50000/50000 [==============================] - 8s 158us/step - loss: 1.6107 - acc: 0.4337 - val_loss: 1.6991 - val_acc: 0.4075\n",
      "Epoch 4/50\n",
      "50000/50000 [==============================] - 8s 160us/step - loss: 1.5415 - acc: 0.4591 - val_loss: 1.6584 - val_acc: 0.4233\n",
      "Epoch 5/50\n",
      "50000/50000 [==============================] - 8s 162us/step - loss: 1.4892 - acc: 0.4770 - val_loss: 1.6078 - val_acc: 0.4353\n",
      "Epoch 6/50\n",
      "50000/50000 [==============================] - 9s 180us/step - loss: 1.4429 - acc: 0.4952 - val_loss: 1.5780 - val_acc: 0.4420\n",
      "Epoch 7/50\n",
      "50000/50000 [==============================] - 10s 199us/step - loss: 1.4031 - acc: 0.5096 - val_loss: 1.5484 - val_acc: 0.4548\n",
      "Epoch 8/50\n",
      "50000/50000 [==============================] - 9s 173us/step - loss: 1.3689 - acc: 0.5242 - val_loss: 1.5340 - val_acc: 0.4566\n",
      "Epoch 9/50\n",
      "50000/50000 [==============================] - 9s 188us/step - loss: 1.3371 - acc: 0.5337 - val_loss: 1.5196 - val_acc: 0.4630\n",
      "Epoch 10/50\n",
      "50000/50000 [==============================] - 13s 264us/step - loss: 1.3078 - acc: 0.5456 - val_loss: 1.5060 - val_acc: 0.4634\n",
      "Epoch 11/50\n",
      "50000/50000 [==============================] - 10s 193us/step - loss: 1.2809 - acc: 0.5561 - val_loss: 1.4838 - val_acc: 0.4742\n",
      "Epoch 12/50\n",
      "50000/50000 [==============================] - 9s 178us/step - loss: 1.2538 - acc: 0.5644 - val_loss: 1.4851 - val_acc: 0.4807\n",
      "Epoch 13/50\n",
      "50000/50000 [==============================] - 9s 189us/step - loss: 1.2282 - acc: 0.5762 - val_loss: 1.4720 - val_acc: 0.4788\n",
      "Epoch 14/50\n",
      "50000/50000 [==============================] - 10s 192us/step - loss: 1.2047 - acc: 0.5835 - val_loss: 1.4864 - val_acc: 0.4747\n",
      "Epoch 15/50\n",
      "50000/50000 [==============================] - 9s 188us/step - loss: 1.1802 - acc: 0.5938 - val_loss: 1.4685 - val_acc: 0.4812\n",
      "Epoch 16/50\n",
      "50000/50000 [==============================] - 7s 131us/step - loss: 1.1551 - acc: 0.6035 - val_loss: 1.4657 - val_acc: 0.4860\n",
      "Epoch 17/50\n",
      "50000/50000 [==============================] - 8s 156us/step - loss: 1.1333 - acc: 0.6111 - val_loss: 1.4643 - val_acc: 0.4799\n",
      "Epoch 18/50\n",
      "50000/50000 [==============================] - 8s 151us/step - loss: 1.1112 - acc: 0.6194 - val_loss: 1.4577 - val_acc: 0.4871\n",
      "Epoch 19/50\n",
      "50000/50000 [==============================] - 7s 139us/step - loss: 1.0889 - acc: 0.6298 - val_loss: 1.4561 - val_acc: 0.4879\n",
      "Epoch 20/50\n",
      "50000/50000 [==============================] - 8s 164us/step - loss: 1.0687 - acc: 0.6358 - val_loss: 1.4551 - val_acc: 0.4896\n",
      "Epoch 21/50\n",
      "50000/50000 [==============================] - 8s 153us/step - loss: 1.0479 - acc: 0.6427 - val_loss: 1.4587 - val_acc: 0.4882\n",
      "Epoch 22/50\n",
      "50000/50000 [==============================] - 7s 141us/step - loss: 1.0273 - acc: 0.6519 - val_loss: 1.4554 - val_acc: 0.4927\n",
      "Epoch 23/50\n",
      "50000/50000 [==============================] - 8s 167us/step - loss: 1.0062 - acc: 0.6615 - val_loss: 1.4668 - val_acc: 0.4870\n",
      "Epoch 24/50\n",
      "50000/50000 [==============================] - 8s 160us/step - loss: 0.9878 - acc: 0.6679 - val_loss: 1.4715 - val_acc: 0.4926\n",
      "Epoch 25/50\n",
      "50000/50000 [==============================] - 8s 157us/step - loss: 0.9671 - acc: 0.6752 - val_loss: 1.4675 - val_acc: 0.4891\n",
      "\n",
      "Epoch 00025: ReduceLROnPlateau reducing learning rate to 0.0005000000237487257.\n",
      "Epoch 26/50\n",
      "50000/50000 [==============================] - 9s 171us/step - loss: 0.9392 - acc: 0.6885 - val_loss: 1.4560 - val_acc: 0.4970\n",
      "Epoch 27/50\n",
      "50000/50000 [==============================] - 9s 176us/step - loss: 0.9212 - acc: 0.6953 - val_loss: 1.4657 - val_acc: 0.4959\n",
      "Epoch 28/50\n",
      "50000/50000 [==============================] - 8s 150us/step - loss: 0.9095 - acc: 0.7001 - val_loss: 1.4641 - val_acc: 0.4941\n",
      "Epoch 29/50\n",
      "50000/50000 [==============================] - 8s 153us/step - loss: 0.8994 - acc: 0.7039 - val_loss: 1.4611 - val_acc: 0.4956\n",
      "Epoch 30/50\n",
      "50000/50000 [==============================] - 8s 160us/step - loss: 0.8883 - acc: 0.7089 - val_loss: 1.4721 - val_acc: 0.4968\n",
      "\n",
      "Epoch 00030: ReduceLROnPlateau reducing learning rate to 0.0002500000118743628.\n",
      "Epoch 31/50\n",
      "50000/50000 [==============================] - 8s 157us/step - loss: 0.8740 - acc: 0.7135 - val_loss: 1.4643 - val_acc: 0.4974\n",
      "Epoch 32/50\n",
      "50000/50000 [==============================] - 8s 157us/step - loss: 0.8642 - acc: 0.7176 - val_loss: 1.4645 - val_acc: 0.4980\n",
      "Epoch 33/50\n",
      "50000/50000 [==============================] - 7s 137us/step - loss: 0.8588 - acc: 0.7201 - val_loss: 1.4650 - val_acc: 0.5021\n",
      "Epoch 34/50\n",
      "50000/50000 [==============================] - 7s 133us/step - loss: 0.8532 - acc: 0.7236 - val_loss: 1.4657 - val_acc: 0.4981\n",
      "Epoch 35/50\n",
      "50000/50000 [==============================] - 9s 177us/step - loss: 0.8472 - acc: 0.7249 - val_loss: 1.4695 - val_acc: 0.4987\n",
      "\n",
      "Epoch 00035: ReduceLROnPlateau reducing learning rate to 0.0001250000059371814.\n",
      "Epoch 36/50\n",
      "50000/50000 [==============================] - 10s 195us/step - loss: 0.8400 - acc: 0.7289 - val_loss: 1.4692 - val_acc: 0.5051\n",
      "Epoch 37/50\n",
      "50000/50000 [==============================] - 8s 153us/step - loss: 0.8341 - acc: 0.7305 - val_loss: 1.4688 - val_acc: 0.5017\n",
      "Epoch 38/50\n",
      "50000/50000 [==============================] - 8s 164us/step - loss: 0.8317 - acc: 0.7318 - val_loss: 1.4702 - val_acc: 0.5024\n",
      "Epoch 39/50\n",
      "50000/50000 [==============================] - 7s 142us/step - loss: 0.8287 - acc: 0.7333 - val_loss: 1.4730 - val_acc: 0.5007\n",
      "Epoch 40/50\n",
      "50000/50000 [==============================] - 8s 153us/step - loss: 0.8263 - acc: 0.7340 - val_loss: 1.4731 - val_acc: 0.5002\n",
      "\n",
      "Epoch 00040: ReduceLROnPlateau reducing learning rate to 6.25000029685907e-05.\n",
      "Epoch 41/50\n",
      "50000/50000 [==============================] - 10s 199us/step - loss: 0.8232 - acc: 0.7357 - val_loss: 1.4721 - val_acc: 0.5017\n",
      "Epoch 42/50\n",
      "50000/50000 [==============================] - 7s 141us/step - loss: 0.8192 - acc: 0.7383 - val_loss: 1.4725 - val_acc: 0.5017\n",
      "Epoch 43/50\n",
      "50000/50000 [==============================] - 11s 213us/step - loss: 0.8180 - acc: 0.7378 - val_loss: 1.4758 - val_acc: 0.5016\n",
      "Epoch 44/50\n",
      "50000/50000 [==============================] - 8s 153us/step - loss: 0.8169 - acc: 0.7383 - val_loss: 1.4740 - val_acc: 0.5013\n",
      "Epoch 45/50\n",
      "50000/50000 [==============================] - 7s 145us/step - loss: 0.8149 - acc: 0.7381 - val_loss: 1.4743 - val_acc: 0.5024\n",
      "\n",
      "Epoch 00045: ReduceLROnPlateau reducing learning rate to 3.125000148429535e-05.\n",
      "Epoch 46/50\n"
     ]
    },
    {
     "name": "stdout",
     "output_type": "stream",
     "text": [
      "50000/50000 [==============================] - 10s 205us/step - loss: 0.8127 - acc: 0.7394 - val_loss: 1.4746 - val_acc: 0.5012\n",
      "Epoch 47/50\n",
      "50000/50000 [==============================] - 11s 217us/step - loss: 0.8127 - acc: 0.7396 - val_loss: 1.4750 - val_acc: 0.5013\n",
      "Epoch 48/50\n",
      "50000/50000 [==============================] - 10s 194us/step - loss: 0.8112 - acc: 0.7408 - val_loss: 1.4749 - val_acc: 0.5014\n",
      "Epoch 49/50\n",
      "50000/50000 [==============================] - 11s 216us/step - loss: 0.8105 - acc: 0.7404 - val_loss: 1.4750 - val_acc: 0.5017\n",
      "Epoch 50/50\n",
      "50000/50000 [==============================] - 10s 207us/step - loss: 0.8099 - acc: 0.7415 - val_loss: 1.4755 - val_acc: 0.5027\n",
      "\n",
      "Epoch 00050: ReduceLROnPlateau reducing learning rate to 1.5625000742147677e-05.\n"
     ]
    }
   ],
   "source": [
    "model = build_mlp(input_shape=x_train.shape[1:])\n",
    "model.summary()\n",
    "optimizer = keras.optimizers.SGD(lr=LEARNING_RATE, nesterov=True, momentum=MOMENTUM)\n",
    "model.compile(loss=\"categorical_crossentropy\", metrics=[\"accuracy\"], optimizer=optimizer)\n",
    "\n",
    "model.fit(x_train, y_train, \n",
    "          epochs=EPOCHS, \n",
    "          batch_size=BATCH_SIZE, \n",
    "          validation_data=(x_test, y_test), \n",
    "          shuffle=True,\n",
    "          callbacks=[reduce_lr]\n",
    "         )\n",
    "\n",
    "# Collect results\n",
    "train_loss = model.history.history[\"loss\"]\n",
    "valid_loss = model.history.history[\"val_loss\"]\n",
    "train_acc = model.history.history[\"acc\"]\n",
    "valid_acc = model.history.history[\"val_acc\"]"
   ]
  },
  {
   "cell_type": "code",
   "execution_count": 9,
   "metadata": {},
   "outputs": [
    {
     "data": {
      "image/png": "[encoded data removed]",
      "text/plain": [
       "<Figure size 432x288 with 1 Axes>"
      ]
     },
     "metadata": {
      "needs_background": "light"
     },
     "output_type": "display_data"
    },
    {
     "data": {
      "image/png": "[encoded data removed]",
      "text/plain": [
       "<Figure size 432x288 with 1 Axes>"
      ]
     },
     "metadata": {
      "needs_background": "light"
     },
     "output_type": "display_data"
    }
   ],
   "source": [
    "import matplotlib.pyplot as plt\n",
    "%matplotlib inline\n",
    "\n",
    "plt.plot(range(len(train_loss)), train_loss, label=\"train loss\")\n",
    "plt.plot(range(len(valid_loss)), valid_loss, label=\"valid loss\")\n",
    "plt.legend()\n",
    "plt.title(\"Loss\")\n",
    "plt.show()\n",
    "\n",
    "plt.plot(range(len(train_acc)), train_acc, label=\"train accuracy\")\n",
    "plt.plot(range(len(valid_acc)), valid_acc, label=\"valid accuracy\")\n",
    "plt.legend()\n",
    "plt.title(\"Accuracy\")\n",
    "plt.show()"
   ]
  },
  {
   "cell_type": "code",
   "execution_count": null,
   "metadata": {},
   "outputs": [],
   "source": []
  }
 ],
 "metadata": {
  "kernelspec": {
   "display_name": "Python (tensorflow-gpu)",
   "language": "python",
   "name": "tensorflow-gpu"
  },
  "language_info": {
   "codemirror_mode": {
    "name": "ipython",
    "version": 3
   },
   "file_extension": ".py",
   "mimetype": "text/x-python",
   "name": "python",
   "nbconvert_exporter": "python",
   "pygments_lexer": "ipython3",
   "version": "3.6.8"
  }
 },
 "nbformat": 4,
 "nbformat_minor": 2
}
