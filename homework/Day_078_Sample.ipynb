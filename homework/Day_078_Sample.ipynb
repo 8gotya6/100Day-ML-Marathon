{
 "cells": [
  {
   "cell_type": "markdown",
   "metadata": {},
   "source": [
    "# 範例重點\n",
    "# 學習在模型開始前檢查各個環節\n",
    "是否有 GPU 資源  \n",
    "將前處理轉為函式，統一處理訓練、驗證與測試集  \n",
    "將超參數變數化，易於重複使用函式、模型等  "
   ]
  },
  {
   "cell_type": "code",
   "execution_count": 1,
   "metadata": {},
   "outputs": [],
   "source": [
    "## 確認硬體資源 (如果你是在 Linux, 若是在 Windows, 請參考 https://blog.csdn.net/idwtwt/article/details/78017565)\n",
    "# !nvidia-smi"
   ]
  },
  {
   "cell_type": "code",
   "execution_count": 2,
   "metadata": {},
   "outputs": [
    {
     "name": "stderr",
     "output_type": "stream",
     "text": [
      "Using TensorFlow backend.\n"
     ]
    }
   ],
   "source": [
    "import os\n",
    "import keras\n",
    "\n",
    "# 本範例不需使用 GPU, 將 GPU 設定為 \"無\"\n",
    "os.environ[\"CUDA_VISIBLE_DEVICES\"] = \"\""
   ]
  },
  {
   "cell_type": "code",
   "execution_count": 3,
   "metadata": {},
   "outputs": [],
   "source": [
    "# 從 Keras 的內建功能中，取得 train 與 test 資料集\n",
    "train, test = keras.datasets.cifar10.load_data()"
   ]
  },
  {
   "cell_type": "code",
   "execution_count": 4,
   "metadata": {},
   "outputs": [],
   "source": [
    "## 資料前處理\n",
    "def preproc_x(x, flatten=True):\n",
    "    x = x / 255.\n",
    "    if flatten:\n",
    "        x = x.reshape((len(x), -1))\n",
    "    return x\n",
    "\n",
    "def preproc_y(y, num_classes=10):\n",
    "    if y.shape[-1] == 1:\n",
    "        y = keras.utils.to_categorical(y, num_classes)\n",
    "    return y    "
   ]
  },
  {
   "cell_type": "code",
   "execution_count": 5,
   "metadata": {},
   "outputs": [],
   "source": [
    "x_train, y_train = train\n",
    "x_test, y_test = test\n",
    "\n",
    "# 資料前處理 - X 標準化\n",
    "x_train = preproc_x(x_train)\n",
    "x_test = preproc_x(x_test)\n",
    "\n",
    "# 資料前處理 -Y 轉成 onehot\n",
    "y_train = preproc_y(y_train)\n",
    "y_test = preproc_y(y_test)"
   ]
  },
  {
   "cell_type": "code",
   "execution_count": 6,
   "metadata": {},
   "outputs": [],
   "source": [
    "def build_mlp(input_shape, output_units=10, num_neurons=[512, 256, 128]):\n",
    "    input_layer = keras.layers.Input(input_shape)\n",
    "    \n",
    "    for i, n_units in enumerate(num_neurons):\n",
    "        if i == 0:\n",
    "            x = keras.layers.Dense(units=n_units, activation=\"relu\", name=\"hidden_layer\"+str(i+1))(input_layer)\n",
    "        else:\n",
    "            x = keras.layers.Dense(units=n_units, activation=\"relu\", name=\"hidden_layer\"+str(i+1))(x)\n",
    "    \n",
    "    out = keras.layers.Dense(units=output_units, activation=\"softmax\", name=\"output\")(x)\n",
    "    \n",
    "    model = keras.models.Model(inputs=[input_layer], outputs=[out])\n",
    "    return model"
   ]
  },
  {
   "cell_type": "code",
   "execution_count": 7,
   "metadata": {},
   "outputs": [
    {
     "name": "stderr",
     "output_type": "stream",
     "text": [
      "WARNING: Logging before flag parsing goes to stderr.\n",
      "W0905 23:04:40.744249 11848 deprecation_wrapper.py:119] From C:\\Coding\\Anaconda3\\envs\\tensorflow-gpu\\lib\\site-packages\\keras\\backend\\tensorflow_backend.py:74: The name tf.get_default_graph is deprecated. Please use tf.compat.v1.get_default_graph instead.\n",
      "\n",
      "W0905 23:04:40.803098 11848 deprecation_wrapper.py:119] From C:\\Coding\\Anaconda3\\envs\\tensorflow-gpu\\lib\\site-packages\\keras\\backend\\tensorflow_backend.py:517: The name tf.placeholder is deprecated. Please use tf.compat.v1.placeholder instead.\n",
      "\n",
      "W0905 23:04:40.824035 11848 deprecation_wrapper.py:119] From C:\\Coding\\Anaconda3\\envs\\tensorflow-gpu\\lib\\site-packages\\keras\\backend\\tensorflow_backend.py:4138: The name tf.random_uniform is deprecated. Please use tf.random.uniform instead.\n",
      "\n"
     ]
    },
    {
     "name": "stdout",
     "output_type": "stream",
     "text": [
      "_________________________________________________________________\n",
      "Layer (type)                 Output Shape              Param #   \n",
      "=================================================================\n",
      "input_1 (InputLayer)         (None, 3072)              0         \n",
      "_________________________________________________________________\n",
      "hidden_layer1 (Dense)        (None, 512)               1573376   \n",
      "_________________________________________________________________\n",
      "hidden_layer2 (Dense)        (None, 256)               131328    \n",
      "_________________________________________________________________\n",
      "hidden_layer3 (Dense)        (None, 128)               32896     \n",
      "_________________________________________________________________\n",
      "output (Dense)               (None, 10)                1290      \n",
      "=================================================================\n",
      "Total params: 1,738,890\n",
      "Trainable params: 1,738,890\n",
      "Non-trainable params: 0\n",
      "_________________________________________________________________\n"
     ]
    }
   ],
   "source": [
    "model = build_mlp(input_shape=x_train.shape[1:])\n",
    "model.summary()"
   ]
  },
  {
   "cell_type": "code",
   "execution_count": 8,
   "metadata": {},
   "outputs": [],
   "source": [
    "## 超參數設定\n",
    "LEARNING_RATE = 0.001\n",
    "EPOCHS = 100\n",
    "BATCH_SIZE = 256"
   ]
  },
  {
   "cell_type": "code",
   "execution_count": 9,
   "metadata": {},
   "outputs": [
    {
     "name": "stderr",
     "output_type": "stream",
     "text": [
      "W0905 23:04:51.745258 11848 deprecation_wrapper.py:119] From C:\\Coding\\Anaconda3\\envs\\tensorflow-gpu\\lib\\site-packages\\keras\\optimizers.py:790: The name tf.train.Optimizer is deprecated. Please use tf.compat.v1.train.Optimizer instead.\n",
      "\n",
      "W0905 23:04:51.757224 11848 deprecation_wrapper.py:119] From C:\\Coding\\Anaconda3\\envs\\tensorflow-gpu\\lib\\site-packages\\keras\\backend\\tensorflow_backend.py:3295: The name tf.log is deprecated. Please use tf.math.log instead.\n",
      "\n"
     ]
    }
   ],
   "source": [
    "optimizer = keras.optimizers.Adam(lr=LEARNING_RATE)\n",
    "model.compile(loss=\"categorical_crossentropy\", metrics=[\"accuracy\"], optimizer=optimizer)"
   ]
  },
  {
   "cell_type": "code",
   "execution_count": 10,
   "metadata": {},
   "outputs": [
    {
     "name": "stderr",
     "output_type": "stream",
     "text": [
      "W0905 23:05:01.031477 11848 deprecation.py:323] From C:\\Coding\\Anaconda3\\envs\\tensorflow-gpu\\lib\\site-packages\\tensorflow\\python\\ops\\math_grad.py:1250: add_dispatch_support.<locals>.wrapper (from tensorflow.python.ops.array_ops) is deprecated and will be removed in a future version.\n",
      "Instructions for updating:\n",
      "Use tf.where in 2.0, which has the same broadcast rule as np.where\n",
      "W0905 23:05:01.085334 11848 deprecation_wrapper.py:119] From C:\\Coding\\Anaconda3\\envs\\tensorflow-gpu\\lib\\site-packages\\keras\\backend\\tensorflow_backend.py:986: The name tf.assign_add is deprecated. Please use tf.compat.v1.assign_add instead.\n",
      "\n"
     ]
    },
    {
     "name": "stdout",
     "output_type": "stream",
     "text": [
      "Train on 50000 samples, validate on 10000 samples\n",
      "Epoch 1/100\n",
      "50000/50000 [==============================] - 10s 191us/step - loss: 1.9366 - acc: 0.2982 - val_loss: 1.7795 - val_acc: 0.3595\n",
      "Epoch 2/100\n",
      "50000/50000 [==============================] - 5s 106us/step - loss: 1.7105 - acc: 0.3888 - val_loss: 1.6395 - val_acc: 0.4185\n",
      "Epoch 3/100\n",
      "50000/50000 [==============================] - 5s 105us/step - loss: 1.6193 - acc: 0.4241 - val_loss: 1.6706 - val_acc: 0.3951\n",
      "Epoch 4/100\n",
      "50000/50000 [==============================] - 5s 104us/step - loss: 1.5497 - acc: 0.4472 - val_loss: 1.5341 - val_acc: 0.4596\n",
      "Epoch 5/100\n",
      "50000/50000 [==============================] - 5s 100us/step - loss: 1.5118 - acc: 0.4608 - val_loss: 1.5006 - val_acc: 0.4651\n",
      "Epoch 6/100\n",
      "50000/50000 [==============================] - 5s 101us/step - loss: 1.4669 - acc: 0.4755 - val_loss: 1.5103 - val_acc: 0.4558\n",
      "Epoch 7/100\n",
      "50000/50000 [==============================] - 5s 98us/step - loss: 1.4440 - acc: 0.4884 - val_loss: 1.4967 - val_acc: 0.4585\n",
      "Epoch 8/100\n",
      "50000/50000 [==============================] - 5s 94us/step - loss: 1.4161 - acc: 0.4983 - val_loss: 1.4582 - val_acc: 0.4888\n",
      "Epoch 9/100\n",
      "50000/50000 [==============================] - 5s 100us/step - loss: 1.3774 - acc: 0.5093 - val_loss: 1.4115 - val_acc: 0.4971\n",
      "Epoch 10/100\n",
      "50000/50000 [==============================] - 5s 102us/step - loss: 1.3533 - acc: 0.5187 - val_loss: 1.3950 - val_acc: 0.5044\n",
      "Epoch 11/100\n",
      "50000/50000 [==============================] - 5s 109us/step - loss: 1.3265 - acc: 0.5281 - val_loss: 1.3971 - val_acc: 0.5083\n",
      "Epoch 12/100\n",
      "50000/50000 [==============================] - 6s 117us/step - loss: 1.3056 - acc: 0.5360 - val_loss: 1.4406 - val_acc: 0.4893\n",
      "Epoch 13/100\n",
      "50000/50000 [==============================] - 5s 109us/step - loss: 1.2860 - acc: 0.5425 - val_loss: 1.4084 - val_acc: 0.5009\n",
      "Epoch 14/100\n",
      "50000/50000 [==============================] - 6s 115us/step - loss: 1.2560 - acc: 0.5540 - val_loss: 1.3847 - val_acc: 0.5081\n",
      "Epoch 15/100\n",
      "50000/50000 [==============================] - 5s 107us/step - loss: 1.2365 - acc: 0.5608 - val_loss: 1.4192 - val_acc: 0.5000\n",
      "Epoch 16/100\n",
      "50000/50000 [==============================] - 6s 113us/step - loss: 1.2130 - acc: 0.5685 - val_loss: 1.3805 - val_acc: 0.5110\n",
      "Epoch 17/100\n",
      "50000/50000 [==============================] - 6s 115us/step - loss: 1.1925 - acc: 0.5724 - val_loss: 1.4023 - val_acc: 0.5018\n",
      "Epoch 18/100\n",
      "50000/50000 [==============================] - 6s 111us/step - loss: 1.1757 - acc: 0.5805 - val_loss: 1.4119 - val_acc: 0.5057\n",
      "Epoch 19/100\n",
      "50000/50000 [==============================] - 6s 112us/step - loss: 1.1516 - acc: 0.5902 - val_loss: 1.3583 - val_acc: 0.5239\n",
      "Epoch 20/100\n",
      "50000/50000 [==============================] - 6s 115us/step - loss: 1.1372 - acc: 0.5954 - val_loss: 1.3747 - val_acc: 0.5208\n",
      "Epoch 21/100\n",
      "50000/50000 [==============================] - 6s 115us/step - loss: 1.1164 - acc: 0.6024 - val_loss: 1.3724 - val_acc: 0.5252\n",
      "Epoch 22/100\n",
      "50000/50000 [==============================] - 6s 124us/step - loss: 1.0949 - acc: 0.6091 - val_loss: 1.4108 - val_acc: 0.5147\n",
      "Epoch 23/100\n",
      "50000/50000 [==============================] - 6s 124us/step - loss: 1.0797 - acc: 0.6148 - val_loss: 1.4164 - val_acc: 0.5139\n",
      "Epoch 24/100\n",
      "50000/50000 [==============================] - 6s 120us/step - loss: 1.0528 - acc: 0.6248 - val_loss: 1.4114 - val_acc: 0.5191\n",
      "Epoch 25/100\n",
      "50000/50000 [==============================] - 6s 114us/step - loss: 1.0437 - acc: 0.6289 - val_loss: 1.4289 - val_acc: 0.5159\n",
      "Epoch 26/100\n",
      "50000/50000 [==============================] - 5s 109us/step - loss: 1.0200 - acc: 0.6357 - val_loss: 1.4459 - val_acc: 0.5154\n",
      "Epoch 27/100\n",
      "50000/50000 [==============================] - 5s 110us/step - loss: 0.9943 - acc: 0.6451 - val_loss: 1.4167 - val_acc: 0.5230\n",
      "Epoch 28/100\n",
      "50000/50000 [==============================] - 5s 109us/step - loss: 0.9733 - acc: 0.6536 - val_loss: 1.4038 - val_acc: 0.5276\n",
      "Epoch 29/100\n",
      "50000/50000 [==============================] - 5s 108us/step - loss: 0.9645 - acc: 0.6581 - val_loss: 1.4113 - val_acc: 0.5282\n",
      "Epoch 30/100\n",
      "50000/50000 [==============================] - 5s 106us/step - loss: 0.9517 - acc: 0.6611 - val_loss: 1.4408 - val_acc: 0.5192\n",
      "Epoch 31/100\n",
      "50000/50000 [==============================] - 5s 104us/step - loss: 0.9266 - acc: 0.6705 - val_loss: 1.4797 - val_acc: 0.5188\n",
      "Epoch 32/100\n",
      "50000/50000 [==============================] - 5s 105us/step - loss: 0.9135 - acc: 0.6727 - val_loss: 1.4907 - val_acc: 0.5127\n",
      "Epoch 33/100\n",
      "50000/50000 [==============================] - 6s 124us/step - loss: 0.8990 - acc: 0.6789 - val_loss: 1.4616 - val_acc: 0.5251\n",
      "Epoch 34/100\n",
      "50000/50000 [==============================] - 6s 119us/step - loss: 0.8751 - acc: 0.6879 - val_loss: 1.5047 - val_acc: 0.5183\n",
      "Epoch 35/100\n",
      "50000/50000 [==============================] - 5s 105us/step - loss: 0.8692 - acc: 0.6882 - val_loss: 1.5015 - val_acc: 0.5214\n",
      "Epoch 36/100\n",
      "50000/50000 [==============================] - 6s 112us/step - loss: 0.8426 - acc: 0.7006 - val_loss: 1.5227 - val_acc: 0.5239\n",
      "Epoch 37/100\n",
      "50000/50000 [==============================] - 6s 111us/step - loss: 0.8370 - acc: 0.7024 - val_loss: 1.5646 - val_acc: 0.5183\n",
      "Epoch 38/100\n",
      "50000/50000 [==============================] - 5s 102us/step - loss: 0.8094 - acc: 0.7125 - val_loss: 1.5248 - val_acc: 0.5319\n",
      "Epoch 39/100\n",
      "50000/50000 [==============================] - 5s 108us/step - loss: 0.7870 - acc: 0.7201 - val_loss: 1.5909 - val_acc: 0.5193\n",
      "Epoch 40/100\n",
      "50000/50000 [==============================] - 6s 111us/step - loss: 0.7906 - acc: 0.7190 - val_loss: 1.5676 - val_acc: 0.5221\n",
      "Epoch 41/100\n",
      "50000/50000 [==============================] - 5s 105us/step - loss: 0.7590 - acc: 0.7302 - val_loss: 1.5986 - val_acc: 0.5243\n",
      "Epoch 42/100\n",
      "50000/50000 [==============================] - 5s 106us/step - loss: 0.7575 - acc: 0.7313 - val_loss: 1.6489 - val_acc: 0.5119\n",
      "Epoch 43/100\n",
      "50000/50000 [==============================] - 5s 107us/step - loss: 0.7380 - acc: 0.7361 - val_loss: 1.6272 - val_acc: 0.5251\n",
      "Epoch 44/100\n",
      "50000/50000 [==============================] - 6s 118us/step - loss: 0.7039 - acc: 0.7499 - val_loss: 1.6824 - val_acc: 0.5192\n",
      "Epoch 45/100\n",
      "50000/50000 [==============================] - 6s 113us/step - loss: 0.6948 - acc: 0.7513 - val_loss: 1.6964 - val_acc: 0.5153\n",
      "Epoch 46/100\n",
      "50000/50000 [==============================] - 5s 108us/step - loss: 0.6954 - acc: 0.7545 - val_loss: 1.7185 - val_acc: 0.5168\n",
      "Epoch 47/100\n",
      "50000/50000 [==============================] - 5s 107us/step - loss: 0.6883 - acc: 0.7531 - val_loss: 1.6976 - val_acc: 0.5259\n",
      "Epoch 48/100\n",
      "50000/50000 [==============================] - 5s 104us/step - loss: 0.6598 - acc: 0.7631 - val_loss: 1.7542 - val_acc: 0.5240\n",
      "Epoch 49/100\n",
      "50000/50000 [==============================] - 6s 112us/step - loss: 0.6548 - acc: 0.7659 - val_loss: 1.8797 - val_acc: 0.5087\n",
      "Epoch 50/100\n",
      "50000/50000 [==============================] - 5s 108us/step - loss: 0.6429 - acc: 0.7714 - val_loss: 1.8175 - val_acc: 0.5097\n",
      "Epoch 51/100\n",
      "50000/50000 [==============================] - 6s 113us/step - loss: 0.6116 - acc: 0.7830 - val_loss: 1.8521 - val_acc: 0.5098\n",
      "Epoch 52/100\n",
      "50000/50000 [==============================] - 5s 107us/step - loss: 0.6064 - acc: 0.7845 - val_loss: 1.8694 - val_acc: 0.5077\n",
      "Epoch 53/100\n",
      "50000/50000 [==============================] - 5s 104us/step - loss: 0.6084 - acc: 0.7835 - val_loss: 1.8945 - val_acc: 0.5222\n",
      "Epoch 54/100\n",
      "50000/50000 [==============================] - 6s 128us/step - loss: 0.5888 - acc: 0.7908 - val_loss: 1.8571 - val_acc: 0.5142\n",
      "Epoch 55/100\n",
      "50000/50000 [==============================] - 7s 135us/step - loss: 0.5756 - acc: 0.7942 - val_loss: 1.9396 - val_acc: 0.5116\n",
      "Epoch 56/100\n",
      "50000/50000 [==============================] - 5s 108us/step - loss: 0.5666 - acc: 0.7983 - val_loss: 2.0302 - val_acc: 0.5205\n",
      "Epoch 57/100\n",
      "50000/50000 [==============================] - 6s 111us/step - loss: 0.5413 - acc: 0.8069 - val_loss: 2.0009 - val_acc: 0.5149\n",
      "Epoch 58/100\n",
      "50000/50000 [==============================] - 6s 124us/step - loss: 0.5515 - acc: 0.8047 - val_loss: 1.9962 - val_acc: 0.5156\n",
      "Epoch 59/100\n"
     ]
    },
    {
     "name": "stdout",
     "output_type": "stream",
     "text": [
      "50000/50000 [==============================] - 6s 122us/step - loss: 0.5379 - acc: 0.8088 - val_loss: 2.0244 - val_acc: 0.5152\n",
      "Epoch 60/100\n",
      "50000/50000 [==============================] - 5s 106us/step - loss: 0.5168 - acc: 0.8153 - val_loss: 2.0302 - val_acc: 0.5058\n",
      "Epoch 61/100\n",
      "50000/50000 [==============================] - 5s 103us/step - loss: 0.5286 - acc: 0.8116 - val_loss: 2.1019 - val_acc: 0.5085\n",
      "Epoch 62/100\n",
      "50000/50000 [==============================] - 5s 107us/step - loss: 0.5149 - acc: 0.8154 - val_loss: 2.1001 - val_acc: 0.5120\n",
      "Epoch 63/100\n",
      "50000/50000 [==============================] - 5s 99us/step - loss: 0.4958 - acc: 0.8249 - val_loss: 2.1514 - val_acc: 0.5127\n",
      "Epoch 64/100\n",
      "50000/50000 [==============================] - 5s 102us/step - loss: 0.4906 - acc: 0.8256 - val_loss: 2.1932 - val_acc: 0.5088\n",
      "Epoch 65/100\n",
      "50000/50000 [==============================] - 6s 112us/step - loss: 0.4866 - acc: 0.8250 - val_loss: 2.2387 - val_acc: 0.5054\n",
      "Epoch 66/100\n",
      "50000/50000 [==============================] - 6s 112us/step - loss: 0.4755 - acc: 0.8303 - val_loss: 2.2140 - val_acc: 0.5130\n",
      "Epoch 67/100\n",
      "50000/50000 [==============================] - 6s 112us/step - loss: 0.4640 - acc: 0.8337 - val_loss: 2.2782 - val_acc: 0.5123\n",
      "Epoch 68/100\n",
      "50000/50000 [==============================] - 5s 110us/step - loss: 0.4610 - acc: 0.8362 - val_loss: 2.2400 - val_acc: 0.5112\n",
      "Epoch 69/100\n",
      "50000/50000 [==============================] - 6s 121us/step - loss: 0.4394 - acc: 0.8435 - val_loss: 2.2268 - val_acc: 0.5106\n",
      "Epoch 70/100\n",
      "50000/50000 [==============================] - 5s 102us/step - loss: 0.4368 - acc: 0.8442 - val_loss: 2.3487 - val_acc: 0.5087\n",
      "Epoch 71/100\n",
      "50000/50000 [==============================] - 5s 101us/step - loss: 0.4206 - acc: 0.8482 - val_loss: 2.3557 - val_acc: 0.5087\n",
      "Epoch 72/100\n",
      "50000/50000 [==============================] - 5s 106us/step - loss: 0.4150 - acc: 0.8493 - val_loss: 2.3752 - val_acc: 0.5048\n",
      "Epoch 73/100\n",
      "50000/50000 [==============================] - 5s 108us/step - loss: 0.4035 - acc: 0.8564 - val_loss: 2.5019 - val_acc: 0.5084\n",
      "Epoch 74/100\n",
      "50000/50000 [==============================] - 5s 100us/step - loss: 0.4121 - acc: 0.8523 - val_loss: 2.4378 - val_acc: 0.5069\n",
      "Epoch 75/100\n",
      "50000/50000 [==============================] - 5s 106us/step - loss: 0.4137 - acc: 0.8513 - val_loss: 2.4824 - val_acc: 0.5004\n",
      "Epoch 76/100\n",
      "50000/50000 [==============================] - 5s 105us/step - loss: 0.4010 - acc: 0.8564 - val_loss: 2.4194 - val_acc: 0.5128\n",
      "Epoch 77/100\n",
      "50000/50000 [==============================] - 5s 109us/step - loss: 0.3913 - acc: 0.8596 - val_loss: 2.5052 - val_acc: 0.4997\n",
      "Epoch 78/100\n",
      "50000/50000 [==============================] - 5s 104us/step - loss: 0.3903 - acc: 0.8612 - val_loss: 2.4436 - val_acc: 0.5099\n",
      "Epoch 79/100\n",
      "50000/50000 [==============================] - 5s 102us/step - loss: 0.3657 - acc: 0.8706 - val_loss: 2.6032 - val_acc: 0.5081\n",
      "Epoch 80/100\n",
      "50000/50000 [==============================] - 5s 105us/step - loss: 0.3779 - acc: 0.8639 - val_loss: 2.5907 - val_acc: 0.5061\n",
      "Epoch 81/100\n",
      "50000/50000 [==============================] - 5s 109us/step - loss: 0.3601 - acc: 0.8705 - val_loss: 2.6527 - val_acc: 0.5047\n",
      "Epoch 82/100\n",
      "50000/50000 [==============================] - 6s 111us/step - loss: 0.3625 - acc: 0.8701 - val_loss: 2.6512 - val_acc: 0.5056\n",
      "Epoch 83/100\n",
      "50000/50000 [==============================] - 7s 133us/step - loss: 0.3586 - acc: 0.8717 - val_loss: 2.7148 - val_acc: 0.4952\n",
      "Epoch 84/100\n",
      "50000/50000 [==============================] - 5s 104us/step - loss: 0.3406 - acc: 0.8773 - val_loss: 2.7433 - val_acc: 0.4981\n",
      "Epoch 85/100\n",
      "50000/50000 [==============================] - 6s 111us/step - loss: 0.3701 - acc: 0.8663 - val_loss: 2.7443 - val_acc: 0.4974\n",
      "Epoch 86/100\n",
      "50000/50000 [==============================] - 5s 108us/step - loss: 0.3594 - acc: 0.8721 - val_loss: 2.7395 - val_acc: 0.4991\n",
      "Epoch 87/100\n",
      "50000/50000 [==============================] - 5s 109us/step - loss: 0.3463 - acc: 0.8762 - val_loss: 2.8257 - val_acc: 0.5016\n",
      "Epoch 88/100\n",
      "50000/50000 [==============================] - 6s 113us/step - loss: 0.3256 - acc: 0.8842 - val_loss: 2.8650 - val_acc: 0.4952\n",
      "Epoch 89/100\n",
      "50000/50000 [==============================] - 6s 119us/step - loss: 0.3293 - acc: 0.8809 - val_loss: 2.8771 - val_acc: 0.4971\n",
      "Epoch 90/100\n",
      "50000/50000 [==============================] - 6s 111us/step - loss: 0.3060 - acc: 0.8906 - val_loss: 2.8500 - val_acc: 0.5004\n",
      "Epoch 91/100\n",
      "50000/50000 [==============================] - 5s 108us/step - loss: 0.3225 - acc: 0.8835 - val_loss: 2.8992 - val_acc: 0.5035\n",
      "Epoch 92/100\n",
      "50000/50000 [==============================] - 5s 110us/step - loss: 0.3357 - acc: 0.8794 - val_loss: 2.8603 - val_acc: 0.4985\n",
      "Epoch 93/100\n",
      "50000/50000 [==============================] - 6s 117us/step - loss: 0.3133 - acc: 0.8867 - val_loss: 2.9647 - val_acc: 0.5035\n",
      "Epoch 94/100\n",
      "50000/50000 [==============================] - 5s 108us/step - loss: 0.2901 - acc: 0.8969 - val_loss: 2.9927 - val_acc: 0.5030\n",
      "Epoch 95/100\n",
      "50000/50000 [==============================] - 5s 105us/step - loss: 0.2941 - acc: 0.8950 - val_loss: 3.0670 - val_acc: 0.4977\n",
      "Epoch 96/100\n",
      "50000/50000 [==============================] - 6s 111us/step - loss: 0.2917 - acc: 0.8964 - val_loss: 3.0094 - val_acc: 0.4931\n",
      "Epoch 97/100\n",
      "50000/50000 [==============================] - 5s 107us/step - loss: 0.3004 - acc: 0.8927 - val_loss: 3.0079 - val_acc: 0.5051\n",
      "Epoch 98/100\n",
      "50000/50000 [==============================] - 6s 112us/step - loss: 0.2624 - acc: 0.9066 - val_loss: 3.0604 - val_acc: 0.4995\n",
      "Epoch 99/100\n",
      "50000/50000 [==============================] - 5s 110us/step - loss: 0.2775 - acc: 0.8993 - val_loss: 3.1533 - val_acc: 0.5015\n",
      "Epoch 100/100\n",
      "50000/50000 [==============================] - 5s 107us/step - loss: 0.3080 - acc: 0.8894 - val_loss: 3.1006 - val_acc: 0.4876\n"
     ]
    },
    {
     "data": {
      "text/plain": [
       "<keras.callbacks.History at 0x1180a700f28>"
      ]
     },
     "execution_count": 10,
     "metadata": {},
     "output_type": "execute_result"
    }
   ],
   "source": [
    "model.fit(x_train, y_train, \n",
    "          epochs=EPOCHS, \n",
    "          batch_size=BATCH_SIZE, \n",
    "          validation_data=(x_test, y_test), \n",
    "          shuffle=True)"
   ]
  },
  {
   "cell_type": "code",
   "execution_count": 12,
   "metadata": {},
   "outputs": [
    {
     "data": {
      "image/png": "[encoded data removed]",
      "text/plain": [
       "<Figure size 432x288 with 1 Axes>"
      ]
     },
     "metadata": {
      "needs_background": "light"
     },
     "output_type": "display_data"
    },
    {
     "data": {
      "image/png": "[encoded data removed]",
      "text/plain": [
       "<Figure size 432x288 with 1 Axes>"
      ]
     },
     "metadata": {
      "needs_background": "light"
     },
     "output_type": "display_data"
    }
   ],
   "source": [
    "%matplotlib inline\n",
    "# 訓練模型並檢視驗證集的結果\n",
    "import matplotlib.pyplot as plt\n",
    "\n",
    "train_loss = model.history.history[\"loss\"]\n",
    "valid_loss = model.history.history[\"val_loss\"]\n",
    "\n",
    "train_acc = model.history.history[\"acc\"]\n",
    "valid_acc = model.history.history[\"val_acc\"]\n",
    "\n",
    "plt.plot(range(len(train_loss)), train_loss, label=\"train loss\")\n",
    "plt.plot(range(len(valid_loss)), valid_loss, label=\"valid loss\")\n",
    "plt.legend()\n",
    "plt.title(\"Loss\")\n",
    "plt.show()\n",
    "\n",
    "plt.plot(range(len(train_acc)), train_acc, label=\"train accuracy\")\n",
    "plt.plot(range(len(valid_acc)), valid_acc, label=\"valid accuracy\")\n",
    "plt.legend()\n",
    "plt.title(\"Accuracy\")\n",
    "plt.show()"
   ]
  },
  {
   "cell_type": "markdown",
   "metadata": {},
   "source": [
    "# Work\n",
    "1. 請嘗試將 preproc_x 替換成以每筆資料的 min/max 進行標準化至 -1 ~ 1 間，再進行訓練\n",
    "2. 請嘗試將 mlp 疊更深 (e.g 5~10 層)，進行訓練後觀察 learning curve 的走勢\n",
    "3. (optional) 請改用 GPU 進行訓練 (如果你有 GPU 的話)，比較使用 CPU 與 GPU 的訓練速度"
   ]
  },
  {
   "cell_type": "code",
   "execution_count": null,
   "metadata": {},
   "outputs": [],
   "source": []
  }
 ],
 "metadata": {
  "kernelspec": {
   "display_name": "Python (tensorflow-gpu)",
   "language": "python",
   "name": "tensorflow-gpu"
  },
  "language_info": {
   "codemirror_mode": {
    "name": "ipython",
    "version": 3
   },
   "file_extension": ".py",
   "mimetype": "text/x-python",
   "name": "python",
   "nbconvert_exporter": "python",
   "pygments_lexer": "ipython3",
   "version": "3.6.8"
  }
 },
 "nbformat": 4,
 "nbformat_minor": 2
}
