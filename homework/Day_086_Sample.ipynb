{
 "cells": [
  {
   "cell_type": "markdown",
   "metadata": {},
   "source": [
    "# 範例重點\n",
    "學習如何在 keras 中加入 model checkpoint  \n",
    "知道如何設定監控目標  \n",
    "比較使用最佳與非最佳參數時的 performance"
   ]
  },
  {
   "cell_type": "code",
   "execution_count": 1,
   "metadata": {},
   "outputs": [
    {
     "name": "stderr",
     "output_type": "stream",
     "text": [
      "Using TensorFlow backend.\n"
     ]
    }
   ],
   "source": [
    "import os\n",
    "import keras\n",
    "\n",
    "# 本範例不需使用 GPU, 將 GPU 設定為 \"無\"\n",
    "os.environ[\"CUDA_VISIBLE_DEVICES\"] = \"\""
   ]
  },
  {
   "cell_type": "code",
   "execution_count": 2,
   "metadata": {},
   "outputs": [],
   "source": [
    "train, test = keras.datasets.cifar10.load_data()"
   ]
  },
  {
   "cell_type": "code",
   "execution_count": 3,
   "metadata": {},
   "outputs": [],
   "source": [
    "## 資料前處理\n",
    "def preproc_x(x, flatten=True):\n",
    "    x = x / 255.\n",
    "    if flatten:\n",
    "        x = x.reshape((len(x), -1))\n",
    "    return x\n",
    "\n",
    "def preproc_y(y, num_classes=10):\n",
    "    if y.shape[-1] == 1:\n",
    "        y = keras.utils.to_categorical(y, num_classes)\n",
    "    return y"
   ]
  },
  {
   "cell_type": "code",
   "execution_count": 4,
   "metadata": {},
   "outputs": [],
   "source": [
    "x_train, y_train = train\n",
    "x_test, y_test = test\n",
    "\n",
    "# 資料前處理 - X 標準化\n",
    "x_train = preproc_x(x_train)\n",
    "x_test = preproc_x(x_test)\n",
    "\n",
    "# 資料前處理 -Y 轉成 onehot\n",
    "y_train = preproc_y(y_train)\n",
    "y_test = preproc_y(y_test)"
   ]
  },
  {
   "cell_type": "code",
   "execution_count": 5,
   "metadata": {},
   "outputs": [],
   "source": [
    "from keras.layers import BatchNormalization\n",
    "\n",
    "\"\"\"\n",
    "建立神經網路，並加入 BN layer\n",
    "\"\"\"\n",
    "def build_mlp(input_shape, output_units=10, num_neurons=[512, 256, 128]):\n",
    "    input_layer = keras.layers.Input(input_shape)\n",
    "    \n",
    "    for i, n_units in enumerate(num_neurons):\n",
    "        if i == 0:\n",
    "            x = keras.layers.Dense(units=n_units, \n",
    "                                   activation=\"relu\", \n",
    "                                   name=\"hidden_layer\"+str(i+1))(input_layer)\n",
    "            x = BatchNormalization()(x)\n",
    "        else:\n",
    "            x = keras.layers.Dense(units=n_units, \n",
    "                                   activation=\"relu\", \n",
    "                                   name=\"hidden_layer\"+str(i+1))(x)\n",
    "            x = BatchNormalization()(x)\n",
    "    \n",
    "    out = keras.layers.Dense(units=output_units, activation=\"softmax\", name=\"output\")(x)\n",
    "    \n",
    "    model = keras.models.Model(inputs=[input_layer], outputs=[out])\n",
    "    return model"
   ]
  },
  {
   "cell_type": "code",
   "execution_count": 6,
   "metadata": {},
   "outputs": [],
   "source": [
    "## 超參數設定\n",
    "LEARNING_RATE = 1e-3\n",
    "EPOCHS = 50\n",
    "BATCH_SIZE = 1024\n",
    "MOMENTUM = 0.95"
   ]
  },
  {
   "cell_type": "code",
   "execution_count": 7,
   "metadata": {},
   "outputs": [],
   "source": [
    "\"\"\"\n",
    "# 載入 Callbacks, 並將監控目標設為 validation loss, 且只存最佳參數時的模型\n",
    "\"\"\"\n",
    "from keras.callbacks import ModelCheckpoint\n",
    "\n",
    "model_ckpt = ModelCheckpoint(filepath=\"./tmp.h5\", \n",
    "                             monitor=\"val_loss\", \n",
    "                             save_best_only=True)"
   ]
  },
  {
   "cell_type": "code",
   "execution_count": 8,
   "metadata": {},
   "outputs": [
    {
     "name": "stderr",
     "output_type": "stream",
     "text": [
      "WARNING: Logging before flag parsing goes to stderr.\n",
      "W1011 20:30:02.518332  3916 deprecation_wrapper.py:119] From C:\\Coding\\Anaconda3\\envs\\tensorflow-gpu\\lib\\site-packages\\keras\\backend\\tensorflow_backend.py:74: The name tf.get_default_graph is deprecated. Please use tf.compat.v1.get_default_graph instead.\n",
      "\n",
      "W1011 20:30:02.555036  3916 deprecation_wrapper.py:119] From C:\\Coding\\Anaconda3\\envs\\tensorflow-gpu\\lib\\site-packages\\keras\\backend\\tensorflow_backend.py:517: The name tf.placeholder is deprecated. Please use tf.compat.v1.placeholder instead.\n",
      "\n",
      "W1011 20:30:02.564026  3916 deprecation_wrapper.py:119] From C:\\Coding\\Anaconda3\\envs\\tensorflow-gpu\\lib\\site-packages\\keras\\backend\\tensorflow_backend.py:4138: The name tf.random_uniform is deprecated. Please use tf.random.uniform instead.\n",
      "\n",
      "W1011 20:30:02.651758  3916 deprecation_wrapper.py:119] From C:\\Coding\\Anaconda3\\envs\\tensorflow-gpu\\lib\\site-packages\\keras\\backend\\tensorflow_backend.py:133: The name tf.placeholder_with_default is deprecated. Please use tf.compat.v1.placeholder_with_default instead.\n",
      "\n",
      "W1011 20:30:02.833294  3916 deprecation_wrapper.py:119] From C:\\Coding\\Anaconda3\\envs\\tensorflow-gpu\\lib\\site-packages\\keras\\optimizers.py:790: The name tf.train.Optimizer is deprecated. Please use tf.compat.v1.train.Optimizer instead.\n",
      "\n",
      "W1011 20:30:02.842719  3916 deprecation_wrapper.py:119] From C:\\Coding\\Anaconda3\\envs\\tensorflow-gpu\\lib\\site-packages\\keras\\backend\\tensorflow_backend.py:3295: The name tf.log is deprecated. Please use tf.math.log instead.\n",
      "\n",
      "W1011 20:30:02.931057  3916 deprecation.py:323] From C:\\Coding\\Anaconda3\\envs\\tensorflow-gpu\\lib\\site-packages\\tensorflow\\python\\ops\\math_grad.py:1250: add_dispatch_support.<locals>.wrapper (from tensorflow.python.ops.array_ops) is deprecated and will be removed in a future version.\n",
      "Instructions for updating:\n",
      "Use tf.where in 2.0, which has the same broadcast rule as np.where\n"
     ]
    },
    {
     "name": "stdout",
     "output_type": "stream",
     "text": [
      "_________________________________________________________________\n",
      "Layer (type)                 Output Shape              Param #   \n",
      "=================================================================\n",
      "input_1 (InputLayer)         (None, 3072)              0         \n",
      "_________________________________________________________________\n",
      "hidden_layer1 (Dense)        (None, 512)               1573376   \n",
      "_________________________________________________________________\n",
      "batch_normalization_1 (Batch (None, 512)               2048      \n",
      "_________________________________________________________________\n",
      "hidden_layer2 (Dense)        (None, 256)               131328    \n",
      "_________________________________________________________________\n",
      "batch_normalization_2 (Batch (None, 256)               1024      \n",
      "_________________________________________________________________\n",
      "hidden_layer3 (Dense)        (None, 128)               32896     \n",
      "_________________________________________________________________\n",
      "batch_normalization_3 (Batch (None, 128)               512       \n",
      "_________________________________________________________________\n",
      "output (Dense)               (None, 10)                1290      \n",
      "=================================================================\n",
      "Total params: 1,742,474\n",
      "Trainable params: 1,740,682\n",
      "Non-trainable params: 1,792\n",
      "_________________________________________________________________\n",
      "Train on 50000 samples, validate on 10000 samples\n",
      "Epoch 1/50\n",
      "50000/50000 [==============================] - 7s 144us/step - loss: 2.1935 - acc: 0.2714 - val_loss: 2.0888 - val_acc: 0.3139\n",
      "Epoch 2/50\n",
      "50000/50000 [==============================] - 3s 61us/step - loss: 1.7431 - acc: 0.3890 - val_loss: 1.7811 - val_acc: 0.3963\n",
      "Epoch 3/50\n",
      "50000/50000 [==============================] - 3s 66us/step - loss: 1.6181 - acc: 0.4318 - val_loss: 1.6847 - val_acc: 0.4139\n",
      "Epoch 4/50\n",
      "50000/50000 [==============================] - 3s 59us/step - loss: 1.5412 - acc: 0.4618 - val_loss: 1.6237 - val_acc: 0.4370\n",
      "Epoch 5/50\n",
      "50000/50000 [==============================] - 3s 58us/step - loss: 1.4864 - acc: 0.4810 - val_loss: 1.5885 - val_acc: 0.4435\n",
      "Epoch 6/50\n",
      "50000/50000 [==============================] - 3s 57us/step - loss: 1.4389 - acc: 0.4979 - val_loss: 1.5716 - val_acc: 0.4470\n",
      "Epoch 7/50\n",
      "50000/50000 [==============================] - 3s 60us/step - loss: 1.3989 - acc: 0.5122 - val_loss: 1.5560 - val_acc: 0.4506\n",
      "Epoch 8/50\n",
      "50000/50000 [==============================] - 3s 58us/step - loss: 1.3646 - acc: 0.5266 - val_loss: 1.5264 - val_acc: 0.4656\n",
      "Epoch 9/50\n",
      "50000/50000 [==============================] - 3s 62us/step - loss: 1.3296 - acc: 0.5378 - val_loss: 1.5131 - val_acc: 0.4707\n",
      "Epoch 10/50\n",
      "50000/50000 [==============================] - 3s 62us/step - loss: 1.2993 - acc: 0.5478 - val_loss: 1.4929 - val_acc: 0.4785\n",
      "Epoch 11/50\n",
      "50000/50000 [==============================] - 4s 74us/step - loss: 1.2707 - acc: 0.5595 - val_loss: 1.4883 - val_acc: 0.4772\n",
      "Epoch 12/50\n",
      "50000/50000 [==============================] - 3s 61us/step - loss: 1.2432 - acc: 0.5689 - val_loss: 1.4871 - val_acc: 0.4838\n",
      "Epoch 13/50\n",
      "50000/50000 [==============================] - 3s 59us/step - loss: 1.2171 - acc: 0.5779 - val_loss: 1.4737 - val_acc: 0.4807\n",
      "Epoch 14/50\n",
      "50000/50000 [==============================] - 3s 65us/step - loss: 1.1908 - acc: 0.5880 - val_loss: 1.4671 - val_acc: 0.4872\n",
      "Epoch 15/50\n",
      "50000/50000 [==============================] - 3s 58us/step - loss: 1.1671 - acc: 0.5979 - val_loss: 1.4701 - val_acc: 0.4868\n",
      "Epoch 16/50\n",
      "50000/50000 [==============================] - 3s 62us/step - loss: 1.1431 - acc: 0.6099 - val_loss: 1.4674 - val_acc: 0.4930\n",
      "Epoch 17/50\n",
      "50000/50000 [==============================] - 4s 73us/step - loss: 1.1198 - acc: 0.6178 - val_loss: 1.4544 - val_acc: 0.4939\n",
      "Epoch 18/50\n",
      "50000/50000 [==============================] - 4s 72us/step - loss: 1.0980 - acc: 0.6263 - val_loss: 1.4654 - val_acc: 0.4957\n",
      "Epoch 19/50\n",
      "50000/50000 [==============================] - 3s 61us/step - loss: 1.0763 - acc: 0.6335 - val_loss: 1.4565 - val_acc: 0.4941\n",
      "Epoch 20/50\n",
      "50000/50000 [==============================] - 3s 64us/step - loss: 1.0525 - acc: 0.6431 - val_loss: 1.4509 - val_acc: 0.5003\n",
      "Epoch 21/50\n",
      "50000/50000 [==============================] - 3s 62us/step - loss: 1.0318 - acc: 0.6512 - val_loss: 1.4523 - val_acc: 0.4986\n",
      "Epoch 22/50\n",
      "50000/50000 [==============================] - 3s 63us/step - loss: 1.0109 - acc: 0.6586 - val_loss: 1.4494 - val_acc: 0.4997\n",
      "Epoch 23/50\n",
      "50000/50000 [==============================] - 3s 62us/step - loss: 0.9886 - acc: 0.6686 - val_loss: 1.4454 - val_acc: 0.5029\n",
      "Epoch 24/50\n",
      "50000/50000 [==============================] - 3s 63us/step - loss: 0.9692 - acc: 0.6742 - val_loss: 1.4648 - val_acc: 0.4931\n",
      "Epoch 25/50\n",
      "50000/50000 [==============================] - 3s 63us/step - loss: 0.9492 - acc: 0.6819 - val_loss: 1.4632 - val_acc: 0.5006\n",
      "Epoch 26/50\n",
      "50000/50000 [==============================] - 3s 61us/step - loss: 0.9293 - acc: 0.6890 - val_loss: 1.4611 - val_acc: 0.5017\n",
      "Epoch 27/50\n",
      "50000/50000 [==============================] - 3s 63us/step - loss: 0.9064 - acc: 0.7009 - val_loss: 1.4673 - val_acc: 0.5034\n",
      "Epoch 28/50\n",
      "50000/50000 [==============================] - 3s 63us/step - loss: 0.8862 - acc: 0.7079 - val_loss: 1.4636 - val_acc: 0.5035\n",
      "Epoch 29/50\n",
      "50000/50000 [==============================] - 3s 63us/step - loss: 0.8680 - acc: 0.7165 - val_loss: 1.4754 - val_acc: 0.5017\n",
      "Epoch 30/50\n",
      "50000/50000 [==============================] - 3s 62us/step - loss: 0.8457 - acc: 0.7238 - val_loss: 1.4588 - val_acc: 0.5064\n",
      "Epoch 31/50\n",
      "50000/50000 [==============================] - 3s 64us/step - loss: 0.8262 - acc: 0.7325 - val_loss: 1.4659 - val_acc: 0.5072\n",
      "Epoch 32/50\n",
      "50000/50000 [==============================] - 3s 66us/step - loss: 0.8079 - acc: 0.7394 - val_loss: 1.4821 - val_acc: 0.5033\n",
      "Epoch 33/50\n",
      "50000/50000 [==============================] - 3s 62us/step - loss: 0.7867 - acc: 0.7477 - val_loss: 1.4937 - val_acc: 0.5006\n",
      "Epoch 34/50\n",
      "50000/50000 [==============================] - 3s 64us/step - loss: 0.7682 - acc: 0.7559 - val_loss: 1.4989 - val_acc: 0.5060\n",
      "Epoch 35/50\n",
      "50000/50000 [==============================] - 3s 64us/step - loss: 0.7515 - acc: 0.7622 - val_loss: 1.5138 - val_acc: 0.5003\n",
      "Epoch 36/50\n",
      "50000/50000 [==============================] - 3s 69us/step - loss: 0.7312 - acc: 0.7684 - val_loss: 1.5144 - val_acc: 0.5021\n",
      "Epoch 37/50\n",
      "50000/50000 [==============================] - 4s 72us/step - loss: 0.7106 - acc: 0.7791 - val_loss: 1.5130 - val_acc: 0.5077\n",
      "Epoch 38/50\n",
      "50000/50000 [==============================] - 3s 66us/step - loss: 0.6931 - acc: 0.7836 - val_loss: 1.5186 - val_acc: 0.5071\n",
      "Epoch 39/50\n",
      "50000/50000 [==============================] - 4s 81us/step - loss: 0.6728 - acc: 0.7928 - val_loss: 1.5441 - val_acc: 0.5033\n",
      "Epoch 40/50\n",
      "50000/50000 [==============================] - 3s 69us/step - loss: 0.6560 - acc: 0.8004 - val_loss: 1.5294 - val_acc: 0.5041\n",
      "Epoch 41/50\n",
      "50000/50000 [==============================] - 3s 66us/step - loss: 0.6372 - acc: 0.8063 - val_loss: 1.5516 - val_acc: 0.5038\n",
      "Epoch 42/50\n",
      "50000/50000 [==============================] - 4s 72us/step - loss: 0.6199 - acc: 0.8144 - val_loss: 1.5706 - val_acc: 0.5028\n",
      "Epoch 43/50\n",
      "50000/50000 [==============================] - 3s 69us/step - loss: 0.6021 - acc: 0.8211 - val_loss: 1.5690 - val_acc: 0.4981\n",
      "Epoch 44/50\n",
      "50000/50000 [==============================] - 3s 65us/step - loss: 0.5836 - acc: 0.8280 - val_loss: 1.5877 - val_acc: 0.5043\n",
      "Epoch 45/50\n",
      "50000/50000 [==============================] - 3s 68us/step - loss: 0.5648 - acc: 0.8360 - val_loss: 1.5989 - val_acc: 0.5039\n",
      "Epoch 46/50\n",
      "50000/50000 [==============================] - 3s 65us/step - loss: 0.5490 - acc: 0.8421 - val_loss: 1.6170 - val_acc: 0.4966\n",
      "Epoch 47/50\n",
      "50000/50000 [==============================] - 3s 62us/step - loss: 0.5336 - acc: 0.8488 - val_loss: 1.6288 - val_acc: 0.4986\n",
      "Epoch 48/50\n",
      "50000/50000 [==============================] - 3s 65us/step - loss: 0.5157 - acc: 0.8547 - val_loss: 1.6299 - val_acc: 0.5032\n",
      "Epoch 49/50\n",
      "50000/50000 [==============================] - 3s 64us/step - loss: 0.5004 - acc: 0.8601 - val_loss: 1.6399 - val_acc: 0.5032\n"
     ]
    },
    {
     "name": "stdout",
     "output_type": "stream",
     "text": [
      "Epoch 50/50\n",
      "50000/50000 [==============================] - 3s 66us/step - loss: 0.4845 - acc: 0.8662 - val_loss: 1.6612 - val_acc: 0.4990\n",
      "10000/10000 [==============================] - 1s 100us/step\n"
     ]
    }
   ],
   "source": [
    "model = build_mlp(input_shape=x_train.shape[1:])\n",
    "model.summary()\n",
    "optimizer = keras.optimizers.SGD(lr=LEARNING_RATE, nesterov=True, momentum=MOMENTUM)\n",
    "model.compile(loss=\"categorical_crossentropy\", metrics=[\"accuracy\"], optimizer=optimizer)\n",
    "\n",
    "model.fit(x_train, y_train, \n",
    "          epochs=EPOCHS, \n",
    "          batch_size=BATCH_SIZE, \n",
    "          validation_data=(x_test, y_test), \n",
    "          shuffle=True,\n",
    "          callbacks=[model_ckpt]\n",
    "         )\n",
    "\n",
    "# Collect results\n",
    "train_loss = model.history.history[\"loss\"]\n",
    "valid_loss = model.history.history[\"val_loss\"]\n",
    "train_acc = model.history.history[\"acc\"]\n",
    "valid_acc = model.history.history[\"val_acc\"]\n",
    "\n",
    "# Load back\n",
    "model = keras.models.load_model(\"./tmp.h5\")\n",
    "loss_loadback, acc_loadback = model.evaluate(x_test, y_test)"
   ]
  },
  {
   "cell_type": "code",
   "execution_count": 9,
   "metadata": {},
   "outputs": [
    {
     "data": {
      "image/png": "[encoded data removed]",
      "text/plain": [
       "<Figure size 432x288 with 1 Axes>"
      ]
     },
     "metadata": {
      "needs_background": "light"
     },
     "output_type": "display_data"
    },
    {
     "data": {
      "image/png": "[encoded data removed]",
      "text/plain": [
       "<Figure size 432x288 with 1 Axes>"
      ]
     },
     "metadata": {
      "needs_background": "light"
     },
     "output_type": "display_data"
    }
   ],
   "source": [
    "import matplotlib.pyplot as plt\n",
    "%matplotlib inline\n",
    "\n",
    "plt.plot(range(len(train_loss)), train_loss, label=\"train loss\")\n",
    "plt.plot(range(len(valid_loss)), valid_loss, label=\"valid loss\")\n",
    "plt.hlines(y=loss_loadback, xmin=0, xmax=len(train_loss), colors='r', linestyles='--')\n",
    "plt.legend()\n",
    "plt.title(\"Loss\")\n",
    "plt.show()\n",
    "\n",
    "plt.plot(range(len(train_acc)), train_acc, label=\"train accuracy\")\n",
    "plt.plot(range(len(valid_acc)), valid_acc, label=\"valid accuracy\")\n",
    "plt.hlines(y=acc_loadback, xmin=0, xmax=len(train_loss), colors='r', linestyles='--')\n",
    "plt.legend()\n",
    "plt.title(\"Accuracy\")\n",
    "plt.show()"
   ]
  },
  {
   "cell_type": "code",
   "execution_count": null,
   "metadata": {},
   "outputs": [],
   "source": []
  }
 ],
 "metadata": {
  "kernelspec": {
   "display_name": "Python (tensorflow-gpu)",
   "language": "python",
   "name": "tensorflow-gpu"
  },
  "language_info": {
   "codemirror_mode": {
    "name": "ipython",
    "version": 3
   },
   "file_extension": ".py",
   "mimetype": "text/x-python",
   "name": "python",
   "nbconvert_exporter": "python",
   "pygments_lexer": "ipython3",
   "version": "3.6.8"
  }
 },
 "nbformat": 4,
 "nbformat_minor": 2
}
