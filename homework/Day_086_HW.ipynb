{
 "cells": [
  {
   "cell_type": "markdown",
   "metadata": {},
   "source": [
    "# Work\n",
    "試比較 save_best_only 與否的差異  \n",
    "請僅存入將 save_weights_only 設定為 True, 並嘗試 reset ipynb 並將模型與權重重新建回並預測 x_test"
   ]
  },
  {
   "cell_type": "code",
   "execution_count": 1,
   "metadata": {},
   "outputs": [
    {
     "name": "stderr",
     "output_type": "stream",
     "text": [
      "Using TensorFlow backend.\n"
     ]
    }
   ],
   "source": [
    "import os\n",
    "import keras\n",
    "\n",
    "# Disable GPU\n",
    "os.environ[\"CUDA_VISIBLE_DEVICES\"] = \"\""
   ]
  },
  {
   "cell_type": "code",
   "execution_count": 2,
   "metadata": {},
   "outputs": [],
   "source": [
    "train, test = keras.datasets.cifar10.load_data()"
   ]
  },
  {
   "cell_type": "code",
   "execution_count": 3,
   "metadata": {},
   "outputs": [],
   "source": [
    "## 資料前處理\n",
    "def preproc_x(x, flatten=True):\n",
    "    x = x / 255.\n",
    "    if flatten:\n",
    "        x = x.reshape((len(x), -1))\n",
    "    return x\n",
    "\n",
    "def preproc_y(y, num_classes=10):\n",
    "    if y.shape[-1] == 1:\n",
    "        y = keras.utils.to_categorical(y, num_classes)\n",
    "    return y"
   ]
  },
  {
   "cell_type": "code",
   "execution_count": 4,
   "metadata": {},
   "outputs": [],
   "source": [
    "x_train, y_train = train\n",
    "x_test, y_test = test\n",
    "\n",
    "# Preproc the inputs\n",
    "x_train = preproc_x(x_train)\n",
    "x_test = preproc_x(x_test)\n",
    "\n",
    "# Preprc the outputs\n",
    "y_train = preproc_y(y_train)\n",
    "y_test = preproc_y(y_test)"
   ]
  },
  {
   "cell_type": "code",
   "execution_count": 5,
   "metadata": {},
   "outputs": [],
   "source": [
    "from keras.layers import BatchNormalization\n",
    "\n",
    "\"\"\"\n",
    "建立神經網路，並加入 BN layer\n",
    "\"\"\"\n",
    "def build_mlp(input_shape, output_units=10, num_neurons=[512, 256, 128]):\n",
    "    input_layer = keras.layers.Input(input_shape)\n",
    "    \n",
    "    for i, n_units in enumerate(num_neurons):\n",
    "        if i == 0:\n",
    "            x = keras.layers.Dense(units=n_units, \n",
    "                                   activation=\"relu\", \n",
    "                                   name=\"hidden_layer\"+str(i+1))(input_layer)\n",
    "            x = BatchNormalization()(x)\n",
    "        else:\n",
    "            x = keras.layers.Dense(units=n_units, \n",
    "                                   activation=\"relu\", \n",
    "                                   name=\"hidden_layer\"+str(i+1))(x)\n",
    "            x = BatchNormalization()(x)\n",
    "    \n",
    "    out = keras.layers.Dense(units=output_units, activation=\"softmax\", name=\"output\")(x)\n",
    "    \n",
    "    model = keras.models.Model(inputs=[input_layer], outputs=[out])\n",
    "    return model"
   ]
  },
  {
   "cell_type": "code",
   "execution_count": 6,
   "metadata": {},
   "outputs": [],
   "source": [
    "## 超參數設定\n",
    "LEARNING_RATE = 1e-3\n",
    "EPOCHS = 50\n",
    "BATCH_SIZE = 1024\n",
    "MOMENTUM = 0.95"
   ]
  },
  {
   "cell_type": "markdown",
   "metadata": {},
   "source": [
    "save_best_only=False"
   ]
  },
  {
   "cell_type": "code",
   "execution_count": 7,
   "metadata": {},
   "outputs": [
    {
     "name": "stderr",
     "output_type": "stream",
     "text": [
      "WARNING: Logging before flag parsing goes to stderr.\n",
      "W1011 20:47:55.265325   888 deprecation_wrapper.py:119] From C:\\Coding\\Anaconda3\\envs\\tensorflow-gpu\\lib\\site-packages\\keras\\backend\\tensorflow_backend.py:74: The name tf.get_default_graph is deprecated. Please use tf.compat.v1.get_default_graph instead.\n",
      "\n",
      "W1011 20:47:55.279212   888 deprecation_wrapper.py:119] From C:\\Coding\\Anaconda3\\envs\\tensorflow-gpu\\lib\\site-packages\\keras\\backend\\tensorflow_backend.py:517: The name tf.placeholder is deprecated. Please use tf.compat.v1.placeholder instead.\n",
      "\n",
      "W1011 20:47:55.281726   888 deprecation_wrapper.py:119] From C:\\Coding\\Anaconda3\\envs\\tensorflow-gpu\\lib\\site-packages\\keras\\backend\\tensorflow_backend.py:4138: The name tf.random_uniform is deprecated. Please use tf.random.uniform instead.\n",
      "\n",
      "W1011 20:47:55.353157   888 deprecation_wrapper.py:119] From C:\\Coding\\Anaconda3\\envs\\tensorflow-gpu\\lib\\site-packages\\keras\\backend\\tensorflow_backend.py:133: The name tf.placeholder_with_default is deprecated. Please use tf.compat.v1.placeholder_with_default instead.\n",
      "\n",
      "W1011 20:47:55.548043   888 deprecation_wrapper.py:119] From C:\\Coding\\Anaconda3\\envs\\tensorflow-gpu\\lib\\site-packages\\keras\\optimizers.py:790: The name tf.train.Optimizer is deprecated. Please use tf.compat.v1.train.Optimizer instead.\n",
      "\n",
      "W1011 20:47:55.557963   888 deprecation_wrapper.py:119] From C:\\Coding\\Anaconda3\\envs\\tensorflow-gpu\\lib\\site-packages\\keras\\backend\\tensorflow_backend.py:3295: The name tf.log is deprecated. Please use tf.math.log instead.\n",
      "\n",
      "W1011 20:47:55.666093   888 deprecation.py:323] From C:\\Coding\\Anaconda3\\envs\\tensorflow-gpu\\lib\\site-packages\\tensorflow\\python\\ops\\math_grad.py:1250: add_dispatch_support.<locals>.wrapper (from tensorflow.python.ops.array_ops) is deprecated and will be removed in a future version.\n",
      "Instructions for updating:\n",
      "Use tf.where in 2.0, which has the same broadcast rule as np.where\n"
     ]
    },
    {
     "name": "stdout",
     "output_type": "stream",
     "text": [
      "_________________________________________________________________\n",
      "Layer (type)                 Output Shape              Param #   \n",
      "=================================================================\n",
      "input_1 (InputLayer)         (None, 3072)              0         \n",
      "_________________________________________________________________\n",
      "hidden_layer1 (Dense)        (None, 512)               1573376   \n",
      "_________________________________________________________________\n",
      "batch_normalization_1 (Batch (None, 512)               2048      \n",
      "_________________________________________________________________\n",
      "hidden_layer2 (Dense)        (None, 256)               131328    \n",
      "_________________________________________________________________\n",
      "batch_normalization_2 (Batch (None, 256)               1024      \n",
      "_________________________________________________________________\n",
      "hidden_layer3 (Dense)        (None, 128)               32896     \n",
      "_________________________________________________________________\n",
      "batch_normalization_3 (Batch (None, 128)               512       \n",
      "_________________________________________________________________\n",
      "output (Dense)               (None, 10)                1290      \n",
      "=================================================================\n",
      "Total params: 1,742,474\n",
      "Trainable params: 1,740,682\n",
      "Non-trainable params: 1,792\n",
      "_________________________________________________________________\n",
      "Train on 50000 samples, validate on 10000 samples\n",
      "Epoch 1/50\n",
      "50000/50000 [==============================] - 6s 112us/step - loss: 2.2273 - acc: 0.2689 - val_loss: 2.1942 - val_acc: 0.3232\n",
      "Epoch 2/50\n",
      "50000/50000 [==============================] - 3s 66us/step - loss: 1.7330 - acc: 0.3939 - val_loss: 1.8236 - val_acc: 0.3803\n",
      "Epoch 3/50\n",
      "50000/50000 [==============================] - 3s 58us/step - loss: 1.6103 - acc: 0.4347 - val_loss: 1.7074 - val_acc: 0.4154\n",
      "Epoch 4/50\n",
      "50000/50000 [==============================] - 3s 62us/step - loss: 1.5387 - acc: 0.4603 - val_loss: 1.6262 - val_acc: 0.4407\n",
      "Epoch 5/50\n",
      "50000/50000 [==============================] - 3s 62us/step - loss: 1.4858 - acc: 0.4800 - val_loss: 1.5838 - val_acc: 0.4421\n",
      "Epoch 6/50\n",
      "50000/50000 [==============================] - 3s 59us/step - loss: 1.4418 - acc: 0.4961 - val_loss: 1.5747 - val_acc: 0.4479\n",
      "Epoch 7/50\n",
      "50000/50000 [==============================] - 3s 59us/step - loss: 1.4036 - acc: 0.5094 - val_loss: 1.5415 - val_acc: 0.4596\n",
      "Epoch 8/50\n",
      "50000/50000 [==============================] - 3s 59us/step - loss: 1.3699 - acc: 0.5216 - val_loss: 1.5127 - val_acc: 0.4690\n",
      "Epoch 9/50\n",
      "50000/50000 [==============================] - 3s 61us/step - loss: 1.3391 - acc: 0.5332 - val_loss: 1.5045 - val_acc: 0.4765\n",
      "Epoch 10/50\n",
      "50000/50000 [==============================] - 3s 60us/step - loss: 1.3093 - acc: 0.5423 - val_loss: 1.4980 - val_acc: 0.4749\n",
      "Epoch 11/50\n",
      "50000/50000 [==============================] - 3s 61us/step - loss: 1.2818 - acc: 0.5512 - val_loss: 1.4864 - val_acc: 0.4784\n",
      "Epoch 12/50\n",
      "50000/50000 [==============================] - 3s 61us/step - loss: 1.2577 - acc: 0.5611 - val_loss: 1.4804 - val_acc: 0.4847\n",
      "Epoch 13/50\n",
      "50000/50000 [==============================] - 3s 60us/step - loss: 1.2302 - acc: 0.5718 - val_loss: 1.4871 - val_acc: 0.4777\n",
      "Epoch 14/50\n",
      "50000/50000 [==============================] - 3s 62us/step - loss: 1.2053 - acc: 0.5796 - val_loss: 1.4720 - val_acc: 0.4840\n",
      "Epoch 15/50\n",
      "50000/50000 [==============================] - 3s 60us/step - loss: 1.1821 - acc: 0.5901 - val_loss: 1.4551 - val_acc: 0.4872\n",
      "Epoch 16/50\n",
      "50000/50000 [==============================] - 3s 59us/step - loss: 1.1597 - acc: 0.5970 - val_loss: 1.4649 - val_acc: 0.4840\n",
      "Epoch 17/50\n",
      "50000/50000 [==============================] - 3s 62us/step - loss: 1.1355 - acc: 0.6076 - val_loss: 1.4628 - val_acc: 0.4890\n",
      "Epoch 18/50\n",
      "50000/50000 [==============================] - 3s 60us/step - loss: 1.1139 - acc: 0.6163 - val_loss: 1.4538 - val_acc: 0.4890\n",
      "Epoch 19/50\n",
      "50000/50000 [==============================] - 3s 61us/step - loss: 1.0916 - acc: 0.6246 - val_loss: 1.4569 - val_acc: 0.4859\n",
      "Epoch 20/50\n",
      "50000/50000 [==============================] - 3s 63us/step - loss: 1.0693 - acc: 0.6333 - val_loss: 1.4606 - val_acc: 0.4899\n",
      "Epoch 21/50\n",
      "50000/50000 [==============================] - 3s 68us/step - loss: 1.0505 - acc: 0.6424 - val_loss: 1.4559 - val_acc: 0.4926\n",
      "Epoch 22/50\n",
      "50000/50000 [==============================] - 3s 67us/step - loss: 1.0273 - acc: 0.6507 - val_loss: 1.4475 - val_acc: 0.4946\n",
      "Epoch 23/50\n",
      "50000/50000 [==============================] - 3s 66us/step - loss: 1.0087 - acc: 0.6582 - val_loss: 1.4552 - val_acc: 0.4909\n",
      "Epoch 24/50\n",
      "50000/50000 [==============================] - 3s 62us/step - loss: 0.9876 - acc: 0.6664 - val_loss: 1.4622 - val_acc: 0.4951\n",
      "Epoch 25/50\n",
      "50000/50000 [==============================] - 3s 62us/step - loss: 0.9677 - acc: 0.6750 - val_loss: 1.4596 - val_acc: 0.4950\n",
      "Epoch 26/50\n",
      "50000/50000 [==============================] - 3s 61us/step - loss: 0.9461 - acc: 0.6827 - val_loss: 1.4724 - val_acc: 0.4929\n",
      "Epoch 27/50\n",
      "50000/50000 [==============================] - 3s 63us/step - loss: 0.9248 - acc: 0.6919 - val_loss: 1.4617 - val_acc: 0.4975\n",
      "Epoch 28/50\n",
      "50000/50000 [==============================] - 3s 62us/step - loss: 0.9057 - acc: 0.6974 - val_loss: 1.4653 - val_acc: 0.4924\n",
      "Epoch 29/50\n",
      "50000/50000 [==============================] - 3s 61us/step - loss: 0.8868 - acc: 0.7065 - val_loss: 1.4698 - val_acc: 0.4955\n",
      "Epoch 30/50\n",
      "50000/50000 [==============================] - 3s 63us/step - loss: 0.8641 - acc: 0.7157 - val_loss: 1.4760 - val_acc: 0.4967\n",
      "Epoch 31/50\n",
      "50000/50000 [==============================] - 3s 63us/step - loss: 0.8449 - acc: 0.7226 - val_loss: 1.4809 - val_acc: 0.4982\n",
      "Epoch 32/50\n",
      "50000/50000 [==============================] - 3s 61us/step - loss: 0.8252 - acc: 0.7291 - val_loss: 1.4924 - val_acc: 0.5008\n",
      "Epoch 33/50\n",
      "50000/50000 [==============================] - 3s 65us/step - loss: 0.8074 - acc: 0.7365 - val_loss: 1.4944 - val_acc: 0.4999\n",
      "Epoch 34/50\n",
      "50000/50000 [==============================] - 3s 63us/step - loss: 0.7884 - acc: 0.7443 - val_loss: 1.5001 - val_acc: 0.4973\n",
      "Epoch 35/50\n",
      "50000/50000 [==============================] - 3s 63us/step - loss: 0.7698 - acc: 0.7509 - val_loss: 1.5263 - val_acc: 0.4935\n",
      "Epoch 36/50\n",
      "50000/50000 [==============================] - 3s 62us/step - loss: 0.7506 - acc: 0.7598 - val_loss: 1.5177 - val_acc: 0.5000\n",
      "Epoch 37/50\n",
      "50000/50000 [==============================] - 3s 64us/step - loss: 0.7303 - acc: 0.7669 - val_loss: 1.5213 - val_acc: 0.4993\n",
      "Epoch 38/50\n",
      "50000/50000 [==============================] - 3s 62us/step - loss: 0.7130 - acc: 0.7743 - val_loss: 1.5443 - val_acc: 0.4943\n",
      "Epoch 39/50\n",
      "50000/50000 [==============================] - 3s 63us/step - loss: 0.6941 - acc: 0.7818 - val_loss: 1.5437 - val_acc: 0.4954\n",
      "Epoch 40/50\n",
      "50000/50000 [==============================] - 3s 65us/step - loss: 0.6772 - acc: 0.7869 - val_loss: 1.5578 - val_acc: 0.4990\n",
      "Epoch 41/50\n",
      "50000/50000 [==============================] - 3s 61us/step - loss: 0.6581 - acc: 0.7944 - val_loss: 1.5745 - val_acc: 0.4934\n",
      "Epoch 42/50\n",
      "50000/50000 [==============================] - 3s 60us/step - loss: 0.6382 - acc: 0.8030 - val_loss: 1.5848 - val_acc: 0.4892\n",
      "Epoch 43/50\n",
      "50000/50000 [==============================] - 3s 61us/step - loss: 0.6184 - acc: 0.8111 - val_loss: 1.5891 - val_acc: 0.4919\n",
      "Epoch 44/50\n",
      "50000/50000 [==============================] - 3s 59us/step - loss: 0.6029 - acc: 0.8167 - val_loss: 1.6165 - val_acc: 0.4924\n",
      "Epoch 45/50\n",
      "50000/50000 [==============================] - 3s 60us/step - loss: 0.5857 - acc: 0.8235 - val_loss: 1.6292 - val_acc: 0.4918\n",
      "Epoch 46/50\n",
      "50000/50000 [==============================] - 3s 61us/step - loss: 0.5717 - acc: 0.8292 - val_loss: 1.6160 - val_acc: 0.4941\n",
      "Epoch 47/50\n",
      "50000/50000 [==============================] - 3s 60us/step - loss: 0.5518 - acc: 0.8364 - val_loss: 1.6409 - val_acc: 0.4934\n",
      "Epoch 48/50\n",
      "50000/50000 [==============================] - 3s 60us/step - loss: 0.5357 - acc: 0.8435 - val_loss: 1.6357 - val_acc: 0.4935\n",
      "Epoch 49/50\n",
      "50000/50000 [==============================] - 3s 62us/step - loss: 0.5178 - acc: 0.8512 - val_loss: 1.6594 - val_acc: 0.4915\n"
     ]
    },
    {
     "name": "stdout",
     "output_type": "stream",
     "text": [
      "Epoch 50/50\n",
      "50000/50000 [==============================] - 3s 63us/step - loss: 0.5001 - acc: 0.8578 - val_loss: 1.6467 - val_acc: 0.4921\n",
      "10000/10000 [==============================] - 1s 90us/step\n"
     ]
    }
   ],
   "source": [
    "# 載入 Callbacks\n",
    "\"\"\"Code Here\n",
    "設定 callbacks: model checkpoint\n",
    "\"\"\"\n",
    "from keras.callbacks import ModelCheckpoint\n",
    "\n",
    "model_ckpt = ModelCheckpoint(filepath=\"./tmp.h5\", \n",
    "                             monitor=\"val_loss\", \n",
    "                             save_best_only=False)\n",
    "\n",
    "results = {}\n",
    "\"\"\"Code Here\n",
    "撰寫你的訓練流程並將結果用 dictionary 紀錄\n",
    "\"\"\"\n",
    "model = build_mlp(input_shape=x_train.shape[1:])\n",
    "model.summary()\n",
    "optimizer = keras.optimizers.SGD(lr=LEARNING_RATE, nesterov=True, momentum=MOMENTUM)\n",
    "model.compile(loss=\"categorical_crossentropy\", metrics=[\"accuracy\"], optimizer=optimizer)\n",
    "\n",
    "model.fit(x_train, y_train, \n",
    "          epochs=EPOCHS, \n",
    "          batch_size=BATCH_SIZE, \n",
    "          validation_data=(x_test, y_test), \n",
    "          shuffle=True,\n",
    "          callbacks=[model_ckpt]\n",
    "         )\n",
    "\n",
    "# Collect results\n",
    "train_loss = model.history.history[\"loss\"]\n",
    "valid_loss = model.history.history[\"val_loss\"]\n",
    "train_acc = model.history.history[\"acc\"]\n",
    "valid_acc = model.history.history[\"val_acc\"]\n",
    "\n",
    "# Load back\n",
    "model = keras.models.load_model(\"./tmp.h5\")\n",
    "loss_loadback, acc_loadback = model.evaluate(x_test, y_test)"
   ]
  },
  {
   "cell_type": "code",
   "execution_count": 8,
   "metadata": {},
   "outputs": [
    {
     "data": {
      "image/png": "[encoded data removed]",
      "text/plain": [
       "<Figure size 432x288 with 1 Axes>"
      ]
     },
     "metadata": {
      "needs_background": "light"
     },
     "output_type": "display_data"
    },
    {
     "data": {
      "image/png": "[encoded data removed]",
      "text/plain": [
       "<Figure size 432x288 with 1 Axes>"
      ]
     },
     "metadata": {
      "needs_background": "light"
     },
     "output_type": "display_data"
    }
   ],
   "source": [
    "\n",
    "import matplotlib.pyplot as plt\n",
    "%matplotlib inline\n",
    "\n",
    "plt.plot(range(len(train_loss)), train_loss, label=\"train loss\")\n",
    "plt.plot(range(len(valid_loss)), valid_loss, label=\"valid loss\")\n",
    "plt.hlines(y=loss_loadback, xmin=0, xmax=len(train_loss), colors='r', linestyles='--')\n",
    "plt.legend()\n",
    "plt.title(\"Loss\")\n",
    "plt.show()\n",
    "\n",
    "plt.plot(range(len(train_acc)), train_acc, label=\"train accuracy\")\n",
    "plt.plot(range(len(valid_acc)), valid_acc, label=\"valid accuracy\")\n",
    "plt.hlines(y=acc_loadback, xmin=0, xmax=len(train_loss), colors='r', linestyles='--')\n",
    "plt.legend()\n",
    "plt.title(\"Accuracy\")\n",
    "plt.show()"
   ]
  },
  {
   "cell_type": "markdown",
   "metadata": {},
   "source": [
    "save_best_only=True"
   ]
  },
  {
   "cell_type": "code",
   "execution_count": 9,
   "metadata": {},
   "outputs": [
    {
     "name": "stdout",
     "output_type": "stream",
     "text": [
      "_________________________________________________________________\n",
      "Layer (type)                 Output Shape              Param #   \n",
      "=================================================================\n",
      "input_2 (InputLayer)         (None, 3072)              0         \n",
      "_________________________________________________________________\n",
      "hidden_layer1 (Dense)        (None, 512)               1573376   \n",
      "_________________________________________________________________\n",
      "batch_normalization_4 (Batch (None, 512)               2048      \n",
      "_________________________________________________________________\n",
      "hidden_layer2 (Dense)        (None, 256)               131328    \n",
      "_________________________________________________________________\n",
      "batch_normalization_5 (Batch (None, 256)               1024      \n",
      "_________________________________________________________________\n",
      "hidden_layer3 (Dense)        (None, 128)               32896     \n",
      "_________________________________________________________________\n",
      "batch_normalization_6 (Batch (None, 128)               512       \n",
      "_________________________________________________________________\n",
      "output (Dense)               (None, 10)                1290      \n",
      "=================================================================\n",
      "Total params: 1,742,474\n",
      "Trainable params: 1,740,682\n",
      "Non-trainable params: 1,792\n",
      "_________________________________________________________________\n",
      "Train on 50000 samples, validate on 10000 samples\n",
      "Epoch 1/50\n",
      "50000/50000 [==============================] - 5s 94us/step - loss: 2.1884 - acc: 0.2765 - val_loss: 2.0755 - val_acc: 0.3187\n",
      "Epoch 2/50\n",
      "50000/50000 [==============================] - 3s 62us/step - loss: 1.7442 - acc: 0.3913 - val_loss: 1.7952 - val_acc: 0.3717\n",
      "Epoch 3/50\n",
      "50000/50000 [==============================] - 3s 61us/step - loss: 1.6192 - acc: 0.4338 - val_loss: 1.6858 - val_acc: 0.4047\n",
      "Epoch 4/50\n",
      "50000/50000 [==============================] - 3s 62us/step - loss: 1.5451 - acc: 0.4620 - val_loss: 1.6306 - val_acc: 0.4297\n",
      "Epoch 5/50\n",
      "50000/50000 [==============================] - 3s 61us/step - loss: 1.4890 - acc: 0.4824 - val_loss: 1.5931 - val_acc: 0.4387\n",
      "Epoch 6/50\n",
      "50000/50000 [==============================] - 3s 65us/step - loss: 1.4450 - acc: 0.4967 - val_loss: 1.5732 - val_acc: 0.4425\n",
      "Epoch 7/50\n",
      "50000/50000 [==============================] - 3s 61us/step - loss: 1.4046 - acc: 0.5121 - val_loss: 1.5457 - val_acc: 0.4535\n",
      "Epoch 8/50\n",
      "50000/50000 [==============================] - 3s 59us/step - loss: 1.3716 - acc: 0.5247 - val_loss: 1.5225 - val_acc: 0.4615\n",
      "Epoch 9/50\n",
      "50000/50000 [==============================] - 3s 63us/step - loss: 1.3393 - acc: 0.5349 - val_loss: 1.5173 - val_acc: 0.4628\n",
      "Epoch 10/50\n",
      "50000/50000 [==============================] - 3s 61us/step - loss: 1.3099 - acc: 0.5448 - val_loss: 1.5027 - val_acc: 0.4689\n",
      "Epoch 11/50\n",
      "50000/50000 [==============================] - 3s 61us/step - loss: 1.2803 - acc: 0.5580 - val_loss: 1.5010 - val_acc: 0.4748\n",
      "Epoch 12/50\n",
      "50000/50000 [==============================] - 3s 60us/step - loss: 1.2534 - acc: 0.5668 - val_loss: 1.4803 - val_acc: 0.4788\n",
      "Epoch 13/50\n",
      "50000/50000 [==============================] - 3s 59us/step - loss: 1.2275 - acc: 0.5769 - val_loss: 1.4911 - val_acc: 0.4789\n",
      "Epoch 14/50\n",
      "50000/50000 [==============================] - 3s 63us/step - loss: 1.2022 - acc: 0.5851 - val_loss: 1.4693 - val_acc: 0.4828\n",
      "Epoch 15/50\n",
      "50000/50000 [==============================] - 3s 60us/step - loss: 1.1806 - acc: 0.5942 - val_loss: 1.4740 - val_acc: 0.4817\n",
      "Epoch 16/50\n",
      "50000/50000 [==============================] - 3s 62us/step - loss: 1.1564 - acc: 0.6013 - val_loss: 1.4633 - val_acc: 0.4882\n",
      "Epoch 17/50\n",
      "50000/50000 [==============================] - 3s 61us/step - loss: 1.1321 - acc: 0.6108 - val_loss: 1.4864 - val_acc: 0.4793\n",
      "Epoch 18/50\n",
      "50000/50000 [==============================] - 3s 62us/step - loss: 1.1116 - acc: 0.6206 - val_loss: 1.4646 - val_acc: 0.4872\n",
      "Epoch 19/50\n",
      "50000/50000 [==============================] - 3s 62us/step - loss: 1.0888 - acc: 0.6276 - val_loss: 1.4485 - val_acc: 0.4906\n",
      "Epoch 20/50\n",
      "50000/50000 [==============================] - 3s 62us/step - loss: 1.0681 - acc: 0.6374 - val_loss: 1.4416 - val_acc: 0.4933\n",
      "Epoch 21/50\n",
      "50000/50000 [==============================] - 3s 61us/step - loss: 1.0450 - acc: 0.6445 - val_loss: 1.4503 - val_acc: 0.4921\n",
      "Epoch 22/50\n",
      "50000/50000 [==============================] - 3s 61us/step - loss: 1.0238 - acc: 0.6515 - val_loss: 1.4507 - val_acc: 0.4914\n",
      "Epoch 23/50\n",
      "50000/50000 [==============================] - 3s 61us/step - loss: 1.0027 - acc: 0.6616 - val_loss: 1.4485 - val_acc: 0.4998\n",
      "Epoch 24/50\n",
      "50000/50000 [==============================] - 3s 62us/step - loss: 0.9840 - acc: 0.6677 - val_loss: 1.4549 - val_acc: 0.4943\n",
      "Epoch 25/50\n",
      "50000/50000 [==============================] - 3s 64us/step - loss: 0.9616 - acc: 0.6759 - val_loss: 1.4638 - val_acc: 0.4910\n",
      "Epoch 26/50\n",
      "50000/50000 [==============================] - 3s 65us/step - loss: 0.9409 - acc: 0.6848 - val_loss: 1.4695 - val_acc: 0.4949\n",
      "Epoch 27/50\n",
      "50000/50000 [==============================] - 3s 63us/step - loss: 0.9218 - acc: 0.6900 - val_loss: 1.4719 - val_acc: 0.4897\n",
      "Epoch 28/50\n",
      "50000/50000 [==============================] - 3s 61us/step - loss: 0.9005 - acc: 0.6998 - val_loss: 1.4761 - val_acc: 0.4953\n",
      "Epoch 29/50\n",
      "50000/50000 [==============================] - 3s 66us/step - loss: 0.8783 - acc: 0.7079 - val_loss: 1.4609 - val_acc: 0.5026\n",
      "Epoch 30/50\n",
      "50000/50000 [==============================] - 3s 61us/step - loss: 0.8592 - acc: 0.7167 - val_loss: 1.4902 - val_acc: 0.4922\n",
      "Epoch 31/50\n",
      "50000/50000 [==============================] - 3s 62us/step - loss: 0.8404 - acc: 0.7228 - val_loss: 1.4770 - val_acc: 0.4960\n",
      "Epoch 32/50\n",
      "50000/50000 [==============================] - 3s 62us/step - loss: 0.8192 - acc: 0.7319 - val_loss: 1.4805 - val_acc: 0.5017\n",
      "Epoch 33/50\n",
      "50000/50000 [==============================] - 3s 63us/step - loss: 0.8005 - acc: 0.7394 - val_loss: 1.4852 - val_acc: 0.4992\n",
      "Epoch 34/50\n",
      "50000/50000 [==============================] - 3s 62us/step - loss: 0.7830 - acc: 0.7461 - val_loss: 1.4980 - val_acc: 0.4937\n",
      "Epoch 35/50\n",
      "50000/50000 [==============================] - 3s 62us/step - loss: 0.7624 - acc: 0.7556 - val_loss: 1.5073 - val_acc: 0.5008\n",
      "Epoch 36/50\n",
      "50000/50000 [==============================] - 3s 63us/step - loss: 0.7441 - acc: 0.7599 - val_loss: 1.5187 - val_acc: 0.4980\n",
      "Epoch 37/50\n",
      "50000/50000 [==============================] - 3s 61us/step - loss: 0.7241 - acc: 0.7706 - val_loss: 1.5169 - val_acc: 0.4992\n",
      "Epoch 38/50\n",
      "50000/50000 [==============================] - 3s 65us/step - loss: 0.7033 - acc: 0.7790 - val_loss: 1.5183 - val_acc: 0.4989\n",
      "Epoch 39/50\n",
      "50000/50000 [==============================] - 3s 68us/step - loss: 0.6869 - acc: 0.7846 - val_loss: 1.5354 - val_acc: 0.4916\n",
      "Epoch 40/50\n",
      "50000/50000 [==============================] - 3s 63us/step - loss: 0.6700 - acc: 0.7890 - val_loss: 1.5456 - val_acc: 0.4945\n",
      "Epoch 41/50\n",
      "50000/50000 [==============================] - 4s 70us/step - loss: 0.6508 - acc: 0.7994 - val_loss: 1.5499 - val_acc: 0.4962\n",
      "Epoch 42/50\n",
      "50000/50000 [==============================] - 4s 72us/step - loss: 0.6322 - acc: 0.8068 - val_loss: 1.5658 - val_acc: 0.4974\n",
      "Epoch 43/50\n",
      "50000/50000 [==============================] - 3s 65us/step - loss: 0.6141 - acc: 0.8121 - val_loss: 1.5751 - val_acc: 0.4944\n",
      "Epoch 44/50\n",
      "50000/50000 [==============================] - 3s 67us/step - loss: 0.5967 - acc: 0.8193 - val_loss: 1.5794 - val_acc: 0.4958\n",
      "Epoch 45/50\n",
      "50000/50000 [==============================] - 3s 65us/step - loss: 0.5808 - acc: 0.8257 - val_loss: 1.6145 - val_acc: 0.4930\n",
      "Epoch 46/50\n",
      "50000/50000 [==============================] - 3s 62us/step - loss: 0.5613 - acc: 0.8341 - val_loss: 1.6066 - val_acc: 0.4877\n",
      "Epoch 47/50\n",
      "50000/50000 [==============================] - 3s 63us/step - loss: 0.5461 - acc: 0.8411 - val_loss: 1.6155 - val_acc: 0.4948\n",
      "Epoch 48/50\n",
      "50000/50000 [==============================] - 3s 64us/step - loss: 0.5293 - acc: 0.8460 - val_loss: 1.6301 - val_acc: 0.4932\n",
      "Epoch 49/50\n",
      "50000/50000 [==============================] - 3s 69us/step - loss: 0.5138 - acc: 0.8529 - val_loss: 1.6494 - val_acc: 0.4898\n"
     ]
    },
    {
     "name": "stdout",
     "output_type": "stream",
     "text": [
      "Epoch 50/50\n",
      "50000/50000 [==============================] - 3s 59us/step - loss: 0.4973 - acc: 0.8596 - val_loss: 1.6473 - val_acc: 0.4936\n",
      "10000/10000 [==============================] - 1s 103us/step\n"
     ]
    }
   ],
   "source": [
    "# 載入 Callbacks\n",
    "\"\"\"Code Here\n",
    "設定 callbacks: model checkpoint\n",
    "\"\"\"\n",
    "from keras.callbacks import ModelCheckpoint\n",
    "\n",
    "model_ckpt = ModelCheckpoint(filepath=\"./tmp.h5\", \n",
    "                             monitor=\"val_loss\", \n",
    "                             save_best_only=True)\n",
    "\n",
    "results = {}\n",
    "\"\"\"Code Here\n",
    "撰寫你的訓練流程並將結果用 dictionary 紀錄\n",
    "\"\"\"\n",
    "model = build_mlp(input_shape=x_train.shape[1:])\n",
    "model.summary()\n",
    "optimizer = keras.optimizers.SGD(lr=LEARNING_RATE, nesterov=True, momentum=MOMENTUM)\n",
    "model.compile(loss=\"categorical_crossentropy\", metrics=[\"accuracy\"], optimizer=optimizer)\n",
    "\n",
    "model.fit(x_train, y_train, \n",
    "          epochs=EPOCHS, \n",
    "          batch_size=BATCH_SIZE, \n",
    "          validation_data=(x_test, y_test), \n",
    "          shuffle=True,\n",
    "          callbacks=[model_ckpt]\n",
    "         )\n",
    "\n",
    "# Collect results\n",
    "train_loss = model.history.history[\"loss\"]\n",
    "valid_loss = model.history.history[\"val_loss\"]\n",
    "train_acc = model.history.history[\"acc\"]\n",
    "valid_acc = model.history.history[\"val_acc\"]\n",
    "\n",
    "# Load back\n",
    "model = keras.models.load_model(\"./tmp.h5\")\n",
    "loss_loadback, acc_loadback = model.evaluate(x_test, y_test)"
   ]
  },
  {
   "cell_type": "code",
   "execution_count": 10,
   "metadata": {},
   "outputs": [
    {
     "data": {
      "image/png": "[encoded data removed]",
      "text/plain": [
       "<Figure size 432x288 with 1 Axes>"
      ]
     },
     "metadata": {
      "needs_background": "light"
     },
     "output_type": "display_data"
    },
    {
     "data": {
      "image/png": "[encoded data removed]",
      "text/plain": [
       "<Figure size 432x288 with 1 Axes>"
      ]
     },
     "metadata": {
      "needs_background": "light"
     },
     "output_type": "display_data"
    }
   ],
   "source": [
    "import matplotlib.pyplot as plt\n",
    "%matplotlib inline\n",
    "\n",
    "plt.plot(range(len(train_loss)), train_loss, label=\"train loss\")\n",
    "plt.plot(range(len(valid_loss)), valid_loss, label=\"valid loss\")\n",
    "plt.hlines(y=loss_loadback, xmin=0, xmax=len(train_loss), colors='r', linestyles='--')\n",
    "plt.legend()\n",
    "plt.title(\"Loss\")\n",
    "plt.show()\n",
    "\n",
    "plt.plot(range(len(train_acc)), train_acc, label=\"train accuracy\")\n",
    "plt.plot(range(len(valid_acc)), valid_acc, label=\"valid accuracy\")\n",
    "plt.hlines(y=acc_loadback, xmin=0, xmax=len(train_loss), colors='r', linestyles='--')\n",
    "plt.legend()\n",
    "plt.title(\"Accuracy\")\n",
    "plt.show()"
   ]
  },
  {
   "cell_type": "code",
   "execution_count": 11,
   "metadata": {},
   "outputs": [
    {
     "name": "stdout",
     "output_type": "stream",
     "text": [
      "10000/10000 [==============================] - 1s 102us/step\n"
     ]
    }
   ],
   "source": [
    "# Load back\n",
    "model = keras.models.load_model(\"./tmp.h5\")\n",
    "loss_loadback, acc_loadback = model.evaluate(x_test, y_test)"
   ]
  },
  {
   "cell_type": "code",
   "execution_count": 12,
   "metadata": {},
   "outputs": [
    {
     "data": {
      "image/png": "[encoded data removed]",
      "text/plain": [
       "<Figure size 432x288 with 1 Axes>"
      ]
     },
     "metadata": {
      "needs_background": "light"
     },
     "output_type": "display_data"
    },
    {
     "data": {
      "image/png": "[encoded data removed]",
      "text/plain": [
       "<Figure size 432x288 with 1 Axes>"
      ]
     },
     "metadata": {
      "needs_background": "light"
     },
     "output_type": "display_data"
    }
   ],
   "source": [
    "import matplotlib.pyplot as plt\n",
    "%matplotlib inline\n",
    "\n",
    "plt.plot(range(len(train_loss)), train_loss, label=\"train loss\")\n",
    "plt.plot(range(len(valid_loss)), valid_loss, label=\"valid loss\")\n",
    "plt.hlines(y=loss_loadback, xmin=0, xmax=len(train_loss), colors='r', linestyles='--')\n",
    "plt.legend()\n",
    "plt.title(\"Loss\")\n",
    "plt.show()\n",
    "\n",
    "plt.plot(range(len(train_acc)), train_acc, label=\"train accuracy\")\n",
    "plt.plot(range(len(valid_acc)), valid_acc, label=\"valid accuracy\")\n",
    "plt.hlines(y=acc_loadback, xmin=0, xmax=len(train_loss), colors='r', linestyles='--')\n",
    "plt.legend()\n",
    "plt.title(\"Accuracy\")\n",
    "plt.show()"
   ]
  },
  {
   "cell_type": "markdown",
   "metadata": {},
   "source": [
    "save_weights_only=True"
   ]
  },
  {
   "cell_type": "code",
   "execution_count": 13,
   "metadata": {},
   "outputs": [
    {
     "name": "stdout",
     "output_type": "stream",
     "text": [
      "_________________________________________________________________\n",
      "Layer (type)                 Output Shape              Param #   \n",
      "=================================================================\n",
      "input_3 (InputLayer)         (None, 3072)              0         \n",
      "_________________________________________________________________\n",
      "hidden_layer1 (Dense)        (None, 512)               1573376   \n",
      "_________________________________________________________________\n",
      "batch_normalization_7 (Batch (None, 512)               2048      \n",
      "_________________________________________________________________\n",
      "hidden_layer2 (Dense)        (None, 256)               131328    \n",
      "_________________________________________________________________\n",
      "batch_normalization_8 (Batch (None, 256)               1024      \n",
      "_________________________________________________________________\n",
      "hidden_layer3 (Dense)        (None, 128)               32896     \n",
      "_________________________________________________________________\n",
      "batch_normalization_9 (Batch (None, 128)               512       \n",
      "_________________________________________________________________\n",
      "output (Dense)               (None, 10)                1290      \n",
      "=================================================================\n",
      "Total params: 1,742,474\n",
      "Trainable params: 1,740,682\n",
      "Non-trainable params: 1,792\n",
      "_________________________________________________________________\n",
      "Train on 50000 samples, validate on 10000 samples\n",
      "Epoch 1/50\n",
      "50000/50000 [==============================] - 5s 104us/step - loss: 2.2035 - acc: 0.2676 - val_loss: 2.1227 - val_acc: 0.3265\n",
      "Epoch 2/50\n",
      "50000/50000 [==============================] - 3s 66us/step - loss: 1.7450 - acc: 0.3916 - val_loss: 1.8241 - val_acc: 0.3692\n",
      "Epoch 3/50\n",
      "50000/50000 [==============================] - 3s 65us/step - loss: 1.6200 - acc: 0.4326 - val_loss: 1.7129 - val_acc: 0.4054\n",
      "Epoch 4/50\n",
      "50000/50000 [==============================] - 3s 65us/step - loss: 1.5444 - acc: 0.4580 - val_loss: 1.6457 - val_acc: 0.4244\n",
      "Epoch 5/50\n",
      "50000/50000 [==============================] - 3s 67us/step - loss: 1.4868 - acc: 0.4806 - val_loss: 1.6003 - val_acc: 0.4380\n",
      "Epoch 6/50\n",
      "50000/50000 [==============================] - 3s 68us/step - loss: 1.4415 - acc: 0.4979 - val_loss: 1.5783 - val_acc: 0.4451\n",
      "Epoch 7/50\n",
      "50000/50000 [==============================] - 3s 64us/step - loss: 1.4009 - acc: 0.5113 - val_loss: 1.5541 - val_acc: 0.4549\n",
      "Epoch 8/50\n",
      "50000/50000 [==============================] - 3s 65us/step - loss: 1.3658 - acc: 0.5257 - val_loss: 1.5323 - val_acc: 0.4627\n",
      "Epoch 9/50\n",
      "50000/50000 [==============================] - 3s 64us/step - loss: 1.3310 - acc: 0.5376 - val_loss: 1.5283 - val_acc: 0.4610\n",
      "Epoch 10/50\n",
      "50000/50000 [==============================] - 3s 65us/step - loss: 1.3004 - acc: 0.5478 - val_loss: 1.5126 - val_acc: 0.4678\n",
      "Epoch 11/50\n",
      "50000/50000 [==============================] - 3s 63us/step - loss: 1.2720 - acc: 0.5601 - val_loss: 1.4968 - val_acc: 0.4733\n",
      "Epoch 12/50\n",
      "50000/50000 [==============================] - 3s 67us/step - loss: 1.2452 - acc: 0.5681 - val_loss: 1.4907 - val_acc: 0.4792\n",
      "Epoch 13/50\n",
      "50000/50000 [==============================] - 3s 69us/step - loss: 1.2193 - acc: 0.5770 - val_loss: 1.4851 - val_acc: 0.4813\n",
      "Epoch 14/50\n",
      "50000/50000 [==============================] - 3s 65us/step - loss: 1.1952 - acc: 0.5873 - val_loss: 1.4814 - val_acc: 0.4773\n",
      "Epoch 15/50\n",
      "50000/50000 [==============================] - 3s 67us/step - loss: 1.1711 - acc: 0.5968 - val_loss: 1.4698 - val_acc: 0.4915\n",
      "Epoch 16/50\n",
      "50000/50000 [==============================] - 3s 66us/step - loss: 1.1462 - acc: 0.6061 - val_loss: 1.4666 - val_acc: 0.4879\n",
      "Epoch 17/50\n",
      "50000/50000 [==============================] - 3s 66us/step - loss: 1.1237 - acc: 0.6147 - val_loss: 1.4712 - val_acc: 0.4915\n",
      "Epoch 18/50\n",
      "50000/50000 [==============================] - 3s 65us/step - loss: 1.1027 - acc: 0.6214 - val_loss: 1.4731 - val_acc: 0.4907\n",
      "Epoch 19/50\n",
      "50000/50000 [==============================] - 3s 65us/step - loss: 1.0810 - acc: 0.6309 - val_loss: 1.4695 - val_acc: 0.4879\n",
      "Epoch 20/50\n",
      "50000/50000 [==============================] - 3s 66us/step - loss: 1.0593 - acc: 0.6385 - val_loss: 1.4613 - val_acc: 0.4908\n",
      "Epoch 21/50\n",
      "50000/50000 [==============================] - 3s 66us/step - loss: 1.0382 - acc: 0.6460 - val_loss: 1.4709 - val_acc: 0.4928\n",
      "Epoch 22/50\n",
      "50000/50000 [==============================] - 3s 67us/step - loss: 1.0172 - acc: 0.6535 - val_loss: 1.4766 - val_acc: 0.4888\n",
      "Epoch 23/50\n",
      "50000/50000 [==============================] - 3s 66us/step - loss: 0.9966 - acc: 0.6622 - val_loss: 1.4701 - val_acc: 0.4947\n",
      "Epoch 24/50\n",
      "50000/50000 [==============================] - 3s 67us/step - loss: 0.9747 - acc: 0.6717 - val_loss: 1.4817 - val_acc: 0.4909\n",
      "Epoch 25/50\n",
      "50000/50000 [==============================] - 3s 68us/step - loss: 0.9533 - acc: 0.6799 - val_loss: 1.4716 - val_acc: 0.4901\n",
      "Epoch 26/50\n",
      "50000/50000 [==============================] - 3s 65us/step - loss: 0.9330 - acc: 0.6879 - val_loss: 1.4831 - val_acc: 0.4945\n",
      "Epoch 27/50\n",
      "50000/50000 [==============================] - 3s 65us/step - loss: 0.9097 - acc: 0.6961 - val_loss: 1.4769 - val_acc: 0.4902\n",
      "Epoch 28/50\n",
      "50000/50000 [==============================] - 3s 67us/step - loss: 0.8896 - acc: 0.7033 - val_loss: 1.4690 - val_acc: 0.5006\n",
      "Epoch 29/50\n",
      "50000/50000 [==============================] - 3s 65us/step - loss: 0.8684 - acc: 0.7121 - val_loss: 1.4835 - val_acc: 0.4935\n",
      "Epoch 30/50\n",
      "50000/50000 [==============================] - 3s 66us/step - loss: 0.8523 - acc: 0.7187 - val_loss: 1.4886 - val_acc: 0.4969\n",
      "Epoch 31/50\n",
      "50000/50000 [==============================] - 3s 65us/step - loss: 0.8324 - acc: 0.7255 - val_loss: 1.4811 - val_acc: 0.5010\n",
      "Epoch 32/50\n",
      "50000/50000 [==============================] - 3s 65us/step - loss: 0.8115 - acc: 0.7356 - val_loss: 1.5033 - val_acc: 0.5037\n",
      "Epoch 33/50\n",
      "50000/50000 [==============================] - 3s 65us/step - loss: 0.7923 - acc: 0.7402 - val_loss: 1.4955 - val_acc: 0.5001\n",
      "Epoch 34/50\n",
      "50000/50000 [==============================] - 3s 62us/step - loss: 0.7700 - acc: 0.7511 - val_loss: 1.5240 - val_acc: 0.4942\n",
      "Epoch 35/50\n",
      "50000/50000 [==============================] - 3s 65us/step - loss: 0.7515 - acc: 0.7574 - val_loss: 1.5241 - val_acc: 0.4935\n",
      "Epoch 36/50\n",
      "50000/50000 [==============================] - 3s 67us/step - loss: 0.7329 - acc: 0.7658 - val_loss: 1.5299 - val_acc: 0.4941\n",
      "Epoch 37/50\n",
      "50000/50000 [==============================] - 3s 64us/step - loss: 0.7132 - acc: 0.7744 - val_loss: 1.5305 - val_acc: 0.4949\n",
      "Epoch 38/50\n",
      "50000/50000 [==============================] - 3s 65us/step - loss: 0.6940 - acc: 0.7815 - val_loss: 1.5424 - val_acc: 0.4955\n",
      "Epoch 39/50\n",
      "50000/50000 [==============================] - 3s 66us/step - loss: 0.6744 - acc: 0.7889 - val_loss: 1.5583 - val_acc: 0.4931\n",
      "Epoch 40/50\n",
      "50000/50000 [==============================] - 3s 66us/step - loss: 0.6565 - acc: 0.7970 - val_loss: 1.5673 - val_acc: 0.4950\n",
      "Epoch 41/50\n",
      "50000/50000 [==============================] - 3s 64us/step - loss: 0.6388 - acc: 0.8022 - val_loss: 1.5682 - val_acc: 0.4969\n",
      "Epoch 42/50\n",
      "50000/50000 [==============================] - 3s 66us/step - loss: 0.6200 - acc: 0.8110 - val_loss: 1.5988 - val_acc: 0.4885\n",
      "Epoch 43/50\n",
      "50000/50000 [==============================] - 3s 64us/step - loss: 0.6031 - acc: 0.8172 - val_loss: 1.5942 - val_acc: 0.4898\n",
      "Epoch 44/50\n",
      "50000/50000 [==============================] - 3s 64us/step - loss: 0.5845 - acc: 0.8255 - val_loss: 1.6144 - val_acc: 0.4874\n",
      "Epoch 45/50\n",
      "50000/50000 [==============================] - 3s 66us/step - loss: 0.5641 - acc: 0.8348 - val_loss: 1.6169 - val_acc: 0.4914\n",
      "Epoch 46/50\n",
      "50000/50000 [==============================] - 3s 66us/step - loss: 0.5494 - acc: 0.8383 - val_loss: 1.6563 - val_acc: 0.4835\n",
      "Epoch 47/50\n",
      "50000/50000 [==============================] - 3s 65us/step - loss: 0.5327 - acc: 0.8453 - val_loss: 1.6628 - val_acc: 0.4825\n",
      "Epoch 48/50\n",
      "50000/50000 [==============================] - 3s 68us/step - loss: 0.5158 - acc: 0.8535 - val_loss: 1.6550 - val_acc: 0.4872\n",
      "Epoch 49/50\n",
      "50000/50000 [==============================] - 3s 66us/step - loss: 0.4978 - acc: 0.8598 - val_loss: 1.6777 - val_acc: 0.4909\n"
     ]
    },
    {
     "name": "stdout",
     "output_type": "stream",
     "text": [
      "Epoch 50/50\n",
      "50000/50000 [==============================] - 3s 65us/step - loss: 0.4828 - acc: 0.8655 - val_loss: 1.6787 - val_acc: 0.4896\n"
     ]
    }
   ],
   "source": [
    "# 載入 Callbacks\n",
    "\"\"\"Code Here\n",
    "設定 callbacks: model checkpoint\n",
    "\"\"\"\n",
    "from keras.callbacks import ModelCheckpoint\n",
    "\n",
    "model_ckpt = ModelCheckpoint(filepath=\"./tmp.h5\", \n",
    "                             monitor=\"val_loss\", \n",
    "                             save_weights_only=True)\n",
    "\n",
    "results = {}\n",
    "\"\"\"Code Here\n",
    "撰寫你的訓練流程並將結果用 dictionary 紀錄\n",
    "\"\"\"\n",
    "model = build_mlp(input_shape=x_train.shape[1:])\n",
    "model.summary()\n",
    "optimizer = keras.optimizers.SGD(lr=LEARNING_RATE, nesterov=True, momentum=MOMENTUM)\n",
    "model.compile(loss=\"categorical_crossentropy\", metrics=[\"accuracy\"], optimizer=optimizer)\n",
    "\n",
    "model.fit(x_train, y_train, \n",
    "          epochs=EPOCHS, \n",
    "          batch_size=BATCH_SIZE, \n",
    "          validation_data=(x_test, y_test), \n",
    "          shuffle=True,\n",
    "          callbacks=[model_ckpt]\n",
    "         )\n",
    "\n",
    "# Collect results\n",
    "train_loss = model.history.history[\"loss\"]\n",
    "valid_loss = model.history.history[\"val_loss\"]\n",
    "train_acc = model.history.history[\"acc\"]\n",
    "valid_acc = model.history.history[\"val_acc\"]"
   ]
  },
  {
   "cell_type": "code",
   "execution_count": 14,
   "metadata": {},
   "outputs": [
    {
     "name": "stdout",
     "output_type": "stream",
     "text": [
      "_________________________________________________________________\n",
      "Layer (type)                 Output Shape              Param #   \n",
      "=================================================================\n",
      "input_4 (InputLayer)         (None, 3072)              0         \n",
      "_________________________________________________________________\n",
      "hidden_layer1 (Dense)        (None, 512)               1573376   \n",
      "_________________________________________________________________\n",
      "batch_normalization_10 (Batc (None, 512)               2048      \n",
      "_________________________________________________________________\n",
      "hidden_layer2 (Dense)        (None, 256)               131328    \n",
      "_________________________________________________________________\n",
      "batch_normalization_11 (Batc (None, 256)               1024      \n",
      "_________________________________________________________________\n",
      "hidden_layer3 (Dense)        (None, 128)               32896     \n",
      "_________________________________________________________________\n",
      "batch_normalization_12 (Batc (None, 128)               512       \n",
      "_________________________________________________________________\n",
      "output (Dense)               (None, 10)                1290      \n",
      "=================================================================\n",
      "Total params: 1,742,474\n",
      "Trainable params: 1,740,682\n",
      "Non-trainable params: 1,792\n",
      "_________________________________________________________________\n"
     ]
    }
   ],
   "source": [
    "# 載入 Callbacks\n",
    "\"\"\"Code Here\n",
    "設定 callbacks: model checkpoint\n",
    "\"\"\"\n",
    "from keras.callbacks import ModelCheckpoint\n",
    "\n",
    "model_ckpt = ModelCheckpoint(filepath=\"./tmp.h5\", \n",
    "                             monitor=\"val_loss\", \n",
    "                             save_weights_only=True)\n",
    "\n",
    "results = {}\n",
    "\"\"\"Code Here\n",
    "撰寫你的訓練流程並將結果用 dictionary 紀錄\n",
    "\"\"\"\n",
    "model = build_mlp(input_shape=x_train.shape[1:])\n",
    "model.summary()\n",
    "optimizer = keras.optimizers.SGD(lr=LEARNING_RATE, nesterov=True, momentum=MOMENTUM)\n",
    "model.compile(loss=\"categorical_crossentropy\", metrics=[\"accuracy\"], optimizer=optimizer)\n",
    "\n",
    "# Load back\n",
    "model.load_weights(\"./tmp.h5\")\n",
    "#model = keras.models.load_model(\"./tmp.h5\")\n",
    "#loss_loadback, acc_loadback = model.evaluate(x_test, y_test)"
   ]
  },
  {
   "cell_type": "code",
   "execution_count": 15,
   "metadata": {},
   "outputs": [
    {
     "data": {
      "image/png": "[encoded data removed]",
      "text/plain": [
       "<Figure size 432x288 with 1 Axes>"
      ]
     },
     "metadata": {
      "needs_background": "light"
     },
     "output_type": "display_data"
    },
    {
     "data": {
      "image/png": "[encoded data removed]",
      "text/plain": [
       "<Figure size 432x288 with 1 Axes>"
      ]
     },
     "metadata": {
      "needs_background": "light"
     },
     "output_type": "display_data"
    }
   ],
   "source": [
    "import matplotlib.pyplot as plt\n",
    "%matplotlib inline\n",
    "\n",
    "plt.plot(range(len(train_loss)), train_loss, label=\"train loss\")\n",
    "plt.plot(range(len(valid_loss)), valid_loss, label=\"valid loss\")\n",
    "plt.hlines(y=loss_loadback, xmin=0, xmax=len(train_loss), colors='r', linestyles='--')\n",
    "plt.legend()\n",
    "plt.title(\"Loss\")\n",
    "plt.show()\n",
    "\n",
    "plt.plot(range(len(train_acc)), train_acc, label=\"train accuracy\")\n",
    "plt.plot(range(len(valid_acc)), valid_acc, label=\"valid accuracy\")\n",
    "plt.hlines(y=acc_loadback, xmin=0, xmax=len(train_loss), colors='r', linestyles='--')\n",
    "plt.legend()\n",
    "plt.title(\"Accuracy\")\n",
    "plt.show()"
   ]
  },
  {
   "cell_type": "code",
   "execution_count": null,
   "metadata": {},
   "outputs": [],
   "source": []
  }
 ],
 "metadata": {
  "kernelspec": {
   "display_name": "Python (tensorflow-gpu)",
   "language": "python",
   "name": "tensorflow-gpu"
  },
  "language_info": {
   "codemirror_mode": {
    "name": "ipython",
    "version": 3
   },
   "file_extension": ".py",
   "mimetype": "text/x-python",
   "name": "python",
   "nbconvert_exporter": "python",
   "pygments_lexer": "ipython3",
   "version": "3.6.8"
  }
 },
 "nbformat": 4,
 "nbformat_minor": 2
}
