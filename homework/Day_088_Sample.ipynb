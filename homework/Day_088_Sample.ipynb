{
 "cells": [
  {
   "cell_type": "markdown",
   "metadata": {},
   "source": [
    "# 範例重點\n",
    "學習如何在 keras 中加入自定義的 callbacks  \n",
    "知道 callback function 可以動作的時機"
   ]
  },
  {
   "cell_type": "code",
   "execution_count": 1,
   "metadata": {},
   "outputs": [
    {
     "name": "stderr",
     "output_type": "stream",
     "text": [
      "Using TensorFlow backend.\n"
     ]
    }
   ],
   "source": [
    "import os\n",
    "import keras\n",
    "\n",
    "# 本範例不需使用 GPU, 將 GPU 設定為 \"無\"\n",
    "os.environ[\"CUDA_VISIBLE_DEVICES\"] = \"\""
   ]
  },
  {
   "cell_type": "code",
   "execution_count": 2,
   "metadata": {},
   "outputs": [],
   "source": [
    "train, test = keras.datasets.cifar10.load_data()"
   ]
  },
  {
   "cell_type": "code",
   "execution_count": 3,
   "metadata": {},
   "outputs": [],
   "source": [
    "## 資料前處理\n",
    "def preproc_x(x, flatten=True):\n",
    "    x = x / 255.\n",
    "    if flatten:\n",
    "        x = x.reshape((len(x), -1))\n",
    "    return x\n",
    "\n",
    "def preproc_y(y, num_classes=10):\n",
    "    if y.shape[-1] == 1:\n",
    "        y = keras.utils.to_categorical(y, num_classes)\n",
    "    return y    "
   ]
  },
  {
   "cell_type": "code",
   "execution_count": 4,
   "metadata": {},
   "outputs": [],
   "source": [
    "x_train, y_train = train\n",
    "x_test, y_test = test\n",
    "\n",
    "# 資料前處理 - X 標準化\n",
    "x_train = preproc_x(x_train)\n",
    "x_test = preproc_x(x_test)\n",
    "\n",
    "# 資料前處理 -Y 轉成 onehot\n",
    "y_train = preproc_y(y_train)\n",
    "y_test = preproc_y(y_test)"
   ]
  },
  {
   "cell_type": "code",
   "execution_count": 5,
   "metadata": {},
   "outputs": [],
   "source": [
    "from keras.layers import BatchNormalization\n",
    "\n",
    "\"\"\"\n",
    "建立神經網路，並加入 BN layer\n",
    "\"\"\"\n",
    "def build_mlp(input_shape, output_units=10, num_neurons=[512, 256, 128]):\n",
    "    input_layer = keras.layers.Input(input_shape)\n",
    "    \n",
    "    for i, n_units in enumerate(num_neurons):\n",
    "        if i == 0:\n",
    "            x = keras.layers.Dense(units=n_units, \n",
    "                                   activation=\"relu\", \n",
    "                                   name=\"hidden_layer\"+str(i+1))(input_layer)\n",
    "            x = BatchNormalization()(x)\n",
    "        else:\n",
    "            x = keras.layers.Dense(units=n_units, \n",
    "                                   activation=\"relu\", \n",
    "                                   name=\"hidden_layer\"+str(i+1))(x)\n",
    "            x = BatchNormalization()(x)\n",
    "    \n",
    "    out = keras.layers.Dense(units=output_units, activation=\"softmax\", name=\"output\")(x)\n",
    "    \n",
    "    model = keras.models.Model(inputs=[input_layer], outputs=[out])\n",
    "    return model"
   ]
  },
  {
   "cell_type": "code",
   "execution_count": 6,
   "metadata": {},
   "outputs": [],
   "source": [
    "## 超參數設定\n",
    "LEARNING_RATE = 1e-3\n",
    "EPOCHS = 50\n",
    "BATCH_SIZE = 1024\n",
    "MOMENTUM = 0.95"
   ]
  },
  {
   "cell_type": "code",
   "execution_count": 7,
   "metadata": {},
   "outputs": [],
   "source": [
    "\"\"\"\n",
    "# 載入 Callbacks，撰寫一個 f1 score 的 callback function\n",
    "\"\"\"\n",
    "\n",
    "from keras.callbacks import Callback\n",
    "from sklearn.metrics import f1_score\n",
    "\n",
    "class f1sc(Callback):\n",
    "    def on_train_begin(self, epoch, logs = {}):\n",
    "        logs = logs or {}\n",
    "        record_items = [\"val_auc\", \"val_f1sc\", \"val_fp\", \"val_fn\", \"val_tp\", \"val_tn\"]\n",
    "        for i in record_items:\n",
    "            if i not in self.params['metrics']:\n",
    "                self.params['metrics'].append(i)\n",
    "    \n",
    "    def on_epoch_end(self, epoch, logs = {}, thres=0.5):\n",
    "        logs = logs or {}\n",
    "        y_true = self.validation_data[1].argmax(axis = 1)\n",
    "        y_pred = self.model.predict(self.validation_data[0])\n",
    "        y_pred = (y_pred[:, 1] >= thres) * 1\n",
    "        \n",
    "        logs[\"val_f1sc\"] = f1_score(y_true = y_true, y_pred = y_pred, average=\"weighted\")\n",
    "        \n",
    "log_f1sc = f1sc()"
   ]
  },
  {
   "cell_type": "code",
   "execution_count": 8,
   "metadata": {},
   "outputs": [
    {
     "name": "stderr",
     "output_type": "stream",
     "text": [
      "WARNING: Logging before flag parsing goes to stderr.\n",
      "W1015 23:45:28.455600  9456 deprecation_wrapper.py:119] From C:\\Coding\\Anaconda3\\envs\\tensorflow-gpu\\lib\\site-packages\\keras\\backend\\tensorflow_backend.py:74: The name tf.get_default_graph is deprecated. Please use tf.compat.v1.get_default_graph instead.\n",
      "\n",
      "W1015 23:45:28.470942  9456 deprecation_wrapper.py:119] From C:\\Coding\\Anaconda3\\envs\\tensorflow-gpu\\lib\\site-packages\\keras\\backend\\tensorflow_backend.py:517: The name tf.placeholder is deprecated. Please use tf.compat.v1.placeholder instead.\n",
      "\n",
      "W1015 23:45:28.473422  9456 deprecation_wrapper.py:119] From C:\\Coding\\Anaconda3\\envs\\tensorflow-gpu\\lib\\site-packages\\keras\\backend\\tensorflow_backend.py:4138: The name tf.random_uniform is deprecated. Please use tf.random.uniform instead.\n",
      "\n",
      "W1015 23:45:28.549349  9456 deprecation_wrapper.py:119] From C:\\Coding\\Anaconda3\\envs\\tensorflow-gpu\\lib\\site-packages\\keras\\backend\\tensorflow_backend.py:133: The name tf.placeholder_with_default is deprecated. Please use tf.compat.v1.placeholder_with_default instead.\n",
      "\n",
      "W1015 23:45:28.728400  9456 deprecation_wrapper.py:119] From C:\\Coding\\Anaconda3\\envs\\tensorflow-gpu\\lib\\site-packages\\keras\\optimizers.py:790: The name tf.train.Optimizer is deprecated. Please use tf.compat.v1.train.Optimizer instead.\n",
      "\n",
      "W1015 23:45:28.734855  9456 deprecation_wrapper.py:119] From C:\\Coding\\Anaconda3\\envs\\tensorflow-gpu\\lib\\site-packages\\keras\\backend\\tensorflow_backend.py:3295: The name tf.log is deprecated. Please use tf.math.log instead.\n",
      "\n",
      "W1015 23:45:28.830087  9456 deprecation.py:323] From C:\\Coding\\Anaconda3\\envs\\tensorflow-gpu\\lib\\site-packages\\tensorflow\\python\\ops\\math_grad.py:1250: add_dispatch_support.<locals>.wrapper (from tensorflow.python.ops.array_ops) is deprecated and will be removed in a future version.\n",
      "Instructions for updating:\n",
      "Use tf.where in 2.0, which has the same broadcast rule as np.where\n"
     ]
    },
    {
     "name": "stdout",
     "output_type": "stream",
     "text": [
      "_________________________________________________________________\n",
      "Layer (type)                 Output Shape              Param #   \n",
      "=================================================================\n",
      "input_1 (InputLayer)         (None, 3072)              0         \n",
      "_________________________________________________________________\n",
      "hidden_layer1 (Dense)        (None, 512)               1573376   \n",
      "_________________________________________________________________\n",
      "batch_normalization_1 (Batch (None, 512)               2048      \n",
      "_________________________________________________________________\n",
      "hidden_layer2 (Dense)        (None, 256)               131328    \n",
      "_________________________________________________________________\n",
      "batch_normalization_2 (Batch (None, 256)               1024      \n",
      "_________________________________________________________________\n",
      "hidden_layer3 (Dense)        (None, 128)               32896     \n",
      "_________________________________________________________________\n",
      "batch_normalization_3 (Batch (None, 128)               512       \n",
      "_________________________________________________________________\n",
      "output (Dense)               (None, 10)                1290      \n",
      "=================================================================\n",
      "Total params: 1,742,474\n",
      "Trainable params: 1,740,682\n",
      "Non-trainable params: 1,792\n",
      "_________________________________________________________________\n",
      "Train on 50000 samples, validate on 10000 samples\n",
      "Epoch 1/50\n",
      "50000/50000 [==============================] - 10s 196us/step - loss: 2.1992 - acc: 0.2644 - val_loss: 2.1336 - val_acc: 0.3208\n",
      "Epoch 2/50\n",
      " 2048/50000 [>.............................] - ETA: 4s - loss: 1.7912 - acc: 0.3853"
     ]
    },
    {
     "name": "stderr",
     "output_type": "stream",
     "text": [
      "C:\\Coding\\Anaconda3\\envs\\tensorflow-gpu\\lib\\site-packages\\sklearn\\metrics\\classification.py:1437: UndefinedMetricWarning: F-score is ill-defined and being set to 0.0 in labels with no predicted samples.\n",
      "  'precision', 'predicted', average, warn_for)\n"
     ]
    },
    {
     "name": "stdout",
     "output_type": "stream",
     "text": [
      "50000/50000 [==============================] - 9s 183us/step - loss: 1.7494 - acc: 0.3887 - val_loss: 1.8155 - val_acc: 0.3835\n",
      "Epoch 3/50\n",
      "50000/50000 [==============================] - 9s 185us/step - loss: 1.6159 - acc: 0.4352 - val_loss: 1.6991 - val_acc: 0.4122\n",
      "Epoch 4/50\n",
      "50000/50000 [==============================] - 10s 194us/step - loss: 1.5390 - acc: 0.4636 - val_loss: 1.6294 - val_acc: 0.4297\n",
      "Epoch 5/50\n",
      "50000/50000 [==============================] - 9s 176us/step - loss: 1.4819 - acc: 0.4831 - val_loss: 1.5972 - val_acc: 0.4382\n",
      "Epoch 6/50\n",
      "50000/50000 [==============================] - 8s 150us/step - loss: 1.4356 - acc: 0.4999 - val_loss: 1.5670 - val_acc: 0.4504\n",
      "Epoch 7/50\n",
      "50000/50000 [==============================] - 8s 153us/step - loss: 1.3952 - acc: 0.5133 - val_loss: 1.5561 - val_acc: 0.4573\n",
      "Epoch 8/50\n",
      "50000/50000 [==============================] - 9s 175us/step - loss: 1.3606 - acc: 0.5274 - val_loss: 1.5391 - val_acc: 0.4621\n",
      "Epoch 9/50\n",
      "50000/50000 [==============================] - 9s 171us/step - loss: 1.3275 - acc: 0.5382 - val_loss: 1.5160 - val_acc: 0.4677\n",
      "Epoch 10/50\n",
      "50000/50000 [==============================] - 9s 170us/step - loss: 1.2971 - acc: 0.5503 - val_loss: 1.5126 - val_acc: 0.4631\n",
      "Epoch 11/50\n",
      "50000/50000 [==============================] - 8s 156us/step - loss: 1.2688 - acc: 0.5609 - val_loss: 1.5176 - val_acc: 0.4622\n",
      "Epoch 12/50\n",
      "50000/50000 [==============================] - 10s 192us/step - loss: 1.2425 - acc: 0.5696 - val_loss: 1.4835 - val_acc: 0.4739\n",
      "Epoch 13/50\n",
      "50000/50000 [==============================] - 10s 191us/step - loss: 1.2156 - acc: 0.5807 - val_loss: 1.4829 - val_acc: 0.4751\n",
      "Epoch 14/50\n",
      "50000/50000 [==============================] - 10s 191us/step - loss: 1.1902 - acc: 0.5898 - val_loss: 1.4892 - val_acc: 0.4773\n",
      "Epoch 15/50\n",
      "50000/50000 [==============================] - 8s 169us/step - loss: 1.1679 - acc: 0.5984 - val_loss: 1.4597 - val_acc: 0.4858\n",
      "Epoch 16/50\n",
      "50000/50000 [==============================] - 6s 121us/step - loss: 1.1443 - acc: 0.6061 - val_loss: 1.4694 - val_acc: 0.4799\n",
      "Epoch 17/50\n",
      "50000/50000 [==============================] - 9s 172us/step - loss: 1.1208 - acc: 0.6167 - val_loss: 1.4819 - val_acc: 0.4785\n",
      "Epoch 18/50\n",
      "50000/50000 [==============================] - 9s 180us/step - loss: 1.0974 - acc: 0.6254 - val_loss: 1.4517 - val_acc: 0.4929\n",
      "Epoch 19/50\n",
      "50000/50000 [==============================] - 9s 172us/step - loss: 1.0761 - acc: 0.6335 - val_loss: 1.4512 - val_acc: 0.4889\n",
      "Epoch 20/50\n",
      "50000/50000 [==============================] - 9s 184us/step - loss: 1.0531 - acc: 0.6431 - val_loss: 1.4624 - val_acc: 0.4877\n",
      "Epoch 21/50\n",
      "50000/50000 [==============================] - 7s 131us/step - loss: 1.0326 - acc: 0.6503 - val_loss: 1.4602 - val_acc: 0.4928\n",
      "Epoch 22/50\n",
      "50000/50000 [==============================] - 6s 123us/step - loss: 1.0101 - acc: 0.6596 - val_loss: 1.4645 - val_acc: 0.4956\n",
      "Epoch 23/50\n",
      "50000/50000 [==============================] - 6s 119us/step - loss: 0.9894 - acc: 0.6684 - val_loss: 1.4702 - val_acc: 0.4912\n",
      "Epoch 24/50\n",
      "50000/50000 [==============================] - 7s 148us/step - loss: 0.9694 - acc: 0.6738 - val_loss: 1.4577 - val_acc: 0.4956\n",
      "Epoch 25/50\n",
      "50000/50000 [==============================] - 7s 134us/step - loss: 0.9474 - acc: 0.6844 - val_loss: 1.4639 - val_acc: 0.4944\n",
      "Epoch 26/50\n",
      "50000/50000 [==============================] - 6s 126us/step - loss: 0.9263 - acc: 0.6920 - val_loss: 1.4817 - val_acc: 0.4887\n",
      "Epoch 27/50\n",
      "50000/50000 [==============================] - 6s 126us/step - loss: 0.9047 - acc: 0.7010 - val_loss: 1.4706 - val_acc: 0.4960\n",
      "Epoch 28/50\n",
      "50000/50000 [==============================] - 6s 126us/step - loss: 0.8845 - acc: 0.7069 - val_loss: 1.4910 - val_acc: 0.4904\n",
      "Epoch 29/50\n",
      "50000/50000 [==============================] - 9s 176us/step - loss: 0.8653 - acc: 0.7161 - val_loss: 1.4810 - val_acc: 0.4946\n",
      "Epoch 30/50\n",
      "50000/50000 [==============================] - 8s 167us/step - loss: 0.8459 - acc: 0.7241 - val_loss: 1.4779 - val_acc: 0.5007\n",
      "Epoch 31/50\n",
      "50000/50000 [==============================] - 9s 170us/step - loss: 0.8250 - acc: 0.7305 - val_loss: 1.5071 - val_acc: 0.4906\n",
      "Epoch 32/50\n",
      "50000/50000 [==============================] - 9s 176us/step - loss: 0.8042 - acc: 0.7410 - val_loss: 1.5111 - val_acc: 0.4917\n",
      "Epoch 33/50\n",
      "50000/50000 [==============================] - 7s 130us/step - loss: 0.7860 - acc: 0.7476 - val_loss: 1.4939 - val_acc: 0.4960\n",
      "Epoch 34/50\n",
      "50000/50000 [==============================] - 7s 148us/step - loss: 0.7684 - acc: 0.7530 - val_loss: 1.5283 - val_acc: 0.4924\n",
      "Epoch 35/50\n",
      "50000/50000 [==============================] - 7s 141us/step - loss: 0.7481 - acc: 0.7607 - val_loss: 1.5234 - val_acc: 0.4952\n",
      "Epoch 36/50\n",
      "50000/50000 [==============================] - 7s 140us/step - loss: 0.7283 - acc: 0.7701 - val_loss: 1.5283 - val_acc: 0.4927\n",
      "Epoch 37/50\n",
      "50000/50000 [==============================] - 7s 146us/step - loss: 0.7100 - acc: 0.7787 - val_loss: 1.5377 - val_acc: 0.4904\n",
      "Epoch 38/50\n",
      "50000/50000 [==============================] - 7s 144us/step - loss: 0.6912 - acc: 0.7843 - val_loss: 1.5510 - val_acc: 0.4940\n",
      "Epoch 39/50\n",
      "50000/50000 [==============================] - 10s 200us/step - loss: 0.6748 - acc: 0.7913 - val_loss: 1.5541 - val_acc: 0.4945\n",
      "Epoch 40/50\n",
      "50000/50000 [==============================] - 10s 195us/step - loss: 0.6542 - acc: 0.7983 - val_loss: 1.5606 - val_acc: 0.4961\n",
      "Epoch 41/50\n",
      "50000/50000 [==============================] - 10s 194us/step - loss: 0.6367 - acc: 0.8057 - val_loss: 1.5832 - val_acc: 0.4978\n",
      "Epoch 42/50\n",
      "50000/50000 [==============================] - 9s 188us/step - loss: 0.6201 - acc: 0.8127 - val_loss: 1.5977 - val_acc: 0.4895\n",
      "Epoch 43/50\n",
      "50000/50000 [==============================] - 8s 159us/step - loss: 0.6009 - acc: 0.8199 - val_loss: 1.6213 - val_acc: 0.4862\n",
      "Epoch 44/50\n",
      "50000/50000 [==============================] - 7s 147us/step - loss: 0.5833 - acc: 0.8256 - val_loss: 1.6010 - val_acc: 0.4917\n",
      "Epoch 45/50\n",
      "50000/50000 [==============================] - 8s 170us/step - loss: 0.5649 - acc: 0.8342 - val_loss: 1.6157 - val_acc: 0.4921\n",
      "Epoch 46/50\n",
      "50000/50000 [==============================] - 10s 197us/step - loss: 0.5487 - acc: 0.8406 - val_loss: 1.6518 - val_acc: 0.4851\n",
      "Epoch 47/50\n",
      "50000/50000 [==============================] - 8s 152us/step - loss: 0.5316 - acc: 0.8477 - val_loss: 1.6477 - val_acc: 0.4881\n",
      "Epoch 48/50\n",
      "50000/50000 [==============================] - 7s 144us/step - loss: 0.5150 - acc: 0.8543 - val_loss: 1.6668 - val_acc: 0.4882\n",
      "Epoch 49/50\n",
      "50000/50000 [==============================] - 9s 179us/step - loss: 0.4979 - acc: 0.8603 - val_loss: 1.6756 - val_acc: 0.4824\n",
      "Epoch 50/50\n",
      "50000/50000 [==============================] - 9s 190us/step - loss: 0.4833 - acc: 0.8649 - val_loss: 1.6896 - val_acc: 0.4886\n"
     ]
    }
   ],
   "source": [
    "model = build_mlp(input_shape=x_train.shape[1:])\n",
    "model.summary()\n",
    "optimizer = keras.optimizers.SGD(lr=LEARNING_RATE, nesterov=True, momentum=MOMENTUM)\n",
    "model.compile(loss=\"categorical_crossentropy\", metrics=[\"accuracy\"], optimizer=optimizer)\n",
    "\n",
    "model.fit(x_train, y_train, \n",
    "          epochs=EPOCHS, \n",
    "          batch_size=BATCH_SIZE, \n",
    "          validation_data=(x_test, y_test), \n",
    "          shuffle=True,\n",
    "          callbacks=[log_f1sc]\n",
    "         )\n",
    "\n",
    "# Collect results\n",
    "train_loss = model.history.history[\"loss\"]\n",
    "valid_loss = model.history.history[\"val_loss\"]\n",
    "train_acc = model.history.history[\"acc\"]\n",
    "valid_acc = model.history.history[\"val_acc\"]\n",
    "\n",
    "# 在訓練後，將 f1sc 紀錄調出\n",
    "valid_f1sc = model.history.history['val_f1sc']"
   ]
  },
  {
   "cell_type": "code",
   "execution_count": 9,
   "metadata": {},
   "outputs": [
    {
     "data": {
      "image/png": "[encoded data removed]",
      "text/plain": [
       "<Figure size 432x288 with 1 Axes>"
      ]
     },
     "metadata": {
      "needs_background": "light"
     },
     "output_type": "display_data"
    },
    {
     "data": {
      "image/png": "[encoded data removed]",
      "text/plain": [
       "<Figure size 432x288 with 1 Axes>"
      ]
     },
     "metadata": {
      "needs_background": "light"
     },
     "output_type": "display_data"
    },
    {
     "data": {
      "image/png": "[encoded data removed]",
      "text/plain": [
       "<Figure size 432x288 with 1 Axes>"
      ]
     },
     "metadata": {
      "needs_background": "light"
     },
     "output_type": "display_data"
    }
   ],
   "source": [
    "import matplotlib.pyplot as plt\n",
    "%matplotlib inline\n",
    "\n",
    "plt.plot(range(len(train_loss)), train_loss, label=\"train loss\")\n",
    "plt.plot(range(len(valid_loss)), valid_loss, label=\"valid loss\")\n",
    "plt.legend()\n",
    "plt.title(\"Loss\")\n",
    "plt.show()\n",
    "\n",
    "plt.plot(range(len(train_acc)), train_acc, label=\"train accuracy\")\n",
    "plt.plot(range(len(valid_acc)), valid_acc, label=\"valid accuracy\")\n",
    "plt.legend()\n",
    "plt.title(\"Accuracy\")\n",
    "plt.show()\n",
    "\n",
    "plt.plot(range(len(valid_f1sc)), valid_f1sc, label=\"valid f1-score\")\n",
    "plt.legend()\n",
    "plt.title(\"F1-score\")\n",
    "plt.show()"
   ]
  },
  {
   "cell_type": "code",
   "execution_count": null,
   "metadata": {},
   "outputs": [],
   "source": []
  }
 ],
 "metadata": {
  "kernelspec": {
   "display_name": "Python (tensorflow-gpu)",
   "language": "python",
   "name": "tensorflow-gpu"
  },
  "language_info": {
   "codemirror_mode": {
    "name": "ipython",
    "version": 3
   },
   "file_extension": ".py",
   "mimetype": "text/x-python",
   "name": "python",
   "nbconvert_exporter": "python",
   "pygments_lexer": "ipython3",
   "version": "3.6.8"
  }
 },
 "nbformat": 4,
 "nbformat_minor": 2
}
