{
 "cells": [
  {
   "cell_type": "markdown",
   "metadata": {},
   "source": [
    "# 範例重點\n",
    "學會從 Keras 內建函式取得資料  \n",
    "能夠建立簡易的深度學習模型  \n",
    "觀察並了解 Overfit 現象"
   ]
  },
  {
   "cell_type": "code",
   "execution_count": 8,
   "metadata": {},
   "outputs": [],
   "source": [
    "import os\n",
    "import keras\n",
    "\n",
    "# 本範例不需使用 GPU, 將 GPU 設定為 \"無\"\n",
    "os.environ[\"CUDA_VISIBLE_DEVICES\"] = \"\""
   ]
  },
  {
   "cell_type": "code",
   "execution_count": 2,
   "metadata": {},
   "outputs": [],
   "source": [
    "# 從 Keras 的內建功能中，取得 train 與 test 資料集\n",
    "train, test = keras.datasets.cifar10.load_data()"
   ]
  },
  {
   "cell_type": "code",
   "execution_count": 3,
   "metadata": {},
   "outputs": [],
   "source": [
    "# 將 X 與 Y 獨立放進變數\n",
    "x_train, y_train = train\n",
    "x_test, y_test = test\n",
    "# 資料前處理 - 標準化\n",
    "x_train = x_train / 255.\n",
    "x_test = x_test / 255.\n",
    "\n",
    "# 將資料從圖形 (RGB) 轉為向量 (Single Vector)\n",
    "x_train = x_train.reshape((len(x_train), -1))\n",
    "x_test = x_test.reshape((len(x_test), -1))\n",
    "\n",
    "# 將目標轉為 one-hot encoding\n",
    "y_train = keras.utils.to_categorical(y_train, num_classes=10)\n",
    "y_test = keras.utils.to_categorical(y_test, num_classes=10)"
   ]
  },
  {
   "cell_type": "code",
   "execution_count": 4,
   "metadata": {},
   "outputs": [],
   "source": [
    "# 建立一個有三層隱藏層之神經網路\n",
    "def build_mlp():\n",
    "    input_layer = keras.layers.Input([x_train.shape[-1]])\n",
    "    x = keras.layers.Dense(units=512, activation=\"relu\")(input_layer)\n",
    "    x = keras.layers.Dense(units=256, activation=\"relu\")(x)\n",
    "    x = keras.layers.Dense(units=128, activation=\"relu\")(x)\n",
    "    out = keras.layers.Dense(units=10, activation=\"softmax\")(x)\n",
    "    \n",
    "    model = keras.models.Model(inputs=[input_layer], outputs=[out])\n",
    "    return model"
   ]
  },
  {
   "cell_type": "code",
   "execution_count": 5,
   "metadata": {},
   "outputs": [
    {
     "name": "stderr",
     "output_type": "stream",
     "text": [
      "WARNING: Logging before flag parsing goes to stderr.\n",
      "W0824 15:03:59.065100  7820 deprecation_wrapper.py:119] From C:\\Coding\\Anaconda3\\envs\\tensorflow-gpu\\lib\\site-packages\\keras\\backend\\tensorflow_backend.py:74: The name tf.get_default_graph is deprecated. Please use tf.compat.v1.get_default_graph instead.\n",
      "\n",
      "W0824 15:03:59.105267  7820 deprecation_wrapper.py:119] From C:\\Coding\\Anaconda3\\envs\\tensorflow-gpu\\lib\\site-packages\\keras\\backend\\tensorflow_backend.py:517: The name tf.placeholder is deprecated. Please use tf.compat.v1.placeholder instead.\n",
      "\n",
      "W0824 15:03:59.113283  7820 deprecation_wrapper.py:119] From C:\\Coding\\Anaconda3\\envs\\tensorflow-gpu\\lib\\site-packages\\keras\\backend\\tensorflow_backend.py:4138: The name tf.random_uniform is deprecated. Please use tf.random.uniform instead.\n",
      "\n",
      "W0824 15:03:59.192752  7820 deprecation_wrapper.py:119] From C:\\Coding\\Anaconda3\\envs\\tensorflow-gpu\\lib\\site-packages\\keras\\optimizers.py:790: The name tf.train.Optimizer is deprecated. Please use tf.compat.v1.train.Optimizer instead.\n",
      "\n",
      "W0824 15:03:59.200789  7820 deprecation_wrapper.py:119] From C:\\Coding\\Anaconda3\\envs\\tensorflow-gpu\\lib\\site-packages\\keras\\backend\\tensorflow_backend.py:3295: The name tf.log is deprecated. Please use tf.math.log instead.\n",
      "\n"
     ]
    },
    {
     "name": "stdout",
     "output_type": "stream",
     "text": [
      "_________________________________________________________________\n",
      "Layer (type)                 Output Shape              Param #   \n",
      "=================================================================\n",
      "input_1 (InputLayer)         (None, 3072)              0         \n",
      "_________________________________________________________________\n",
      "dense_1 (Dense)              (None, 512)               1573376   \n",
      "_________________________________________________________________\n",
      "dense_2 (Dense)              (None, 256)               131328    \n",
      "_________________________________________________________________\n",
      "dense_3 (Dense)              (None, 128)               32896     \n",
      "_________________________________________________________________\n",
      "dense_4 (Dense)              (None, 10)                1290      \n",
      "=================================================================\n",
      "Total params: 1,738,890\n",
      "Trainable params: 1,738,890\n",
      "Non-trainable params: 0\n",
      "_________________________________________________________________\n"
     ]
    }
   ],
   "source": [
    "model = build_mlp()\n",
    "# 用 Keras 內建方法檢視模型各層參數量\n",
    "model.summary()\n",
    "\n",
    "optimizer = keras.optimizers.Adam(lr=0.001)\n",
    "model.compile(loss=\"categorical_crossentropy\", metrics=[\"accuracy\"], optimizer=optimizer)"
   ]
  },
  {
   "cell_type": "code",
   "execution_count": 6,
   "metadata": {},
   "outputs": [
    {
     "name": "stderr",
     "output_type": "stream",
     "text": [
      "W0824 15:04:16.285082  7820 deprecation.py:323] From C:\\Coding\\Anaconda3\\envs\\tensorflow-gpu\\lib\\site-packages\\tensorflow\\python\\ops\\math_grad.py:1250: add_dispatch_support.<locals>.wrapper (from tensorflow.python.ops.array_ops) is deprecated and will be removed in a future version.\n",
      "Instructions for updating:\n",
      "Use tf.where in 2.0, which has the same broadcast rule as np.where\n",
      "W0824 15:04:16.337031  7820 deprecation_wrapper.py:119] From C:\\Coding\\Anaconda3\\envs\\tensorflow-gpu\\lib\\site-packages\\keras\\backend\\tensorflow_backend.py:986: The name tf.assign_add is deprecated. Please use tf.compat.v1.assign_add instead.\n",
      "\n"
     ]
    },
    {
     "name": "stdout",
     "output_type": "stream",
     "text": [
      "Train on 50000 samples, validate on 10000 samples\n",
      "Epoch 1/100\n",
      "50000/50000 [==============================] - 13s 259us/step - loss: 1.9457 - acc: 0.2969 - val_loss: 1.7758 - val_acc: 0.3654\n",
      "Epoch 2/100\n",
      "50000/50000 [==============================] - 6s 130us/step - loss: 1.7173 - acc: 0.3858 - val_loss: 1.6479 - val_acc: 0.4113\n",
      "Epoch 3/100\n",
      "50000/50000 [==============================] - 6s 127us/step - loss: 1.6128 - acc: 0.4244 - val_loss: 1.6194 - val_acc: 0.4269\n",
      "Epoch 4/100\n",
      "50000/50000 [==============================] - 6s 128us/step - loss: 1.5538 - acc: 0.4451 - val_loss: 1.5572 - val_acc: 0.4437\n",
      "Epoch 5/100\n",
      "50000/50000 [==============================] - 6s 126us/step - loss: 1.5011 - acc: 0.4660 - val_loss: 1.5223 - val_acc: 0.4566\n",
      "Epoch 6/100\n",
      "50000/50000 [==============================] - 6s 126us/step - loss: 1.4656 - acc: 0.4779 - val_loss: 1.4814 - val_acc: 0.4717\n",
      "Epoch 7/100\n",
      "50000/50000 [==============================] - 6s 125us/step - loss: 1.4319 - acc: 0.4885 - val_loss: 1.5230 - val_acc: 0.4570\n",
      "Epoch 8/100\n",
      "50000/50000 [==============================] - 6s 126us/step - loss: 1.4082 - acc: 0.4993 - val_loss: 1.4286 - val_acc: 0.4963\n",
      "Epoch 9/100\n",
      "50000/50000 [==============================] - 6s 126us/step - loss: 1.3769 - acc: 0.5115 - val_loss: 1.4710 - val_acc: 0.4731\n",
      "Epoch 10/100\n",
      "50000/50000 [==============================] - 6s 126us/step - loss: 1.3539 - acc: 0.5181 - val_loss: 1.4360 - val_acc: 0.4904\n",
      "Epoch 11/100\n",
      "50000/50000 [==============================] - 6s 125us/step - loss: 1.3212 - acc: 0.5308 - val_loss: 1.4146 - val_acc: 0.4944\n",
      "Epoch 12/100\n",
      "50000/50000 [==============================] - 6s 125us/step - loss: 1.2962 - acc: 0.5402 - val_loss: 1.3940 - val_acc: 0.5086\n",
      "Epoch 13/100\n",
      "50000/50000 [==============================] - 6s 128us/step - loss: 1.2765 - acc: 0.5460 - val_loss: 1.3766 - val_acc: 0.5163\n",
      "Epoch 14/100\n",
      "50000/50000 [==============================] - 6s 126us/step - loss: 1.2551 - acc: 0.5528 - val_loss: 1.4110 - val_acc: 0.5047\n",
      "Epoch 15/100\n",
      "50000/50000 [==============================] - 6s 126us/step - loss: 1.2358 - acc: 0.5588 - val_loss: 1.3620 - val_acc: 0.5183\n",
      "Epoch 16/100\n",
      "50000/50000 [==============================] - 6s 126us/step - loss: 1.2011 - acc: 0.5713 - val_loss: 1.3581 - val_acc: 0.5178\n",
      "Epoch 17/100\n",
      "50000/50000 [==============================] - 6s 126us/step - loss: 1.1791 - acc: 0.5785 - val_loss: 1.4034 - val_acc: 0.4993\n",
      "Epoch 18/100\n",
      "50000/50000 [==============================] - 6s 126us/step - loss: 1.1769 - acc: 0.5801 - val_loss: 1.3701 - val_acc: 0.5168\n",
      "Epoch 19/100\n",
      "50000/50000 [==============================] - 6s 126us/step - loss: 1.1458 - acc: 0.5916 - val_loss: 1.3647 - val_acc: 0.5253\n",
      "Epoch 20/100\n",
      "50000/50000 [==============================] - 6s 126us/step - loss: 1.1254 - acc: 0.5961 - val_loss: 1.3798 - val_acc: 0.5249\n",
      "Epoch 21/100\n",
      "50000/50000 [==============================] - 6s 126us/step - loss: 1.1102 - acc: 0.6019 - val_loss: 1.3994 - val_acc: 0.5125\n",
      "Epoch 22/100\n",
      "50000/50000 [==============================] - 6s 126us/step - loss: 1.0913 - acc: 0.6100 - val_loss: 1.4330 - val_acc: 0.5042\n",
      "Epoch 23/100\n",
      "50000/50000 [==============================] - 6s 126us/step - loss: 1.0676 - acc: 0.6166 - val_loss: 1.3946 - val_acc: 0.5198\n",
      "Epoch 24/100\n",
      "50000/50000 [==============================] - 6s 126us/step - loss: 1.0508 - acc: 0.6252 - val_loss: 1.3987 - val_acc: 0.5228\n",
      "Epoch 25/100\n",
      "50000/50000 [==============================] - 6s 126us/step - loss: 1.0330 - acc: 0.6347 - val_loss: 1.3676 - val_acc: 0.5295\n",
      "Epoch 26/100\n",
      "50000/50000 [==============================] - 6s 126us/step - loss: 1.0081 - acc: 0.6388 - val_loss: 1.4304 - val_acc: 0.5169\n",
      "Epoch 27/100\n",
      "50000/50000 [==============================] - 6s 126us/step - loss: 0.9982 - acc: 0.6404 - val_loss: 1.3872 - val_acc: 0.5262\n",
      "Epoch 28/100\n",
      "50000/50000 [==============================] - 6s 126us/step - loss: 0.9797 - acc: 0.6478 - val_loss: 1.4244 - val_acc: 0.5203\n",
      "Epoch 29/100\n",
      "50000/50000 [==============================] - 6s 126us/step - loss: 0.9587 - acc: 0.6560 - val_loss: 1.4180 - val_acc: 0.5233\n",
      "Epoch 30/100\n",
      "50000/50000 [==============================] - 6s 126us/step - loss: 0.9385 - acc: 0.6630 - val_loss: 1.4340 - val_acc: 0.5248\n",
      "Epoch 31/100\n",
      "50000/50000 [==============================] - 6s 126us/step - loss: 0.9268 - acc: 0.6690 - val_loss: 1.4487 - val_acc: 0.5215\n",
      "Epoch 32/100\n",
      "50000/50000 [==============================] - 6s 127us/step - loss: 0.9073 - acc: 0.6729 - val_loss: 1.5115 - val_acc: 0.5181\n",
      "Epoch 33/100\n",
      "50000/50000 [==============================] - 6s 126us/step - loss: 0.8790 - acc: 0.6875 - val_loss: 1.4838 - val_acc: 0.5218\n",
      "Epoch 34/100\n",
      "50000/50000 [==============================] - 6s 127us/step - loss: 0.8714 - acc: 0.6871 - val_loss: 1.5062 - val_acc: 0.5174\n",
      "Epoch 35/100\n",
      "50000/50000 [==============================] - 7s 131us/step - loss: 0.8625 - acc: 0.6913 - val_loss: 1.4968 - val_acc: 0.5204\n",
      "Epoch 36/100\n",
      "50000/50000 [==============================] - 6s 127us/step - loss: 0.8522 - acc: 0.6948 - val_loss: 1.5008 - val_acc: 0.5202\n",
      "Epoch 37/100\n",
      "50000/50000 [==============================] - 6s 126us/step - loss: 0.8217 - acc: 0.7045 - val_loss: 1.5242 - val_acc: 0.5170\n",
      "Epoch 38/100\n",
      "50000/50000 [==============================] - 6s 126us/step - loss: 0.8101 - acc: 0.7091 - val_loss: 1.5550 - val_acc: 0.5207\n",
      "Epoch 39/100\n",
      "50000/50000 [==============================] - 6s 127us/step - loss: 0.7935 - acc: 0.7142 - val_loss: 1.6203 - val_acc: 0.5145\n",
      "Epoch 40/100\n",
      "50000/50000 [==============================] - 6s 129us/step - loss: 0.7787 - acc: 0.7198 - val_loss: 1.5930 - val_acc: 0.5218\n",
      "Epoch 41/100\n",
      "50000/50000 [==============================] - 6s 125us/step - loss: 0.7607 - acc: 0.7280 - val_loss: 1.5830 - val_acc: 0.5204\n",
      "Epoch 42/100\n",
      "50000/50000 [==============================] - 6s 127us/step - loss: 0.7448 - acc: 0.7332 - val_loss: 1.6176 - val_acc: 0.5200\n",
      "Epoch 43/100\n",
      "50000/50000 [==============================] - 6s 127us/step - loss: 0.7335 - acc: 0.7368 - val_loss: 1.5982 - val_acc: 0.5227\n",
      "Epoch 44/100\n",
      "50000/50000 [==============================] - 6s 127us/step - loss: 0.7075 - acc: 0.7438 - val_loss: 1.6351 - val_acc: 0.5180\n",
      "Epoch 45/100\n",
      "50000/50000 [==============================] - 6s 126us/step - loss: 0.7087 - acc: 0.7435 - val_loss: 1.6760 - val_acc: 0.5224\n",
      "Epoch 46/100\n",
      "50000/50000 [==============================] - 6s 126us/step - loss: 0.6895 - acc: 0.7513 - val_loss: 1.6924 - val_acc: 0.5174\n",
      "Epoch 47/100\n",
      "50000/50000 [==============================] - 6s 126us/step - loss: 0.6830 - acc: 0.7545 - val_loss: 1.6961 - val_acc: 0.5226\n",
      "Epoch 48/100\n",
      "50000/50000 [==============================] - 6s 126us/step - loss: 0.6666 - acc: 0.7604 - val_loss: 1.7499 - val_acc: 0.5152\n",
      "Epoch 49/100\n",
      "50000/50000 [==============================] - 6s 126us/step - loss: 0.6553 - acc: 0.7655 - val_loss: 1.7367 - val_acc: 0.5107\n",
      "Epoch 50/100\n",
      "50000/50000 [==============================] - 6s 127us/step - loss: 0.6487 - acc: 0.7684 - val_loss: 1.7907 - val_acc: 0.5166\n",
      "Epoch 51/100\n",
      "50000/50000 [==============================] - 6s 128us/step - loss: 0.6318 - acc: 0.7740 - val_loss: 1.8349 - val_acc: 0.5167\n",
      "Epoch 52/100\n",
      "50000/50000 [==============================] - 6s 126us/step - loss: 0.6217 - acc: 0.7764 - val_loss: 1.8232 - val_acc: 0.5157\n",
      "Epoch 53/100\n",
      "50000/50000 [==============================] - 6s 127us/step - loss: 0.6140 - acc: 0.7802 - val_loss: 1.8409 - val_acc: 0.5164\n",
      "Epoch 54/100\n",
      "50000/50000 [==============================] - 6s 126us/step - loss: 0.5976 - acc: 0.7848 - val_loss: 1.8609 - val_acc: 0.5169\n",
      "Epoch 55/100\n",
      "50000/50000 [==============================] - 6s 127us/step - loss: 0.5814 - acc: 0.7892 - val_loss: 1.9050 - val_acc: 0.5182\n",
      "Epoch 56/100\n",
      "50000/50000 [==============================] - 6s 126us/step - loss: 0.5721 - acc: 0.7934 - val_loss: 1.9277 - val_acc: 0.5153\n",
      "Epoch 57/100\n",
      "50000/50000 [==============================] - 6s 127us/step - loss: 0.5539 - acc: 0.8015 - val_loss: 1.9674 - val_acc: 0.5143\n",
      "Epoch 58/100\n",
      "50000/50000 [==============================] - 6s 127us/step - loss: 0.5405 - acc: 0.8065 - val_loss: 1.9966 - val_acc: 0.5130\n",
      "Epoch 59/100\n"
     ]
    },
    {
     "name": "stdout",
     "output_type": "stream",
     "text": [
      "50000/50000 [==============================] - 6s 126us/step - loss: 0.5326 - acc: 0.8085 - val_loss: 1.9595 - val_acc: 0.5182\n",
      "Epoch 60/100\n",
      "50000/50000 [==============================] - 6s 126us/step - loss: 0.5261 - acc: 0.8119 - val_loss: 2.0871 - val_acc: 0.5186\n",
      "Epoch 61/100\n",
      "50000/50000 [==============================] - 6s 126us/step - loss: 0.5160 - acc: 0.8152 - val_loss: 2.0077 - val_acc: 0.5182\n",
      "Epoch 62/100\n",
      "50000/50000 [==============================] - 6s 125us/step - loss: 0.5065 - acc: 0.8191 - val_loss: 2.0331 - val_acc: 0.5167\n",
      "Epoch 63/100\n",
      "50000/50000 [==============================] - 6s 125us/step - loss: 0.5028 - acc: 0.8170 - val_loss: 2.0664 - val_acc: 0.5147\n",
      "Epoch 64/100\n",
      "50000/50000 [==============================] - 6s 125us/step - loss: 0.4882 - acc: 0.8267 - val_loss: 2.2244 - val_acc: 0.5020\n",
      "Epoch 65/100\n",
      "50000/50000 [==============================] - 6s 125us/step - loss: 0.4766 - acc: 0.8292 - val_loss: 2.1456 - val_acc: 0.5124\n",
      "Epoch 66/100\n",
      "50000/50000 [==============================] - 6s 126us/step - loss: 0.4594 - acc: 0.8367 - val_loss: 2.1924 - val_acc: 0.5113\n",
      "Epoch 67/100\n",
      "50000/50000 [==============================] - 6s 125us/step - loss: 0.4688 - acc: 0.8319 - val_loss: 2.1550 - val_acc: 0.5165\n",
      "Epoch 68/100\n",
      "50000/50000 [==============================] - 6s 125us/step - loss: 0.4494 - acc: 0.8374 - val_loss: 2.3294 - val_acc: 0.5089\n",
      "Epoch 69/100\n",
      "50000/50000 [==============================] - 6s 125us/step - loss: 0.4483 - acc: 0.8383 - val_loss: 2.2768 - val_acc: 0.5076\n",
      "Epoch 70/100\n",
      "50000/50000 [==============================] - 6s 125us/step - loss: 0.4235 - acc: 0.8484 - val_loss: 2.3644 - val_acc: 0.5082\n",
      "Epoch 71/100\n",
      "50000/50000 [==============================] - 6s 125us/step - loss: 0.4298 - acc: 0.8454 - val_loss: 2.3365 - val_acc: 0.5075\n",
      "Epoch 72/100\n",
      "50000/50000 [==============================] - 6s 126us/step - loss: 0.4310 - acc: 0.8452 - val_loss: 2.4425 - val_acc: 0.5013\n",
      "Epoch 73/100\n",
      "50000/50000 [==============================] - 6s 129us/step - loss: 0.4111 - acc: 0.8539 - val_loss: 2.3697 - val_acc: 0.5059\n",
      "Epoch 74/100\n",
      "50000/50000 [==============================] - 6s 128us/step - loss: 0.4010 - acc: 0.8558 - val_loss: 2.5018 - val_acc: 0.5054\n",
      "Epoch 75/100\n",
      "50000/50000 [==============================] - 6s 126us/step - loss: 0.4146 - acc: 0.8518 - val_loss: 2.4017 - val_acc: 0.5038\n",
      "Epoch 76/100\n",
      "50000/50000 [==============================] - 6s 126us/step - loss: 0.4001 - acc: 0.8556 - val_loss: 2.6006 - val_acc: 0.5036\n",
      "Epoch 77/100\n",
      "50000/50000 [==============================] - 6s 126us/step - loss: 0.4053 - acc: 0.8534 - val_loss: 2.5532 - val_acc: 0.4980\n",
      "Epoch 78/100\n",
      "50000/50000 [==============================] - 6s 126us/step - loss: 0.3908 - acc: 0.8596 - val_loss: 2.5651 - val_acc: 0.5134\n",
      "Epoch 79/100\n",
      "50000/50000 [==============================] - 6s 126us/step - loss: 0.3681 - acc: 0.8679 - val_loss: 2.6796 - val_acc: 0.5031\n",
      "Epoch 80/100\n",
      "50000/50000 [==============================] - 6s 127us/step - loss: 0.3881 - acc: 0.8596 - val_loss: 2.6058 - val_acc: 0.5045\n",
      "Epoch 81/100\n",
      "50000/50000 [==============================] - 6s 126us/step - loss: 0.3569 - acc: 0.8722 - val_loss: 2.6397 - val_acc: 0.5069\n",
      "Epoch 82/100\n",
      "50000/50000 [==============================] - 6s 126us/step - loss: 0.3496 - acc: 0.8749 - val_loss: 2.7840 - val_acc: 0.4956\n",
      "Epoch 83/100\n",
      "50000/50000 [==============================] - 6s 128us/step - loss: 0.3764 - acc: 0.8653 - val_loss: 2.6351 - val_acc: 0.5060\n",
      "Epoch 84/100\n",
      "50000/50000 [==============================] - 6s 126us/step - loss: 0.3474 - acc: 0.8735 - val_loss: 2.7236 - val_acc: 0.5025\n",
      "Epoch 85/100\n",
      "50000/50000 [==============================] - 6s 126us/step - loss: 0.3707 - acc: 0.8676 - val_loss: 2.6581 - val_acc: 0.5009\n",
      "Epoch 86/100\n",
      "50000/50000 [==============================] - 6s 126us/step - loss: 0.3400 - acc: 0.8779 - val_loss: 2.7875 - val_acc: 0.5076\n",
      "Epoch 87/100\n",
      "50000/50000 [==============================] - 6s 125us/step - loss: 0.3194 - acc: 0.8859 - val_loss: 2.8225 - val_acc: 0.5087\n",
      "Epoch 88/100\n",
      "50000/50000 [==============================] - 6s 126us/step - loss: 0.3386 - acc: 0.8780 - val_loss: 2.8162 - val_acc: 0.5024\n",
      "Epoch 89/100\n",
      "50000/50000 [==============================] - 6s 125us/step - loss: 0.3485 - acc: 0.8766 - val_loss: 2.7879 - val_acc: 0.5015\n",
      "Epoch 90/100\n",
      "50000/50000 [==============================] - 6s 126us/step - loss: 0.3055 - acc: 0.8913 - val_loss: 2.9560 - val_acc: 0.5030\n",
      "Epoch 91/100\n",
      "50000/50000 [==============================] - 6s 125us/step - loss: 0.3306 - acc: 0.8799 - val_loss: 2.8558 - val_acc: 0.5029\n",
      "Epoch 92/100\n",
      "50000/50000 [==============================] - 6s 125us/step - loss: 0.3128 - acc: 0.8876 - val_loss: 2.9166 - val_acc: 0.5046\n",
      "Epoch 93/100\n",
      "50000/50000 [==============================] - 6s 126us/step - loss: 0.3079 - acc: 0.8882 - val_loss: 2.9509 - val_acc: 0.5002\n",
      "Epoch 94/100\n",
      "50000/50000 [==============================] - 6s 126us/step - loss: 0.3288 - acc: 0.8816 - val_loss: 2.9196 - val_acc: 0.5066\n",
      "Epoch 95/100\n",
      "50000/50000 [==============================] - 6s 126us/step - loss: 0.2948 - acc: 0.8949 - val_loss: 3.0275 - val_acc: 0.5044\n",
      "Epoch 96/100\n",
      "50000/50000 [==============================] - 6s 125us/step - loss: 0.2759 - acc: 0.9016 - val_loss: 2.9849 - val_acc: 0.5034\n",
      "Epoch 97/100\n",
      "50000/50000 [==============================] - 6s 125us/step - loss: 0.3004 - acc: 0.8916 - val_loss: 3.0203 - val_acc: 0.4967\n",
      "Epoch 98/100\n",
      "50000/50000 [==============================] - 6s 127us/step - loss: 0.3114 - acc: 0.8881 - val_loss: 3.0027 - val_acc: 0.5053\n",
      "Epoch 99/100\n",
      "50000/50000 [==============================] - 6s 125us/step - loss: 0.2693 - acc: 0.9038 - val_loss: 3.0697 - val_acc: 0.4975\n",
      "Epoch 100/100\n",
      "50000/50000 [==============================] - 6s 125us/step - loss: 0.2760 - acc: 0.9012 - val_loss: 3.1543 - val_acc: 0.4951\n"
     ]
    },
    {
     "data": {
      "text/plain": [
       "<keras.callbacks.History at 0x2958ec8d160>"
      ]
     },
     "execution_count": 6,
     "metadata": {},
     "output_type": "execute_result"
    }
   ],
   "source": [
    "# 訓練模型並檢視驗證集的結果\n",
    "model.fit(x_train, y_train, \n",
    "          epochs=100, \n",
    "          batch_size=256, \n",
    "          validation_data=(x_test, y_test), \n",
    "          shuffle=True)"
   ]
  },
  {
   "cell_type": "code",
   "execution_count": 9,
   "metadata": {},
   "outputs": [
    {
     "data": {
      "image/png": "[encoded data removed]",
      "text/plain": [
       "<Figure size 432x288 with 1 Axes>"
      ]
     },
     "metadata": {
      "needs_background": "light"
     },
     "output_type": "display_data"
    },
    {
     "data": {
      "image/png": "[encoded data removed]",
      "text/plain": [
       "<Figure size 432x288 with 1 Axes>"
      ]
     },
     "metadata": {
      "needs_background": "light"
     },
     "output_type": "display_data"
    }
   ],
   "source": [
    "# 以視覺畫方式檢視訓練過程\n",
    "import matplotlib.pyplot as plt\n",
    "%matplotlib inline\n",
    "\n",
    "train_loss = model.history.history[\"loss\"]\n",
    "valid_loss = model.history.history[\"val_loss\"]\n",
    "\n",
    "train_acc = model.history.history[\"acc\"]\n",
    "valid_acc = model.history.history[\"val_acc\"]\n",
    "\n",
    "plt.plot(range(len(train_loss)), train_loss, label=\"train loss\")\n",
    "plt.plot(range(len(valid_loss)), valid_loss, label=\"valid loss\")\n",
    "plt.legend()\n",
    "plt.title(\"Loss\")\n",
    "plt.show()\n",
    "\n",
    "plt.plot(range(len(train_acc)), train_acc, label=\"train accuracy\")\n",
    "plt.plot(range(len(valid_acc)), valid_acc, label=\"valid accuracy\")\n",
    "plt.legend()\n",
    "plt.title(\"Accuracy\")\n",
    "plt.show()"
   ]
  },
  {
   "cell_type": "code",
   "execution_count": null,
   "metadata": {},
   "outputs": [],
   "source": []
  }
 ],
 "metadata": {
  "kernelspec": {
   "display_name": "Python (tensorflow-gpu)",
   "language": "python",
   "name": "tensorflow-gpu"
  },
  "language_info": {
   "codemirror_mode": {
    "name": "ipython",
    "version": 3
   },
   "file_extension": ".py",
   "mimetype": "text/x-python",
   "name": "python",
   "nbconvert_exporter": "python",
   "pygments_lexer": "ipython3",
   "version": "3.6.8"
  }
 },
 "nbformat": 4,
 "nbformat_minor": 2
}
